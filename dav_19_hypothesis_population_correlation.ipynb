{
 "cells": [
  {
   "cell_type": "markdown",
   "metadata": {},
   "source": [
    "# <font color='maroon'>Hypothesis testing for population correlation</font>"
   ]
  },
  {
   "cell_type": "markdown",
   "metadata": {},
   "source": [
    "## Michael NANA KAMENI"
   ]
  },
  {
   "cell_type": "markdown",
   "metadata": {},
   "source": [
    "We suspect that a linear relationship exists between the `Weight` and `BMI` of WNBA players in our data. Does this relationship extend to the population? We would like to draw a conclusion from this sample about the population. In this lesson we study how to set up hypothesis test for the population correlation coefficient, usually denoted $\\rho$."
   ]
  },
  {
   "cell_type": "markdown",
   "metadata": {},
   "source": [
    "So far, we were able to measure the strength of a relationship between two variables with the sample coefficient of correlation $r$. We also learned the following:\n",
    "\n",
    "$$ -1 \\leq r \\leq +1.$$\n",
    "\n",
    "When $r  = 0$, no correlation exists between the variables.\n",
    "\n",
    "When $r > 0$, there is a positive correlation.\n",
    "\n",
    "When $r < 0$, a negative correlation exists.\n",
    "\n",
    "If we use the data to make predictions, $r$ should be close to $+1$ or $-1$.  How close to +1 or -1 must $r$ be to show statistically significant correlation? We need to set up a hypothesis test for the population coefficient correlation $\\rho$. We use the sample correlation coefficient $r$ to estimate the true population correlation coefficient. \n",
    "\n",
    "So is there a linear relationship between the  `Weight` and `BMI` in our data. We set up the test such that the null hypothesis states there is no correlation between the two variables, $$H_0: \\rho = 0$$ against the alternative that $$H_1: \\rho \\neq 0.$$ The alternative hypothesis is a two-sided hypothesis because we are looking at positive and negative correlations, and we are dealing with $n-2$ degrees of freedom. "
   ]
  },
  {
   "cell_type": "markdown",
   "metadata": {},
   "source": [
    "### Example\n",
    "\n",
    "Let's look at a hypothetical example. Let's generate some data with two variables $x$ and $y$. And plot it. And determine its correlation coefficient."
   ]
  },
  {
   "cell_type": "code",
   "execution_count": 1,
   "metadata": {},
   "outputs": [],
   "source": [
    "import numpy as np\n",
    "import pandas as pd\n",
    "import scipy.stats as stats"
   ]
  },
  {
   "cell_type": "code",
   "execution_count": 2,
   "metadata": {},
   "outputs": [],
   "source": [
    "%matplotlib inline"
   ]
  },
  {
   "cell_type": "code",
   "execution_count": 3,
   "metadata": {},
   "outputs": [],
   "source": [
    "x = np.linspace(-5,5,100) # generate 20 data points between -5 and 5\n",
    "noise = np.random.normal(size=x.shape) # generate some random noise\n",
    "y = 3*x + noise # add the noise to the linear relation between x and y\n",
    "data = pd.DataFrame({'x': x, 'y':y})"
   ]
  },
  {
   "cell_type": "markdown",
   "metadata": {},
   "source": [
    "There is a linear relationship between $x$ and $y$, which is clear from the equation we've chosen for $y$. But to see this, we plot a scatter plot. "
   ]
  },
  {
   "cell_type": "code",
   "execution_count": 4,
   "metadata": {},
   "outputs": [
    {
     "data": {
      "text/plain": [
       "<matplotlib.axes._subplots.AxesSubplot at 0x129e866d0>"
      ]
     },
     "execution_count": 4,
     "metadata": {},
     "output_type": "execute_result"
    },
    {
     "data": {
      "image/png": "[encoded data removed]",
      "text/plain": [
       "<Figure size 720x360 with 1 Axes>"
      ]
     },
     "metadata": {
      "needs_background": "light"
     },
     "output_type": "display_data"
    }
   ],
   "source": [
    "data.plot(kind='scatter', x='x', y='y', figsize=(10,5))"
   ]
  },
  {
   "cell_type": "code",
   "execution_count": 11,
   "metadata": {},
   "outputs": [
    {
     "data": {
      "text/plain": [
       "<seaborn.axisgrid.FacetGrid at 0x12a709890>"
      ]
     },
     "execution_count": 11,
     "metadata": {},
     "output_type": "execute_result"
    },
    {
     "data": {
      "image/png": "[encoded data removed]",
      "text/plain": [
       "<Figure size 360x360 with 1 Axes>"
      ]
     },
     "metadata": {
      "needs_background": "light"
     },
     "output_type": "display_data"
    }
   ],
   "source": [
    "import seaborn as sns\n",
    "sns.relplot(kind ='scatter', data = data, x ='x',y= 'y')"
   ]
  },
  {
   "cell_type": "markdown",
   "metadata": {},
   "source": [
    "We observe linearity in the data. \n",
    "\n",
    "We can calculate the sample coefficient and conduct a two-sided hypothesis test.\n",
    "\n",
    "The null hypothesis $H_0: \\rho = 0$.\n",
    "\n",
    "The alternative hypothesis is $H_1: \\rho \\neq 0$.\n",
    "\n",
    "We use a significance level of 5% for our test. \n",
    "\n",
    "We can calculate the sample coefficient $r$ and p-value for testing non-correlation using a Pearson correlation test."
   ]
  },
  {
   "cell_type": "code",
   "execution_count": 12,
   "metadata": {},
   "outputs": [],
   "source": [
    "r, p = stats.pearsonr(x,y)"
   ]
  },
  {
   "cell_type": "markdown",
   "metadata": {},
   "source": [
    "The `pearsonr()` returns the test statistic and a 2-tailed p-value. "
   ]
  },
  {
   "cell_type": "code",
   "execution_count": 13,
   "metadata": {},
   "outputs": [
    {
     "data": {
      "text/plain": [
       "(0.9928427575115074, 2.9173954265544067e-92)"
      ]
     },
     "execution_count": 13,
     "metadata": {},
     "output_type": "execute_result"
    }
   ],
   "source": [
    "r, p"
   ]
  },
  {
   "cell_type": "markdown",
   "metadata": {},
   "source": [
    "We obtain the a test statistic r = 0.9924 and a p-value of 4.538348064411579e-91. We have a very small p-value, which means we can reject the null hypothesis. We have significant statistical evidence at the 5% significance level to conclude that there is a linear relationship between $x$ and $y$. The positive correlation coefficient of 0.9924 suggests that as $x$ increases, $y$ increases as well. This is not surprising as we saw from the visualization of the data."
   ]
  },
  {
   "cell_type": "markdown",
   "metadata": {},
   "source": [
    "### Exercise"
   ]
  },
  {
   "cell_type": "markdown",
   "metadata": {
    "collapsed": true
   },
   "source": [
    "Given the dataset with `Weight` and `Metabolic rate`, is the population correlation zero? Set up a hypothesis and test it. Discuss your results. \n",
    "\n"
   ]
  },
  {
   "cell_type": "markdown",
   "metadata": {
    "collapsed": true
   },
   "source": [
    "# Is the population correlation zero? \n",
    "\n",
    "# Test Hypothesis\n",
    "\n",
    "Let's define the test hypothesis.\n",
    "\n",
    "The null hypothesis $H_0: \\rho = 0$, Where  $\\rho$ is the correlation coefficient.\n",
    "\n",
    "The alternative hypothesis: $H_1: \\rho \\neq 0$. \n",
    "\n",
    "With a significance level of 5% for our test, if we obtain a  correlation coefficient of $\\rho$ is less than <b>0.05</b> then we reject the null hypothesis else then the null hypothesis is accepted. \n",
    "In case the correlation coefficient $\\rho$= 0 there is not relation between <b>weight</b> and <b>Metabolic rate</b>. In contrary, if $\\rho \\neq 0$, there is two alternative. Either the test statictic <b>r>0</b> in which case there will be a <b>postive</b> relation between Weight and Metabolic rate, that means <b>if weight increases, the Metabolic rate increases as well</b> nor the test statistic is <b> $r<0$ </b> in which case there will be a <b>negative</b> relation between Weight and Metabolic rate, that means <b>if weight increases, the metabolic rate decreases and vice versa</b>."
   ]
  },
  {
   "cell_type": "code",
   "execution_count": 15,
   "metadata": {},
   "outputs": [
    {
     "data": {
      "text/html": [
       "<div>\n",
       "<style scoped>\n",
       "    .dataframe tbody tr th:only-of-type {\n",
       "        vertical-align: middle;\n",
       "    }\n",
       "\n",
       "    .dataframe tbody tr th {\n",
       "        vertical-align: top;\n",
       "    }\n",
       "\n",
       "    .dataframe thead th {\n",
       "        text-align: right;\n",
       "    }\n",
       "</style>\n",
       "<table border=\"1\" class=\"dataframe\">\n",
       "  <thead>\n",
       "    <tr style=\"text-align: right;\">\n",
       "      <th></th>\n",
       "      <th>Body weight</th>\n",
       "      <th>Metabolic rate</th>\n",
       "    </tr>\n",
       "  </thead>\n",
       "  <tbody>\n",
       "    <tr>\n",
       "      <td>0</td>\n",
       "      <td>49.9</td>\n",
       "      <td>1079</td>\n",
       "    </tr>\n",
       "    <tr>\n",
       "      <td>1</td>\n",
       "      <td>50.8</td>\n",
       "      <td>1146</td>\n",
       "    </tr>\n",
       "    <tr>\n",
       "      <td>2</td>\n",
       "      <td>51.8</td>\n",
       "      <td>1115</td>\n",
       "    </tr>\n",
       "    <tr>\n",
       "      <td>3</td>\n",
       "      <td>52.6</td>\n",
       "      <td>1161</td>\n",
       "    </tr>\n",
       "    <tr>\n",
       "      <td>4</td>\n",
       "      <td>57.6</td>\n",
       "      <td>1325</td>\n",
       "    </tr>\n",
       "    <tr>\n",
       "      <td>5</td>\n",
       "      <td>61.4</td>\n",
       "      <td>1351</td>\n",
       "    </tr>\n",
       "    <tr>\n",
       "      <td>6</td>\n",
       "      <td>62.3</td>\n",
       "      <td>1402</td>\n",
       "    </tr>\n",
       "    <tr>\n",
       "      <td>7</td>\n",
       "      <td>64.9</td>\n",
       "      <td>1365</td>\n",
       "    </tr>\n",
       "    <tr>\n",
       "      <td>8</td>\n",
       "      <td>43.1</td>\n",
       "      <td>870</td>\n",
       "    </tr>\n",
       "    <tr>\n",
       "      <td>9</td>\n",
       "      <td>48.1</td>\n",
       "      <td>1372</td>\n",
       "    </tr>\n",
       "    <tr>\n",
       "      <td>10</td>\n",
       "      <td>52.2</td>\n",
       "      <td>1132</td>\n",
       "    </tr>\n",
       "    <tr>\n",
       "      <td>11</td>\n",
       "      <td>53.5</td>\n",
       "      <td>1172</td>\n",
       "    </tr>\n",
       "    <tr>\n",
       "      <td>12</td>\n",
       "      <td>55.0</td>\n",
       "      <td>1034</td>\n",
       "    </tr>\n",
       "    <tr>\n",
       "      <td>13</td>\n",
       "      <td>55.0</td>\n",
       "      <td>1155</td>\n",
       "    </tr>\n",
       "    <tr>\n",
       "      <td>14</td>\n",
       "      <td>56.0</td>\n",
       "      <td>1392</td>\n",
       "    </tr>\n",
       "    <tr>\n",
       "      <td>15</td>\n",
       "      <td>57.8</td>\n",
       "      <td>1090</td>\n",
       "    </tr>\n",
       "    <tr>\n",
       "      <td>16</td>\n",
       "      <td>59.0</td>\n",
       "      <td>982</td>\n",
       "    </tr>\n",
       "    <tr>\n",
       "      <td>17</td>\n",
       "      <td>59.0</td>\n",
       "      <td>1178</td>\n",
       "    </tr>\n",
       "    <tr>\n",
       "      <td>18</td>\n",
       "      <td>59.2</td>\n",
       "      <td>1342</td>\n",
       "    </tr>\n",
       "    <tr>\n",
       "      <td>19</td>\n",
       "      <td>59.5</td>\n",
       "      <td>1027</td>\n",
       "    </tr>\n",
       "    <tr>\n",
       "      <td>20</td>\n",
       "      <td>60.0</td>\n",
       "      <td>1316</td>\n",
       "    </tr>\n",
       "    <tr>\n",
       "      <td>21</td>\n",
       "      <td>62.1</td>\n",
       "      <td>1574</td>\n",
       "    </tr>\n",
       "    <tr>\n",
       "      <td>22</td>\n",
       "      <td>64.9</td>\n",
       "      <td>1526</td>\n",
       "    </tr>\n",
       "    <tr>\n",
       "      <td>23</td>\n",
       "      <td>66.0</td>\n",
       "      <td>1268</td>\n",
       "    </tr>\n",
       "    <tr>\n",
       "      <td>24</td>\n",
       "      <td>66.4</td>\n",
       "      <td>1205</td>\n",
       "    </tr>\n",
       "    <tr>\n",
       "      <td>25</td>\n",
       "      <td>72.8</td>\n",
       "      <td>1382</td>\n",
       "    </tr>\n",
       "    <tr>\n",
       "      <td>26</td>\n",
       "      <td>74.8</td>\n",
       "      <td>1273</td>\n",
       "    </tr>\n",
       "    <tr>\n",
       "      <td>27</td>\n",
       "      <td>77.1</td>\n",
       "      <td>1439</td>\n",
       "    </tr>\n",
       "    <tr>\n",
       "      <td>28</td>\n",
       "      <td>82.0</td>\n",
       "      <td>1536</td>\n",
       "    </tr>\n",
       "    <tr>\n",
       "      <td>29</td>\n",
       "      <td>82.0</td>\n",
       "      <td>1151</td>\n",
       "    </tr>\n",
       "    <tr>\n",
       "      <td>30</td>\n",
       "      <td>83.4</td>\n",
       "      <td>1248</td>\n",
       "    </tr>\n",
       "    <tr>\n",
       "      <td>31</td>\n",
       "      <td>86.2</td>\n",
       "      <td>1466</td>\n",
       "    </tr>\n",
       "    <tr>\n",
       "      <td>32</td>\n",
       "      <td>88.6</td>\n",
       "      <td>1323</td>\n",
       "    </tr>\n",
       "    <tr>\n",
       "      <td>33</td>\n",
       "      <td>89.3</td>\n",
       "      <td>1300</td>\n",
       "    </tr>\n",
       "    <tr>\n",
       "      <td>34</td>\n",
       "      <td>91.6</td>\n",
       "      <td>1519</td>\n",
       "    </tr>\n",
       "    <tr>\n",
       "      <td>35</td>\n",
       "      <td>99.8</td>\n",
       "      <td>1639</td>\n",
       "    </tr>\n",
       "    <tr>\n",
       "      <td>36</td>\n",
       "      <td>103.0</td>\n",
       "      <td>1382</td>\n",
       "    </tr>\n",
       "    <tr>\n",
       "      <td>37</td>\n",
       "      <td>104.5</td>\n",
       "      <td>1414</td>\n",
       "    </tr>\n",
       "    <tr>\n",
       "      <td>38</td>\n",
       "      <td>107.7</td>\n",
       "      <td>1473</td>\n",
       "    </tr>\n",
       "    <tr>\n",
       "      <td>39</td>\n",
       "      <td>110.2</td>\n",
       "      <td>2074</td>\n",
       "    </tr>\n",
       "    <tr>\n",
       "      <td>40</td>\n",
       "      <td>122.0</td>\n",
       "      <td>1777</td>\n",
       "    </tr>\n",
       "    <tr>\n",
       "      <td>41</td>\n",
       "      <td>123.1</td>\n",
       "      <td>1640</td>\n",
       "    </tr>\n",
       "    <tr>\n",
       "      <td>42</td>\n",
       "      <td>125.2</td>\n",
       "      <td>1630</td>\n",
       "    </tr>\n",
       "    <tr>\n",
       "      <td>43</td>\n",
       "      <td>143.3</td>\n",
       "      <td>1708</td>\n",
       "    </tr>\n",
       "  </tbody>\n",
       "</table>\n",
       "</div>"
      ],
      "text/plain": [
       "    Body weight  Metabolic rate\n",
       "0          49.9            1079\n",
       "1          50.8            1146\n",
       "2          51.8            1115\n",
       "3          52.6            1161\n",
       "4          57.6            1325\n",
       "5          61.4            1351\n",
       "6          62.3            1402\n",
       "7          64.9            1365\n",
       "8          43.1             870\n",
       "9          48.1            1372\n",
       "10         52.2            1132\n",
       "11         53.5            1172\n",
       "12         55.0            1034\n",
       "13         55.0            1155\n",
       "14         56.0            1392\n",
       "15         57.8            1090\n",
       "16         59.0             982\n",
       "17         59.0            1178\n",
       "18         59.2            1342\n",
       "19         59.5            1027\n",
       "20         60.0            1316\n",
       "21         62.1            1574\n",
       "22         64.9            1526\n",
       "23         66.0            1268\n",
       "24         66.4            1205\n",
       "25         72.8            1382\n",
       "26         74.8            1273\n",
       "27         77.1            1439\n",
       "28         82.0            1536\n",
       "29         82.0            1151\n",
       "30         83.4            1248\n",
       "31         86.2            1466\n",
       "32         88.6            1323\n",
       "33         89.3            1300\n",
       "34         91.6            1519\n",
       "35         99.8            1639\n",
       "36        103.0            1382\n",
       "37        104.5            1414\n",
       "38        107.7            1473\n",
       "39        110.2            2074\n",
       "40        122.0            1777\n",
       "41        123.1            1640\n",
       "42        125.2            1630\n",
       "43        143.3            1708"
      ]
     },
     "execution_count": 15,
     "metadata": {},
     "output_type": "execute_result"
    }
   ],
   "source": [
    "df = pd.read_csv('weight-and-metabolic.csv', sep =',')\n",
    "df"
   ]
  },
  {
   "cell_type": "markdown",
   "metadata": {},
   "source": [
    "# Visualize Data"
   ]
  },
  {
   "cell_type": "code",
   "execution_count": 16,
   "metadata": {},
   "outputs": [
    {
     "data": {
      "text/plain": [
       "<seaborn.axisgrid.FacetGrid at 0x12a5beb50>"
      ]
     },
     "execution_count": 16,
     "metadata": {},
     "output_type": "execute_result"
    },
    {
     "data": {
      "image/png": "[encoded data removed]",
      "text/plain": [
       "<Figure size 360x360 with 1 Axes>"
      ]
     },
     "metadata": {
      "needs_background": "light"
     },
     "output_type": "display_data"
    }
   ],
   "source": [
    "sns.relplot(kind ='scatter', y ='Body weight', x = 'Metabolic rate', data = df)"
   ]
  },
  {
   "cell_type": "markdown",
   "metadata": {},
   "source": [
    "There is a non linear relationship between  <b>Body weight</b>  and  <b>Metabolic rate</b>, which is clear from the visualisation."
   ]
  },
  {
   "cell_type": "markdown",
   "metadata": {},
   "source": [
    "We can calculate the sample coefficient 𝑟  and p-value for testing non-correlation using a Pearson correlation test."
   ]
  },
  {
   "cell_type": "code",
   "execution_count": 19,
   "metadata": {},
   "outputs": [],
   "source": [
    "mx =df['Metabolic rate']\n",
    "my =df['Body weight']\n",
    "r, p = stats.pearsonr(mx, my)"
   ]
  },
  {
   "cell_type": "code",
   "execution_count": 20,
   "metadata": {},
   "outputs": [
    {
     "data": {
      "text/plain": [
       "(0.7442378582125735, 7.0253804050070795e-09)"
      ]
     },
     "execution_count": 20,
     "metadata": {},
     "output_type": "execute_result"
    }
   ],
   "source": [
    "r,p"
   ]
  },
  {
   "cell_type": "markdown",
   "metadata": {},
   "source": [
    "The null hypothesis is rejecjed. And since, the sample coefficient r>0 in which case there will be a postive relation between Weight and Metabolic rate, that means if weight increases, the Metabolic rate increases as well "
   ]
  }
 ],
 "metadata": {
  "kernelspec": {
   "display_name": "Python 3",
   "language": "python",
   "name": "python3"
  },
  "language_info": {
   "codemirror_mode": {
    "name": "ipython",
    "version": 3
   },
   "file_extension": ".py",
   "mimetype": "text/x-python",
   "name": "python",
   "nbconvert_exporter": "python",
   "pygments_lexer": "ipython3",
   "version": "3.7.4"
  }
 },
 "nbformat": 4,
 "nbformat_minor": 2
}
