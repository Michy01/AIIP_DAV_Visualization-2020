{
 "cells": [
  {
   "cell_type": "markdown",
   "metadata": {},
   "source": [
    "# Chi-Squared test of independence\n",
    "\n",
    "## Michael NANA KAMENI\n",
    "\n",
    "Following from our earlier example, is the way a business collects marketing data independent of the responses to the marketing strategies to target customers? We can use a chi-squared test to test for independence. We use data from [THE INFLUENCE OF MARKETING INTELLIGENCE ON PERFORMANCES OF ROMANIAN RETAILERS](http://conferinta.management.ase.ro/archives/2014/pdf/32.pdf). Romanian retailers want to promote a new eco-label product. They consider how to promote the new eco-label using three marketing strategies -- strategic, tactical and operational strategies. Are these strategies independent of the way marketing information was collected for each of the strategies?\n",
    "\n",
    "### The data\n",
    "The data comes from the [paper](http://conferinta.management.ase.ro/archives/2014/pdf/32.pdf). There are three different marketing strategies, namely strategic, tactical and operational. There are three sources of marketing intelligence, namely the retail sector, promotion events and information from competitors. "
   ]
  },
  {
   "cell_type": "code",
   "execution_count": 1,
   "metadata": {},
   "outputs": [],
   "source": [
    "import pandas as pd\n",
    "import scipy.stats as stats"
   ]
  },
  {
   "cell_type": "code",
   "execution_count": 2,
   "metadata": {},
   "outputs": [],
   "source": [
    "%matplotlib inline"
   ]
  },
  {
   "cell_type": "code",
   "execution_count": 3,
   "metadata": {},
   "outputs": [
    {
     "data": {
      "text/html": [
       "<div>\n",
       "<style scoped>\n",
       "    .dataframe tbody tr th:only-of-type {\n",
       "        vertical-align: middle;\n",
       "    }\n",
       "\n",
       "    .dataframe tbody tr th {\n",
       "        vertical-align: top;\n",
       "    }\n",
       "\n",
       "    .dataframe thead th {\n",
       "        text-align: right;\n",
       "    }\n",
       "</style>\n",
       "<table border=\"1\" class=\"dataframe\">\n",
       "  <thead>\n",
       "    <tr style=\"text-align: right;\">\n",
       "      <th></th>\n",
       "      <th>intelligence</th>\n",
       "      <th>strategy</th>\n",
       "      <th>scores</th>\n",
       "    </tr>\n",
       "  </thead>\n",
       "  <tbody>\n",
       "    <tr>\n",
       "      <td>0</td>\n",
       "      <td>retail</td>\n",
       "      <td>strategic</td>\n",
       "      <td>13</td>\n",
       "    </tr>\n",
       "    <tr>\n",
       "      <td>1</td>\n",
       "      <td>retail</td>\n",
       "      <td>tactical</td>\n",
       "      <td>9</td>\n",
       "    </tr>\n",
       "    <tr>\n",
       "      <td>2</td>\n",
       "      <td>retail</td>\n",
       "      <td>operational</td>\n",
       "      <td>17</td>\n",
       "    </tr>\n",
       "    <tr>\n",
       "      <td>3</td>\n",
       "      <td>promotion</td>\n",
       "      <td>strategic</td>\n",
       "      <td>8</td>\n",
       "    </tr>\n",
       "    <tr>\n",
       "      <td>4</td>\n",
       "      <td>promotion</td>\n",
       "      <td>tactical</td>\n",
       "      <td>12</td>\n",
       "    </tr>\n",
       "    <tr>\n",
       "      <td>5</td>\n",
       "      <td>promotion</td>\n",
       "      <td>operational</td>\n",
       "      <td>15</td>\n",
       "    </tr>\n",
       "    <tr>\n",
       "      <td>6</td>\n",
       "      <td>competitors</td>\n",
       "      <td>strategic</td>\n",
       "      <td>3</td>\n",
       "    </tr>\n",
       "    <tr>\n",
       "      <td>7</td>\n",
       "      <td>competitors</td>\n",
       "      <td>tactical</td>\n",
       "      <td>7</td>\n",
       "    </tr>\n",
       "    <tr>\n",
       "      <td>8</td>\n",
       "      <td>competitors</td>\n",
       "      <td>operational</td>\n",
       "      <td>6</td>\n",
       "    </tr>\n",
       "  </tbody>\n",
       "</table>\n",
       "</div>"
      ],
      "text/plain": [
       "  intelligence     strategy  scores\n",
       "0       retail    strategic      13\n",
       "1       retail     tactical       9\n",
       "2       retail  operational      17\n",
       "3    promotion    strategic       8\n",
       "4    promotion     tactical      12\n",
       "5    promotion  operational      15\n",
       "6  competitors    strategic       3\n",
       "7  competitors     tactical       7\n",
       "8  competitors  operational       6"
      ]
     },
     "execution_count": 3,
     "metadata": {},
     "output_type": "execute_result"
    }
   ],
   "source": [
    "raw_data = {'intelligence': ['retail', 'retail', 'retail', 'promotion', 'promotion', 'promotion', 'competitors', 'competitors', 'competitors'], \n",
    "        'strategy': ['strategic', 'tactical', 'operational', 'strategic', 'tactical', 'operational', 'strategic', 'tactical', 'operational'], \n",
    "        'scores':[13,9,17,8,12,15,3,7,6]}\n",
    "data = pd.DataFrame(raw_data, columns = ['intelligence', 'strategy', 'scores'])\n",
    "data"
   ]
  },
  {
   "cell_type": "markdown",
   "metadata": {},
   "source": [
    "Create a pivot table of the entries. The pivot table is contingency table we can apply the chi-squared test."
   ]
  },
  {
   "cell_type": "code",
   "execution_count": 4,
   "metadata": {},
   "outputs": [
    {
     "data": {
      "text/html": [
       "<div>\n",
       "<style scoped>\n",
       "    .dataframe tbody tr th:only-of-type {\n",
       "        vertical-align: middle;\n",
       "    }\n",
       "\n",
       "    .dataframe tbody tr th {\n",
       "        vertical-align: top;\n",
       "    }\n",
       "\n",
       "    .dataframe thead tr th {\n",
       "        text-align: left;\n",
       "    }\n",
       "\n",
       "    .dataframe thead tr:last-of-type th {\n",
       "        text-align: right;\n",
       "    }\n",
       "</style>\n",
       "<table border=\"1\" class=\"dataframe\">\n",
       "  <thead>\n",
       "    <tr>\n",
       "      <th></th>\n",
       "      <th colspan=\"3\" halign=\"left\">scores</th>\n",
       "    </tr>\n",
       "    <tr>\n",
       "      <th>strategy</th>\n",
       "      <th>operational</th>\n",
       "      <th>strategic</th>\n",
       "      <th>tactical</th>\n",
       "    </tr>\n",
       "    <tr>\n",
       "      <th>intelligence</th>\n",
       "      <th></th>\n",
       "      <th></th>\n",
       "      <th></th>\n",
       "    </tr>\n",
       "  </thead>\n",
       "  <tbody>\n",
       "    <tr>\n",
       "      <td>competitors</td>\n",
       "      <td>6</td>\n",
       "      <td>3</td>\n",
       "      <td>7</td>\n",
       "    </tr>\n",
       "    <tr>\n",
       "      <td>promotion</td>\n",
       "      <td>15</td>\n",
       "      <td>8</td>\n",
       "      <td>12</td>\n",
       "    </tr>\n",
       "    <tr>\n",
       "      <td>retail</td>\n",
       "      <td>17</td>\n",
       "      <td>13</td>\n",
       "      <td>9</td>\n",
       "    </tr>\n",
       "  </tbody>\n",
       "</table>\n",
       "</div>"
      ],
      "text/plain": [
       "                  scores                   \n",
       "strategy     operational strategic tactical\n",
       "intelligence                               \n",
       "competitors            6         3        7\n",
       "promotion             15         8       12\n",
       "retail                17        13        9"
      ]
     },
     "execution_count": 4,
     "metadata": {},
     "output_type": "execute_result"
    }
   ],
   "source": [
    "observed= data.pivot(index='intelligence', columns='strategy')\n",
    "observed"
   ]
  },
  {
   "cell_type": "markdown",
   "metadata": {
    "collapsed": true
   },
   "source": [
    "### The hypothesis\n",
    "\n",
    "We state the null and alternative hypothesis as follows:\n",
    "\n",
    "$H_0:$ the marketing strategy is independent of the source of marketing intelligence.\n",
    "\n",
    "$H_1:$ the marketing strategy is not independent of the source of marketing intelligence.\n",
    "\n",
    "We use a 5% significance level to test the null hypothesis."
   ]
  },
  {
   "cell_type": "code",
   "execution_count": 5,
   "metadata": {},
   "outputs": [
    {
     "name": "stdout",
     "output_type": "stream",
     "text": [
      "Test statistic 3.0657003945302814\n",
      "p-value 0.5468914357195986\n"
     ]
    }
   ],
   "source": [
    "t, p, l, a = stats.chi2_contingency(observed=observed)\n",
    "print('Test statistic', t)\n",
    "print('p-value', p)"
   ]
  },
  {
   "cell_type": "markdown",
   "metadata": {},
   "source": [
    "### The results\n",
    "\n",
    "A p value of 0.5468 indicates strong support for the null hypothesis. There is strong support to indicate that the marketing strategy is independent of the source of marketing intelligence. "
   ]
  },
  {
   "cell_type": "markdown",
   "metadata": {},
   "source": [
    "### Exercise\n",
    "\n",
    "Now that you have seen a chi-square test for independence applied to the marketing strategy example, let's try another example to see how well you understood the concepts. For this exercise, we present you with two candidates who stood for election. Shown are the number of people who voted for them by age-group. Answer the questions that follow to apply chi-square test for independence yourself.\n",
    "<table class=\"MsoTable15Plain3\" style=\"border-collapse: collapse; mso-yfti-tbllook: 1184; mso-padding-alt: 0cm 5.4pt 0cm 5.4pt;\" border=\"0\" cellspacing=\"0\" cellpadding=\"0\">\n",
    "<tbody>\n",
    "<tr style=\"mso-yfti-irow: -1; mso-yfti-firstrow: yes; mso-yfti-lastfirstrow: yes;\">\n",
    "<td style=\"width: 150.15pt; border: none; border-bottom: solid #7F7F7F 1.0pt; mso-border-bottom-themecolor: text1; mso-border-bottom-themetint: 128; mso-border-bottom-alt: solid #7F7F7F .5pt; padding: 0cm 5.4pt 0cm 5.4pt;\" width=\"150\" valign=\"top\">\n",
    "<p class=\"MsoNormal\" style=\"mso-yfti-cnfc: 517;\"><b><span style=\"text-transform: uppercase;\">&nbsp;</span></b></p>\n",
    "</td>\n",
    "<td style=\"width: 150.15pt; border: none; border-bottom: solid #7F7F7F 1.0pt; mso-border-bottom-themecolor: text1; mso-border-bottom-themetint: 128; mso-border-bottom-alt: solid #7F7F7F .5pt; padding: 0cm 5.4pt 0cm 5.4pt;\" width=\"150\" valign=\"top\">\n",
    "<p class=\"MsoNormal\" style=\"mso-yfti-cnfc: 1;\"><b><span style=\"text-transform: uppercase;\">candidate A</span></b></p>\n",
    "</td>\n",
    "<td style=\"width: 150.2pt; border: none; border-bottom: solid #7F7F7F 1.0pt; mso-border-bottom-themecolor: text1; mso-border-bottom-themetint: 128; mso-border-bottom-alt: solid #7F7F7F .5pt; padding: 0cm 5.4pt 0cm 5.4pt;\" width=\"150\" valign=\"top\">\n",
    "<p class=\"MsoNormal\" style=\"mso-yfti-cnfc: 1;\"><b><span style=\"text-transform: uppercase;\">candidate B</span></b></p>\n",
    "</td>\n",
    "</tr>\n",
    "<tr style=\"mso-yfti-irow: 0;\">\n",
    "<td style=\"width: 150.15pt; border: none; border-right: solid #7F7F7F 1.0pt; mso-border-right-themecolor: text1; mso-border-right-themetint: 128; mso-border-right-alt: solid #7F7F7F .5pt; background: #F2F2F2; mso-background-themecolor: background1; mso-background-themeshade: 242; padding: 0cm 5.4pt 0cm 5.4pt;\" width=\"150\" valign=\"top\">\n",
    "<p class=\"MsoNormal\" style=\"mso-yfti-cnfc: 68;\"><b><span style=\"text-transform: uppercase;\">18-25</span></b></p>\n",
    "</td>\n",
    "<td style=\"width: 150.15pt; background: #F2F2F2; mso-background-themecolor: background1; mso-background-themeshade: 242; padding: 0cm 5.4pt 0cm 5.4pt;\" width=\"150\" valign=\"top\">\n",
    "<p class=\"MsoNormal\" style=\"mso-yfti-cnfc: 64;\">2670</p>\n",
    "</td>\n",
    "<td style=\"width: 150.2pt; background: #F2F2F2; mso-background-themecolor: background1; mso-background-themeshade: 242; padding: 0cm 5.4pt 0cm 5.4pt;\" width=\"150\" valign=\"top\">\n",
    "<p class=\"MsoNormal\" style=\"mso-yfti-cnfc: 64;\">1560</p>\n",
    "</td>\n",
    "</tr>\n",
    "<tr style=\"mso-yfti-irow: 1; mso-yfti-lastrow: yes;\">\n",
    "<td style=\"width: 150.15pt; border: none; border-right: solid #7F7F7F 1.0pt; mso-border-right-themecolor: text1; mso-border-right-themetint: 128; mso-border-right-alt: solid #7F7F7F .5pt; padding: 0cm 5.4pt 0cm 5.4pt;\" width=\"150\" valign=\"top\">\n",
    "<p class=\"MsoNormal\" style=\"mso-yfti-cnfc: 4;\"><b><span style=\"text-transform: uppercase;\">25-40</span></b></p>\n",
    "</td>\n",
    "<td style=\"width: 150.15pt; padding: 0cm 5.4pt 0cm 5.4pt;\" width=\"150\" valign=\"top\">\n",
    "<p class=\"MsoNormal\">13578</p>\n",
    "</td>\n",
    "<td style=\"width: 150.2pt; padding: 0cm 5.4pt 0cm 5.4pt;\" width=\"150\" valign=\"top\">\n",
    "<p class=\"MsoNormal\">4121</p>\n",
    "</td>\n",
    "</tr>\n",
    "<tr style=\"mso-yfti-irow: 1; mso-yfti-lastrow: yes;\">\n",
    "<td style=\"width: 150.15pt; border: none; border-right: solid #7F7F7F 1.0pt; mso-border-right-themecolor: text1; mso-border-right-themetint: 128; mso-border-right-alt: solid #7F7F7F .5pt; padding: 0cm 5.4pt 0cm 5.4pt;\" width=\"150\" valign=\"top\">\n",
    "<p class=\"MsoNormal\" style=\"mso-yfti-cnfc: 4;\"><b><span style=\"text-transform: uppercase;\">40-60</span></b></p>\n",
    "</td>\n",
    "<td style=\"width: 150.15pt; padding: 0cm 5.4pt 0cm 5.4pt;\" width=\"150\" valign=\"top\">\n",
    "<p class=\"MsoNormal\">13578</p>\n",
    "</td>\n",
    "<td style=\"width: 150.2pt; padding: 0cm 5.4pt 0cm 5.4pt;\" width=\"150\" valign=\"top\">\n",
    "<p class=\"MsoNormal\">4121</p>\n",
    "</td>\n",
    "</tr>\n",
    "<tr style=\"mso-yfti-irow: 1; mso-yfti-lastrow: yes;\">\n",
    "<td style=\"width: 150.15pt; border: none; border-right: solid #7F7F7F 1.0pt; mso-border-right-themecolor: text1; mso-border-right-themetint: 128; mso-border-right-alt: solid #7F7F7F .5pt; padding: 0cm 5.4pt 0cm 5.4pt;\" width=\"150\" valign=\"top\">\n",
    "<p class=\"MsoNormal\" style=\"mso-yfti-cnfc: 4;\"><b><span style=\"text-transform: uppercase;\">over 60<br /></span></b></p>\n",
    "</td>\n",
    "<td style=\"width: 150.15pt; padding: 0cm 5.4pt 0cm 5.4pt;\" width=\"150\" valign=\"top\">\n",
    "<p class=\"MsoNormal\">13578</p>\n",
    "</td>\n",
    "<td style=\"width: 150.2pt; padding: 0cm 5.4pt 0cm 5.4pt;\" width=\"150\" valign=\"top\">\n",
    "<p class=\"MsoNormal\">4121</p>\n",
    "</td>\n",
    "</tr>\n",
    "</tbody>\n",
    "</table>\n",
    "\n",
    "#### Question 1\n",
    "Determine whether the two categorical variables are independent or whether there is an association."
   ]
  },
  {
   "cell_type": "markdown",
   "metadata": {},
   "source": [
    "#### Question 1.1 \n",
    "State the null and alternative hypothesis"
   ]
  },
  {
   "cell_type": "markdown",
   "metadata": {
    "collapsed": true
   },
   "source": [
    "We state the null and alternative hypothesis as follows:\n",
    "- $H_0$: Age Interval is independant to Candidates.\n",
    "- $H_1$: Age Interval is not independant to Candidates.\n",
    "\n",
    "We use a 5% significance level to test the null hypothesis."
   ]
  },
  {
   "cell_type": "markdown",
   "metadata": {},
   "source": [
    "#### Qeustion 1.2\n",
    "Conduct the hypothesis test and interpret your results."
   ]
  },
  {
   "cell_type": "code",
   "execution_count": 6,
   "metadata": {},
   "outputs": [
    {
     "data": {
      "text/html": [
       "<div>\n",
       "<style scoped>\n",
       "    .dataframe tbody tr th:only-of-type {\n",
       "        vertical-align: middle;\n",
       "    }\n",
       "\n",
       "    .dataframe tbody tr th {\n",
       "        vertical-align: top;\n",
       "    }\n",
       "\n",
       "    .dataframe thead th {\n",
       "        text-align: right;\n",
       "    }\n",
       "</style>\n",
       "<table border=\"1\" class=\"dataframe\">\n",
       "  <thead>\n",
       "    <tr style=\"text-align: right;\">\n",
       "      <th></th>\n",
       "      <th>Interval of electors Age</th>\n",
       "      <th>Candidates</th>\n",
       "      <th>scores</th>\n",
       "    </tr>\n",
       "  </thead>\n",
       "  <tbody>\n",
       "    <tr>\n",
       "      <td>0</td>\n",
       "      <td>18-25</td>\n",
       "      <td>CANDIDATE A</td>\n",
       "      <td>2670</td>\n",
       "    </tr>\n",
       "    <tr>\n",
       "      <td>1</td>\n",
       "      <td>18-25</td>\n",
       "      <td>CANDIDATE B</td>\n",
       "      <td>1560</td>\n",
       "    </tr>\n",
       "    <tr>\n",
       "      <td>2</td>\n",
       "      <td>25-40</td>\n",
       "      <td>CANDIDATE A</td>\n",
       "      <td>13578</td>\n",
       "    </tr>\n",
       "    <tr>\n",
       "      <td>3</td>\n",
       "      <td>25-40</td>\n",
       "      <td>CANDIDATE B</td>\n",
       "      <td>4121</td>\n",
       "    </tr>\n",
       "    <tr>\n",
       "      <td>4</td>\n",
       "      <td>40-60</td>\n",
       "      <td>CANDIDATE A</td>\n",
       "      <td>13578</td>\n",
       "    </tr>\n",
       "    <tr>\n",
       "      <td>5</td>\n",
       "      <td>40-60</td>\n",
       "      <td>CANDIDATE B</td>\n",
       "      <td>4121</td>\n",
       "    </tr>\n",
       "    <tr>\n",
       "      <td>6</td>\n",
       "      <td>OVER 60</td>\n",
       "      <td>CANDIDATE A</td>\n",
       "      <td>13578</td>\n",
       "    </tr>\n",
       "    <tr>\n",
       "      <td>7</td>\n",
       "      <td>OVER 60</td>\n",
       "      <td>CANDIDATE B</td>\n",
       "      <td>4121</td>\n",
       "    </tr>\n",
       "  </tbody>\n",
       "</table>\n",
       "</div>"
      ],
      "text/plain": [
       "  Interval of electors Age   Candidates  scores\n",
       "0                    18-25  CANDIDATE A    2670\n",
       "1                    18-25  CANDIDATE B    1560\n",
       "2                    25-40  CANDIDATE A   13578\n",
       "3                    25-40  CANDIDATE B    4121\n",
       "4                    40-60  CANDIDATE A   13578\n",
       "5                    40-60  CANDIDATE B    4121\n",
       "6                  OVER 60  CANDIDATE A   13578\n",
       "7                  OVER 60  CANDIDATE B    4121"
      ]
     },
     "execution_count": 6,
     "metadata": {},
     "output_type": "execute_result"
    }
   ],
   "source": [
    "# Let's compute data information into a dataframe \n",
    "raw_data = {'Interval of electors Age': ['18-25', '18-25', '25-40', '25-40', '40-60', '40-60', 'OVER 60', 'OVER 60'], \n",
    "        'Candidates': ['CANDIDATE A', 'CANDIDATE B', 'CANDIDATE A', 'CANDIDATE B', 'CANDIDATE A', 'CANDIDATE B', 'CANDIDATE A', 'CANDIDATE B'], \n",
    "        'scores':[2670,1560,13578,4121,13578,4121,13578,4121]}\n",
    "data = pd.DataFrame(raw_data, columns = ['Interval of electors Age', 'Candidates', 'scores'])\n",
    "data"
   ]
  },
  {
   "cell_type": "markdown",
   "metadata": {},
   "source": [
    "Let's create a pivot table contingency. The pivot table is contingency table where we can apply the chi-square test."
   ]
  },
  {
   "cell_type": "code",
   "execution_count": 7,
   "metadata": {},
   "outputs": [
    {
     "data": {
      "text/html": [
       "<div>\n",
       "<style scoped>\n",
       "    .dataframe tbody tr th:only-of-type {\n",
       "        vertical-align: middle;\n",
       "    }\n",
       "\n",
       "    .dataframe tbody tr th {\n",
       "        vertical-align: top;\n",
       "    }\n",
       "\n",
       "    .dataframe thead tr th {\n",
       "        text-align: left;\n",
       "    }\n",
       "\n",
       "    .dataframe thead tr:last-of-type th {\n",
       "        text-align: right;\n",
       "    }\n",
       "</style>\n",
       "<table border=\"1\" class=\"dataframe\">\n",
       "  <thead>\n",
       "    <tr>\n",
       "      <th></th>\n",
       "      <th colspan=\"2\" halign=\"left\">scores</th>\n",
       "    </tr>\n",
       "    <tr>\n",
       "      <th>Candidates</th>\n",
       "      <th>CANDIDATE A</th>\n",
       "      <th>CANDIDATE B</th>\n",
       "    </tr>\n",
       "    <tr>\n",
       "      <th>Interval of electors Age</th>\n",
       "      <th></th>\n",
       "      <th></th>\n",
       "    </tr>\n",
       "  </thead>\n",
       "  <tbody>\n",
       "    <tr>\n",
       "      <td>18-25</td>\n",
       "      <td>2670</td>\n",
       "      <td>1560</td>\n",
       "    </tr>\n",
       "    <tr>\n",
       "      <td>25-40</td>\n",
       "      <td>13578</td>\n",
       "      <td>4121</td>\n",
       "    </tr>\n",
       "    <tr>\n",
       "      <td>40-60</td>\n",
       "      <td>13578</td>\n",
       "      <td>4121</td>\n",
       "    </tr>\n",
       "    <tr>\n",
       "      <td>OVER 60</td>\n",
       "      <td>13578</td>\n",
       "      <td>4121</td>\n",
       "    </tr>\n",
       "  </tbody>\n",
       "</table>\n",
       "</div>"
      ],
      "text/plain": [
       "                              scores            \n",
       "Candidates               CANDIDATE A CANDIDATE B\n",
       "Interval of electors Age                        \n",
       "18-25                           2670        1560\n",
       "25-40                          13578        4121\n",
       "40-60                          13578        4121\n",
       "OVER 60                        13578        4121"
      ]
     },
     "execution_count": 7,
     "metadata": {},
     "output_type": "execute_result"
    }
   ],
   "source": [
    "observed = data.pivot(index ='Interval of electors Age', columns = 'Candidates')\n",
    "observed"
   ]
  },
  {
   "cell_type": "code",
   "execution_count": 8,
   "metadata": {},
   "outputs": [
    {
     "name": "stdout",
     "output_type": "stream",
     "text": [
      "Test statistic 393.82723297578605\n",
      "p-value 4.810547035582015e-85\n"
     ]
    }
   ],
   "source": [
    "t, p, l, a = stats.chi2_contingency(observed=observed)\n",
    "print('Test statistic', t)\n",
    "print('p-value', p)"
   ]
  },
  {
   "cell_type": "markdown",
   "metadata": {},
   "source": [
    "The result is in support the rejection of the null hypothesis since we have obtain $p \\approx 4.81*\\exp(-85)$ which is very inferior to 0.05. This means Candidates and interval of electors age are associated."
   ]
  },
  {
   "cell_type": "markdown",
   "metadata": {},
   "source": [
    "Now that you have completed this exercise, what are some applications in your work in which this test would be useful. Discuss below."
   ]
  },
  {
   "cell_type": "markdown",
   "metadata": {
    "collapsed": true
   },
   "source": [
    "## [Chi-square test and its application in hypothesis testing](https://www.researchgate.net/publication/277935900_Chi-square_test_and_its_application_in_hypothesis_testing)\n",
    "\n",
    "In medical research, there are studies which often collect data on categorical variables that can be summarized as a series of counts. These counts are commonly arranged in a tabular format known as a contingency table. The chi-square test statistic can be used to evaluate whether there is an association between the rows and columns in a contingency table. More specifically, this statistic can be used to determine whether there is any difference between the study groups in the proportions of the risk factor of interest. Chi-square test and the logic of hypothesis testing were developed by Karl Pearson. This article describes in detail what is a chi-square test, on which type of data it is used, the assumptions associated with its application, how to manually calculate it and how to make use of an online calculator for calculating the Chi-square statistics and its associated P-value.\n",
    "\n",
    "## [Chi-Square Test for Goodness of Fit in a Plant Breeding](https://passel2.unl.edu/view/lesson/9beaa382bf7e)\n",
    "In this lesson's case study example, tomato breeders are trying to incorporate genes which code for resistance to bacterial spot disease into cultivated tomato lines. One gene which has been characterized is Rx-4. A tomato line, 6.8068, was chosen as one parent for use in a crossing scheme because it is resistant to bacterial spot and contains this gene. This line also closely resembles cultivated tomato, therefore not as much backcrossing would be needed to remove unwanted traits. OH88119 was chosen as the other parent because even though susceptible to bacterial spot, it was a suitable parent for commercial hybrids due to other desirable traits in its  genome such as fruit size, fruit color, time to maturity,..."
   ]
  }
 ],
 "metadata": {
  "kernelspec": {
   "display_name": "Python 3",
   "language": "python",
   "name": "python3"
  },
  "language_info": {
   "codemirror_mode": {
    "name": "ipython",
    "version": 3
   },
   "file_extension": ".py",
   "mimetype": "text/x-python",
   "name": "python",
   "nbconvert_exporter": "python",
   "pygments_lexer": "ipython3",
   "version": "3.7.4"
  }
 },
 "nbformat": 4,
 "nbformat_minor": 2
}
