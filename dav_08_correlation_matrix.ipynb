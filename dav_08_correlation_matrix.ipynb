{
 "cells": [
  {
   "cell_type": "markdown",
   "metadata": {},
   "source": [
    "# <font color='maroon'>Correlation matrix</font>"
   ]
  },
  {
   "cell_type": "markdown",
   "metadata": {},
   "source": [
    "A correlation matrix contains $n$ number of rows and $n$ number of columns. Each variable in the dataset is represented in the rows and in the columns. The matrix entries correlation measures of the variable along the row and the variable along the column. The diagonal entries equal one. A variable is highly positively correlated with itself. The matrix will show the measure of correlation between the variables.\n"
   ]
  },
  {
   "cell_type": "markdown",
   "metadata": {},
   "source": [
    "### The dataset"
   ]
  },
  {
   "cell_type": "markdown",
   "metadata": {},
   "source": [
    "The dataset we'll use comes from the [Australian government website](https://data.gov.au/dataset/credit-unions-selected-assets-and-liabilities). It contains information on selected assets and liabilities figures submitted by credit unions referred to as authorised deposit-taking institutions, ADIs. The description of the variables in the dataset are provided as follows:\n",
    "\n",
    "* ‘Cash and liquid assets’ is composed of ‘Cash’, ‘Balances with ADIs’ and ‘Other’. None of these items include bills of exchange, bills receivable, remittances in transit or certificates of deposit.\n",
    "\n",
    "* ‘Cash’ includes Australian and foreign currency notes and coins, gold coin, gold bullion, and gold certificates held as  investments. It excludes loans repayable in gold bullion.\n",
    "\n",
    "* ‘Balances with ADIs’ includes deposits at call with Australian resident banks and other ADIs and settlement account balances due from banks and other ADIs, incorporating receivables for unsettled sales of securities.\n",
    "\n",
    "* ‘Other’ includes deposits at call with Registered Financial Corporations (RFCs) and other financial institutions, net claims on recognised clearing houses in Australia, securities purchased under agreements to resell, funds held with the Reserve Bank and other central banks, and settlement account balances due from the Reserve Bank, other central banks, RFCs and other financial institutions, incorporating receivables for unsettled sales of securities.\n",
    "\n",
    "* ‘Government securities’, ‘ADI securities’, ‘Corporate paper’ and ‘Other securities’ include both trading and investment securities. Trading securities are recorded at net fair value. Investment securities are recorded at cost and adjusted for the amortisation of any premiums and discounts on purchase over the period of maturity.\n",
    "\n",
    "* ‘Government securities’ include securities issued by the Australian, State, Territory and local governments and State and Territory central borrowing authority (CBA) securities.\n",
    "\n",
    "* ‘ADI securities’ includes securities issued by banks and other ADIs, but not equity investments in parent, controlled or associated entities.\n",
    "\n",
    "* ‘Other securities’ includes asset-backed securities, other debt securities and equity securities, other than those issued by ADIs, but not equity investments in parent, controlled or associated entities.\n",
    "\n",
    "* ‘Residential’ includes both owner-occupied and investment housing loans to Australian households, net of specific provisions for doubtful debts.\n",
    "\n",
    "* ‘Personal’ includes revolving credit for a purpose other than housing, credit card liabilities, lease financing net of unearned revenue, and other personal term loans to Australian households net of specific provisions for doubtful debts.\n",
    "\n",
    "* ‘Commercial’ includes loans to public non-financial corporations, private trading corporations, private unincorporated businesses, community service organisations, Australian, State, Territory and local governments, ADIs and other financial institutions, net of specific provisions for doubtful debts. Loans to ADIs and other financial institutions includes loans to the Reserve Bank and other central banks, banks, other ADIs, RFCs, central borrowing authorities, fund managers, stockbrokers, insurance brokers, securitisers, mortgage, fixed interest and equity unit trusts and other financial intermediaries.\n",
    "\n",
    "Selected Liabilities:\n",
    "\n",
    "* ‘Borrowings from ADIs’ includes settlement account balances due to ADIs and both variable and fixed interest rate short-term loans from ADIs. A loan is reported as short-term if its residual term to maturity is one year or less.\n",
    "\n",
    "* ‘Deposits’ includes retail transaction call deposit accounts held by households, all other transaction call deposit accounts held by entities other than households, deposits from resident banks, resident non-bank financial institutions and intermediaries such as merchant banks, vostro balances from banks and non-bank financial institutions (NBFIs), the Australian-dollar equivalent of foreign currency deposits, deposits from controlled and associated entities, retail non-transaction call deposit accounts held by households, all other non-transaction deposit call accounts held by entities other than households, term deposits, certificates of deposit and other forms of deposits.\n",
    "\n",
    "* ‘Other’ liabilities includes settlement account balances due to RFCs and other financial institutions, securities sold under agreements to repurchase, promissory notes or commercial paper with a residual term to maturity of one year or less, other debt securities with a residual term of one year or less, variable interest rate short-term loans from counterparties other than ADIs, fixed interest rate short-term loans from counterparties other than ADIs, debt securities with a residual term to maturity of more than one year, variable and fixed interest rate loans and borrowings from Australian residents with a residual term to maturity of more than one year, interest accrued but not yet paid, interest received but not yet earned, unrealised losses on trading derivatives, items in suspense and other liabilities not separately identified above. A loan is reported as short-term if its residual term to maturity is one year or less. ‘Other’ liabilities do not include amounts due to clearing houses.\n",
    "\n",
    "Let's study the correlation between these variables."
   ]
  },
  {
   "cell_type": "code",
   "execution_count": 1,
   "metadata": {},
   "outputs": [],
   "source": [
    "import numpy as np\n",
    "import pandas as pd\n",
    "from matplotlib import pyplot\n",
    "import seaborn as sns\n",
    "import scipy.stats as stats"
   ]
  },
  {
   "cell_type": "code",
   "execution_count": 2,
   "metadata": {},
   "outputs": [],
   "source": [
    "%matplotlib inline"
   ]
  },
  {
   "cell_type": "markdown",
   "metadata": {},
   "source": [
    "### The data\n",
    "The data consists of information on selected assets and liabilities for credit unions in Australia. We suspect that purchasing a house is highly correlated with securing a loan from a credit institution. But how strong is the relationship between these two variables? And between these variables and other variables connected to a credit union?"
   ]
  },
  {
   "cell_type": "code",
   "execution_count": 3,
   "metadata": {},
   "outputs": [],
   "source": [
    "data = pd.read_csv('assets.csv', sep=',')"
   ]
  },
  {
   "cell_type": "code",
   "execution_count": 4,
   "metadata": {},
   "outputs": [
    {
     "data": {
      "text/plain": [
       "Index(['Unnamed: 0', 'Cash', 'Balances with ADIs', 'Other assets',\n",
       "       'Government securities', 'ADI securities', 'Corporate paper',\n",
       "       'Other securities', 'Residential loans', 'Personal loans',\n",
       "       'Commercial loans', 'Total assets', 'Borrowings from ADIs', 'Deposits',\n",
       "       'Other liabilities'],\n",
       "      dtype='object')"
      ]
     },
     "execution_count": 4,
     "metadata": {},
     "output_type": "execute_result"
    }
   ],
   "source": [
    "data.columns"
   ]
  },
  {
   "cell_type": "code",
   "execution_count": 5,
   "metadata": {},
   "outputs": [
    {
     "data": {
      "text/html": [
       "<div>\n",
       "<style scoped>\n",
       "    .dataframe tbody tr th:only-of-type {\n",
       "        vertical-align: middle;\n",
       "    }\n",
       "\n",
       "    .dataframe tbody tr th {\n",
       "        vertical-align: top;\n",
       "    }\n",
       "\n",
       "    .dataframe thead th {\n",
       "        text-align: right;\n",
       "    }\n",
       "</style>\n",
       "<table border=\"1\" class=\"dataframe\">\n",
       "  <thead>\n",
       "    <tr style=\"text-align: right;\">\n",
       "      <th></th>\n",
       "      <th>Unnamed: 0</th>\n",
       "      <th>Cash</th>\n",
       "      <th>Balances with ADIs</th>\n",
       "      <th>Other assets</th>\n",
       "      <th>Government securities</th>\n",
       "      <th>ADI securities</th>\n",
       "      <th>Corporate paper</th>\n",
       "      <th>Other securities</th>\n",
       "      <th>Residential loans</th>\n",
       "      <th>Personal loans</th>\n",
       "      <th>Commercial loans</th>\n",
       "      <th>Total assets</th>\n",
       "      <th>Borrowings from ADIs</th>\n",
       "      <th>Deposits</th>\n",
       "      <th>Other liabilities</th>\n",
       "    </tr>\n",
       "  </thead>\n",
       "  <tbody>\n",
       "    <tr>\n",
       "      <td>0</td>\n",
       "      <td>Jun-84</td>\n",
       "      <td>26</td>\n",
       "      <td>337</td>\n",
       "      <td>69</td>\n",
       "      <td>80</td>\n",
       "      <td>37</td>\n",
       "      <td>0</td>\n",
       "      <td>78</td>\n",
       "      <td>439</td>\n",
       "      <td>2675</td>\n",
       "      <td>25</td>\n",
       "      <td>3978</td>\n",
       "      <td>56</td>\n",
       "      <td>3656</td>\n",
       "      <td>10</td>\n",
       "    </tr>\n",
       "    <tr>\n",
       "      <td>1</td>\n",
       "      <td>Jul-84</td>\n",
       "      <td>28</td>\n",
       "      <td>392</td>\n",
       "      <td>74</td>\n",
       "      <td>79</td>\n",
       "      <td>41</td>\n",
       "      <td>0</td>\n",
       "      <td>74</td>\n",
       "      <td>468</td>\n",
       "      <td>2715</td>\n",
       "      <td>26</td>\n",
       "      <td>4104</td>\n",
       "      <td>48</td>\n",
       "      <td>3783</td>\n",
       "      <td>6</td>\n",
       "    </tr>\n",
       "    <tr>\n",
       "      <td>2</td>\n",
       "      <td>Aug-84</td>\n",
       "      <td>26</td>\n",
       "      <td>423</td>\n",
       "      <td>87</td>\n",
       "      <td>72</td>\n",
       "      <td>47</td>\n",
       "      <td>0</td>\n",
       "      <td>82</td>\n",
       "      <td>488</td>\n",
       "      <td>2756</td>\n",
       "      <td>30</td>\n",
       "      <td>4227</td>\n",
       "      <td>43</td>\n",
       "      <td>3902</td>\n",
       "      <td>4</td>\n",
       "    </tr>\n",
       "    <tr>\n",
       "      <td>3</td>\n",
       "      <td>Sep-84</td>\n",
       "      <td>26</td>\n",
       "      <td>445</td>\n",
       "      <td>117</td>\n",
       "      <td>77</td>\n",
       "      <td>44</td>\n",
       "      <td>0</td>\n",
       "      <td>79</td>\n",
       "      <td>499</td>\n",
       "      <td>2809</td>\n",
       "      <td>30</td>\n",
       "      <td>4347</td>\n",
       "      <td>47</td>\n",
       "      <td>4008</td>\n",
       "      <td>3</td>\n",
       "    </tr>\n",
       "    <tr>\n",
       "      <td>4</td>\n",
       "      <td>Oct-84</td>\n",
       "      <td>32</td>\n",
       "      <td>471</td>\n",
       "      <td>123</td>\n",
       "      <td>83</td>\n",
       "      <td>35</td>\n",
       "      <td>0</td>\n",
       "      <td>94</td>\n",
       "      <td>524</td>\n",
       "      <td>2856</td>\n",
       "      <td>30</td>\n",
       "      <td>4483</td>\n",
       "      <td>42</td>\n",
       "      <td>4140</td>\n",
       "      <td>4</td>\n",
       "    </tr>\n",
       "  </tbody>\n",
       "</table>\n",
       "</div>"
      ],
      "text/plain": [
       "  Unnamed: 0  Cash  Balances with ADIs  Other assets  Government securities  \\\n",
       "0     Jun-84    26                 337            69                     80   \n",
       "1     Jul-84    28                 392            74                     79   \n",
       "2     Aug-84    26                 423            87                     72   \n",
       "3     Sep-84    26                 445           117                     77   \n",
       "4     Oct-84    32                 471           123                     83   \n",
       "\n",
       "   ADI securities  Corporate paper  Other securities  Residential loans  \\\n",
       "0              37                0                78                439   \n",
       "1              41                0                74                468   \n",
       "2              47                0                82                488   \n",
       "3              44                0                79                499   \n",
       "4              35                0                94                524   \n",
       "\n",
       "   Personal loans  Commercial loans  Total assets  Borrowings from ADIs  \\\n",
       "0            2675                25          3978                    56   \n",
       "1            2715                26          4104                    48   \n",
       "2            2756                30          4227                    43   \n",
       "3            2809                30          4347                    47   \n",
       "4            2856                30          4483                    42   \n",
       "\n",
       "   Deposits  Other liabilities  \n",
       "0      3656                 10  \n",
       "1      3783                  6  \n",
       "2      3902                  4  \n",
       "3      4008                  3  \n",
       "4      4140                  4  "
      ]
     },
     "execution_count": 5,
     "metadata": {},
     "output_type": "execute_result"
    }
   ],
   "source": [
    "data.head()"
   ]
  },
  {
   "cell_type": "markdown",
   "metadata": {},
   "source": [
    "## Visualizing the correlation matrix"
   ]
  },
  {
   "cell_type": "markdown",
   "metadata": {},
   "source": [
    "We can use visualize a correlation matrix using many functions. One way is to use the pandas function corr(). Another is to use the Seaborn package, which uses a heatmap to indicate the strength of the relationship between variables. We use it for its lovely visuals.\n",
    "\n"
   ]
  },
  {
   "cell_type": "markdown",
   "metadata": {},
   "source": [
    "Simply printing out a correlation matrix using the `corr()` on the dataframe results in the table below."
   ]
  },
  {
   "cell_type": "code",
   "execution_count": 6,
   "metadata": {},
   "outputs": [
    {
     "data": {
      "text/html": [
       "<div>\n",
       "<style scoped>\n",
       "    .dataframe tbody tr th:only-of-type {\n",
       "        vertical-align: middle;\n",
       "    }\n",
       "\n",
       "    .dataframe tbody tr th {\n",
       "        vertical-align: top;\n",
       "    }\n",
       "\n",
       "    .dataframe thead th {\n",
       "        text-align: right;\n",
       "    }\n",
       "</style>\n",
       "<table border=\"1\" class=\"dataframe\">\n",
       "  <thead>\n",
       "    <tr style=\"text-align: right;\">\n",
       "      <th></th>\n",
       "      <th>Cash</th>\n",
       "      <th>Balances with ADIs</th>\n",
       "      <th>Other assets</th>\n",
       "      <th>Government securities</th>\n",
       "      <th>ADI securities</th>\n",
       "      <th>Corporate paper</th>\n",
       "      <th>Other securities</th>\n",
       "      <th>Residential loans</th>\n",
       "      <th>Personal loans</th>\n",
       "      <th>Commercial loans</th>\n",
       "      <th>Total assets</th>\n",
       "      <th>Borrowings from ADIs</th>\n",
       "      <th>Deposits</th>\n",
       "      <th>Other liabilities</th>\n",
       "    </tr>\n",
       "  </thead>\n",
       "  <tbody>\n",
       "    <tr>\n",
       "      <td>Cash</td>\n",
       "      <td>1.000000</td>\n",
       "      <td>0.546982</td>\n",
       "      <td>-0.456844</td>\n",
       "      <td>-0.752594</td>\n",
       "      <td>0.498022</td>\n",
       "      <td>0.323961</td>\n",
       "      <td>-0.294088</td>\n",
       "      <td>0.662632</td>\n",
       "      <td>0.512372</td>\n",
       "      <td>0.661597</td>\n",
       "      <td>0.727103</td>\n",
       "      <td>0.706563</td>\n",
       "      <td>0.727555</td>\n",
       "      <td>0.493747</td>\n",
       "    </tr>\n",
       "    <tr>\n",
       "      <td>Balances with ADIs</td>\n",
       "      <td>0.546982</td>\n",
       "      <td>1.000000</td>\n",
       "      <td>-0.273051</td>\n",
       "      <td>-0.510485</td>\n",
       "      <td>0.061217</td>\n",
       "      <td>-0.261500</td>\n",
       "      <td>0.237935</td>\n",
       "      <td>0.106648</td>\n",
       "      <td>0.676687</td>\n",
       "      <td>0.037763</td>\n",
       "      <td>0.178633</td>\n",
       "      <td>0.305855</td>\n",
       "      <td>0.173180</td>\n",
       "      <td>0.086763</td>\n",
       "    </tr>\n",
       "    <tr>\n",
       "      <td>Other assets</td>\n",
       "      <td>-0.456844</td>\n",
       "      <td>-0.273051</td>\n",
       "      <td>1.000000</td>\n",
       "      <td>0.356717</td>\n",
       "      <td>-0.336790</td>\n",
       "      <td>-0.244916</td>\n",
       "      <td>0.075467</td>\n",
       "      <td>-0.454369</td>\n",
       "      <td>-0.202098</td>\n",
       "      <td>-0.325394</td>\n",
       "      <td>-0.479402</td>\n",
       "      <td>-0.250240</td>\n",
       "      <td>-0.480377</td>\n",
       "      <td>-0.348539</td>\n",
       "    </tr>\n",
       "    <tr>\n",
       "      <td>Government securities</td>\n",
       "      <td>-0.752594</td>\n",
       "      <td>-0.510485</td>\n",
       "      <td>0.356717</td>\n",
       "      <td>1.000000</td>\n",
       "      <td>-0.173683</td>\n",
       "      <td>-0.284511</td>\n",
       "      <td>0.124137</td>\n",
       "      <td>-0.324637</td>\n",
       "      <td>-0.663774</td>\n",
       "      <td>-0.345427</td>\n",
       "      <td>-0.397716</td>\n",
       "      <td>-0.542884</td>\n",
       "      <td>-0.398907</td>\n",
       "      <td>-0.141353</td>\n",
       "    </tr>\n",
       "    <tr>\n",
       "      <td>ADI securities</td>\n",
       "      <td>0.498022</td>\n",
       "      <td>0.061217</td>\n",
       "      <td>-0.336790</td>\n",
       "      <td>-0.173683</td>\n",
       "      <td>1.000000</td>\n",
       "      <td>0.252394</td>\n",
       "      <td>-0.492924</td>\n",
       "      <td>0.956388</td>\n",
       "      <td>-0.343822</td>\n",
       "      <td>0.874066</td>\n",
       "      <td>0.937939</td>\n",
       "      <td>0.546918</td>\n",
       "      <td>0.935724</td>\n",
       "      <td>0.934138</td>\n",
       "    </tr>\n",
       "    <tr>\n",
       "      <td>Corporate paper</td>\n",
       "      <td>0.323961</td>\n",
       "      <td>-0.261500</td>\n",
       "      <td>-0.244916</td>\n",
       "      <td>-0.284511</td>\n",
       "      <td>0.252394</td>\n",
       "      <td>1.000000</td>\n",
       "      <td>-0.439461</td>\n",
       "      <td>0.353170</td>\n",
       "      <td>0.000300</td>\n",
       "      <td>0.446844</td>\n",
       "      <td>0.360132</td>\n",
       "      <td>0.257396</td>\n",
       "      <td>0.361070</td>\n",
       "      <td>0.274377</td>\n",
       "    </tr>\n",
       "    <tr>\n",
       "      <td>Other securities</td>\n",
       "      <td>-0.294088</td>\n",
       "      <td>0.237935</td>\n",
       "      <td>0.075467</td>\n",
       "      <td>0.124137</td>\n",
       "      <td>-0.492924</td>\n",
       "      <td>-0.439461</td>\n",
       "      <td>1.000000</td>\n",
       "      <td>-0.559795</td>\n",
       "      <td>0.400975</td>\n",
       "      <td>-0.700825</td>\n",
       "      <td>-0.524060</td>\n",
       "      <td>-0.625508</td>\n",
       "      <td>-0.517448</td>\n",
       "      <td>-0.525000</td>\n",
       "    </tr>\n",
       "    <tr>\n",
       "      <td>Residential loans</td>\n",
       "      <td>0.662632</td>\n",
       "      <td>0.106648</td>\n",
       "      <td>-0.454369</td>\n",
       "      <td>-0.324637</td>\n",
       "      <td>0.956388</td>\n",
       "      <td>0.353170</td>\n",
       "      <td>-0.559795</td>\n",
       "      <td>1.000000</td>\n",
       "      <td>-0.209116</td>\n",
       "      <td>0.947162</td>\n",
       "      <td>0.994684</td>\n",
       "      <td>0.653484</td>\n",
       "      <td>0.993965</td>\n",
       "      <td>0.915027</td>\n",
       "    </tr>\n",
       "    <tr>\n",
       "      <td>Personal loans</td>\n",
       "      <td>0.512372</td>\n",
       "      <td>0.676687</td>\n",
       "      <td>-0.202098</td>\n",
       "      <td>-0.663774</td>\n",
       "      <td>-0.343822</td>\n",
       "      <td>0.000300</td>\n",
       "      <td>0.400975</td>\n",
       "      <td>-0.209116</td>\n",
       "      <td>1.000000</td>\n",
       "      <td>-0.212876</td>\n",
       "      <td>-0.110164</td>\n",
       "      <td>0.143648</td>\n",
       "      <td>-0.109753</td>\n",
       "      <td>-0.307104</td>\n",
       "    </tr>\n",
       "    <tr>\n",
       "      <td>Commercial loans</td>\n",
       "      <td>0.661597</td>\n",
       "      <td>0.037763</td>\n",
       "      <td>-0.325394</td>\n",
       "      <td>-0.345427</td>\n",
       "      <td>0.874066</td>\n",
       "      <td>0.446844</td>\n",
       "      <td>-0.700825</td>\n",
       "      <td>0.947162</td>\n",
       "      <td>-0.212876</td>\n",
       "      <td>1.000000</td>\n",
       "      <td>0.941365</td>\n",
       "      <td>0.729496</td>\n",
       "      <td>0.940013</td>\n",
       "      <td>0.852627</td>\n",
       "    </tr>\n",
       "    <tr>\n",
       "      <td>Total assets</td>\n",
       "      <td>0.727103</td>\n",
       "      <td>0.178633</td>\n",
       "      <td>-0.479402</td>\n",
       "      <td>-0.397716</td>\n",
       "      <td>0.937939</td>\n",
       "      <td>0.360132</td>\n",
       "      <td>-0.524060</td>\n",
       "      <td>0.994684</td>\n",
       "      <td>-0.110164</td>\n",
       "      <td>0.941365</td>\n",
       "      <td>1.000000</td>\n",
       "      <td>0.674665</td>\n",
       "      <td>0.999613</td>\n",
       "      <td>0.896614</td>\n",
       "    </tr>\n",
       "    <tr>\n",
       "      <td>Borrowings from ADIs</td>\n",
       "      <td>0.706563</td>\n",
       "      <td>0.305855</td>\n",
       "      <td>-0.250240</td>\n",
       "      <td>-0.542884</td>\n",
       "      <td>0.546918</td>\n",
       "      <td>0.257396</td>\n",
       "      <td>-0.625508</td>\n",
       "      <td>0.653484</td>\n",
       "      <td>0.143648</td>\n",
       "      <td>0.729496</td>\n",
       "      <td>0.674665</td>\n",
       "      <td>1.000000</td>\n",
       "      <td>0.665598</td>\n",
       "      <td>0.529572</td>\n",
       "    </tr>\n",
       "    <tr>\n",
       "      <td>Deposits</td>\n",
       "      <td>0.727555</td>\n",
       "      <td>0.173180</td>\n",
       "      <td>-0.480377</td>\n",
       "      <td>-0.398907</td>\n",
       "      <td>0.935724</td>\n",
       "      <td>0.361070</td>\n",
       "      <td>-0.517448</td>\n",
       "      <td>0.993965</td>\n",
       "      <td>-0.109753</td>\n",
       "      <td>0.940013</td>\n",
       "      <td>0.999613</td>\n",
       "      <td>0.665598</td>\n",
       "      <td>1.000000</td>\n",
       "      <td>0.887494</td>\n",
       "    </tr>\n",
       "    <tr>\n",
       "      <td>Other liabilities</td>\n",
       "      <td>0.493747</td>\n",
       "      <td>0.086763</td>\n",
       "      <td>-0.348539</td>\n",
       "      <td>-0.141353</td>\n",
       "      <td>0.934138</td>\n",
       "      <td>0.274377</td>\n",
       "      <td>-0.525000</td>\n",
       "      <td>0.915027</td>\n",
       "      <td>-0.307104</td>\n",
       "      <td>0.852627</td>\n",
       "      <td>0.896614</td>\n",
       "      <td>0.529572</td>\n",
       "      <td>0.887494</td>\n",
       "      <td>1.000000</td>\n",
       "    </tr>\n",
       "  </tbody>\n",
       "</table>\n",
       "</div>"
      ],
      "text/plain": [
       "                           Cash  Balances with ADIs  Other assets  \\\n",
       "Cash                   1.000000            0.546982     -0.456844   \n",
       "Balances with ADIs     0.546982            1.000000     -0.273051   \n",
       "Other assets          -0.456844           -0.273051      1.000000   \n",
       "Government securities -0.752594           -0.510485      0.356717   \n",
       "ADI securities         0.498022            0.061217     -0.336790   \n",
       "Corporate paper        0.323961           -0.261500     -0.244916   \n",
       "Other securities      -0.294088            0.237935      0.075467   \n",
       "Residential loans      0.662632            0.106648     -0.454369   \n",
       "Personal loans         0.512372            0.676687     -0.202098   \n",
       "Commercial loans       0.661597            0.037763     -0.325394   \n",
       "Total assets           0.727103            0.178633     -0.479402   \n",
       "Borrowings from ADIs   0.706563            0.305855     -0.250240   \n",
       "Deposits               0.727555            0.173180     -0.480377   \n",
       "Other liabilities      0.493747            0.086763     -0.348539   \n",
       "\n",
       "                       Government securities  ADI securities  Corporate paper  \\\n",
       "Cash                               -0.752594        0.498022         0.323961   \n",
       "Balances with ADIs                 -0.510485        0.061217        -0.261500   \n",
       "Other assets                        0.356717       -0.336790        -0.244916   \n",
       "Government securities               1.000000       -0.173683        -0.284511   \n",
       "ADI securities                     -0.173683        1.000000         0.252394   \n",
       "Corporate paper                    -0.284511        0.252394         1.000000   \n",
       "Other securities                    0.124137       -0.492924        -0.439461   \n",
       "Residential loans                  -0.324637        0.956388         0.353170   \n",
       "Personal loans                     -0.663774       -0.343822         0.000300   \n",
       "Commercial loans                   -0.345427        0.874066         0.446844   \n",
       "Total assets                       -0.397716        0.937939         0.360132   \n",
       "Borrowings from ADIs               -0.542884        0.546918         0.257396   \n",
       "Deposits                           -0.398907        0.935724         0.361070   \n",
       "Other liabilities                  -0.141353        0.934138         0.274377   \n",
       "\n",
       "                       Other securities  Residential loans  Personal loans  \\\n",
       "Cash                          -0.294088           0.662632        0.512372   \n",
       "Balances with ADIs             0.237935           0.106648        0.676687   \n",
       "Other assets                   0.075467          -0.454369       -0.202098   \n",
       "Government securities          0.124137          -0.324637       -0.663774   \n",
       "ADI securities                -0.492924           0.956388       -0.343822   \n",
       "Corporate paper               -0.439461           0.353170        0.000300   \n",
       "Other securities               1.000000          -0.559795        0.400975   \n",
       "Residential loans             -0.559795           1.000000       -0.209116   \n",
       "Personal loans                 0.400975          -0.209116        1.000000   \n",
       "Commercial loans              -0.700825           0.947162       -0.212876   \n",
       "Total assets                  -0.524060           0.994684       -0.110164   \n",
       "Borrowings from ADIs          -0.625508           0.653484        0.143648   \n",
       "Deposits                      -0.517448           0.993965       -0.109753   \n",
       "Other liabilities             -0.525000           0.915027       -0.307104   \n",
       "\n",
       "                       Commercial loans  Total assets  Borrowings from ADIs  \\\n",
       "Cash                           0.661597      0.727103              0.706563   \n",
       "Balances with ADIs             0.037763      0.178633              0.305855   \n",
       "Other assets                  -0.325394     -0.479402             -0.250240   \n",
       "Government securities         -0.345427     -0.397716             -0.542884   \n",
       "ADI securities                 0.874066      0.937939              0.546918   \n",
       "Corporate paper                0.446844      0.360132              0.257396   \n",
       "Other securities              -0.700825     -0.524060             -0.625508   \n",
       "Residential loans              0.947162      0.994684              0.653484   \n",
       "Personal loans                -0.212876     -0.110164              0.143648   \n",
       "Commercial loans               1.000000      0.941365              0.729496   \n",
       "Total assets                   0.941365      1.000000              0.674665   \n",
       "Borrowings from ADIs           0.729496      0.674665              1.000000   \n",
       "Deposits                       0.940013      0.999613              0.665598   \n",
       "Other liabilities              0.852627      0.896614              0.529572   \n",
       "\n",
       "                       Deposits  Other liabilities  \n",
       "Cash                   0.727555           0.493747  \n",
       "Balances with ADIs     0.173180           0.086763  \n",
       "Other assets          -0.480377          -0.348539  \n",
       "Government securities -0.398907          -0.141353  \n",
       "ADI securities         0.935724           0.934138  \n",
       "Corporate paper        0.361070           0.274377  \n",
       "Other securities      -0.517448          -0.525000  \n",
       "Residential loans      0.993965           0.915027  \n",
       "Personal loans        -0.109753          -0.307104  \n",
       "Commercial loans       0.940013           0.852627  \n",
       "Total assets           0.999613           0.896614  \n",
       "Borrowings from ADIs   0.665598           0.529572  \n",
       "Deposits               1.000000           0.887494  \n",
       "Other liabilities      0.887494           1.000000  "
      ]
     },
     "execution_count": 6,
     "metadata": {},
     "output_type": "execute_result"
    }
   ],
   "source": [
    "data.corr()"
   ]
  },
  {
   "cell_type": "markdown",
   "metadata": {},
   "source": [
    "The basic Seaborn function for plotting a heatmap of the correlation matrix is `sns.heatmap()`. Similar to other functions, additional arguments can be passed. We see the lovely visual heatmap generated below for the same table previously generated."
   ]
  },
  {
   "cell_type": "code",
   "execution_count": 7,
   "metadata": {},
   "outputs": [
    {
     "data": {
      "text/plain": [
       "<matplotlib.axes._subplots.AxesSubplot at 0x1a20c42c50>"
      ]
     },
     "execution_count": 7,
     "metadata": {},
     "output_type": "execute_result"
    },
    {
     "data": {
      "image/png": "[encoded data removed]",
      "text/plain": [
       "<Figure size 1152x720 with 2 Axes>"
      ]
     },
     "metadata": {
      "needs_background": "light"
     },
     "output_type": "display_data"
    }
   ],
   "source": [
    "corr = data.corr()\n",
    "pyplot.figure(figsize=(16, 10))\n",
    "sns.heatmap(corr, xticklabels=corr.columns.values, \n",
    "            yticklabels=corr.columns.values,  \n",
    "            linewidths=.08,                   # set linewidth between entries in matrix\n",
    "           cbar_kws={\"shrink\": .7})           # set length of legend on right"
   ]
  },
  {
   "cell_type": "markdown",
   "metadata": {},
   "source": [
    "## Interpreting the results\n",
    "\n",
    "The first column shows the dependent variable. As we go row by row, we see how the independent variable is correlated with the dependent variable. The legend on the right indicates the correlation coefficients. The measures are colour-coded. For example, how is the dependent variable `Residental loans` correlated with the independent variable `Other liabilities`? These variables are positively correlated. Let's plot a scatter diagram and calculate the Pearson correlation coefficient for these variables."
   ]
  },
  {
   "cell_type": "code",
   "execution_count": 8,
   "metadata": {},
   "outputs": [
    {
     "name": "stdout",
     "output_type": "stream",
     "text": [
      "(0.9150267510790289, 1.1022589483822218e-137)\n"
     ]
    },
    {
     "data": {
      "image/png": "[encoded data removed]",
      "text/plain": [
       "<Figure size 432x288 with 1 Axes>"
      ]
     },
     "metadata": {
      "needs_background": "light"
     },
     "output_type": "display_data"
    }
   ],
   "source": [
    "sns.regplot(data['Other liabilities'], data['Residential loans'])\n",
    "print(stats.pearsonr(data['Other liabilities'], data['Residential loans']))"
   ]
  },
  {
   "cell_type": "markdown",
   "metadata": {},
   "source": [
    "Scatter plots are useful for spotting linear relationships between the variables. The scatterplot indicates a positive linear relationship between `Residential loans` and `Other liabilities`. We observe a Pearson correlation coefficient $r=0.915$, a strong positive correlation. In machine learning, reducing the number of variables in your dataset (a technique referred to as dimension reduction) prevents one from using too many variables to fit a model. Removing highly correlated variables from a dataset reduces the dimension of your dataset.\n",
    "\n",
    "See [Overfitting and Underfitting With Machine Learning Algorithms](https://machinelearningmastery.com/overfitting-and-underfitting-with-machine-learning-algorithms/) for a discussion on overfitting in machine learning."
   ]
  },
  {
   "cell_type": "markdown",
   "metadata": {},
   "source": [
    "### Exercise\n",
    "\n",
    "Find other highly correlated variables in the dataset. Plot their scatterplot diagrams to what kind of relationship the variables share."
   ]
  },
  {
   "cell_type": "code",
   "execution_count": 51,
   "metadata": {},
   "outputs": [
    {
     "name": "stdout",
     "output_type": "stream",
     "text": [
      "['Cash', 'Balances with ADIs', 'Other assets', 'Government securities', 'ADI securities', 'Corporate paper', 'Other securities', 'Residential loans', 'Personal loans', 'Commercial loans', 'Total assets', 'Borrowings from ADIs', 'Deposits', 'Other liabilities']\n",
      "('Residential loans', 'Total assets')\n",
      "('Residential loans', 'Deposits')\n",
      "('Total assets', 'Residential loans')\n",
      "('Total assets', 'Deposits')\n",
      "('Deposits', 'Residential loans')\n",
      "('Deposits', 'Total assets')\n"
     ]
    }
   ],
   "source": [
    "# Let us find other highly correlated variables in the dataset.\n",
    "columns = []\n",
    "tuple = []\n",
    "df = list(data.columns)\n",
    "for x in df:\n",
    "  columns.append(x)\n",
    "del(columns[0])\n",
    "print(columns)\n",
    "for x in columns:\n",
    "    for y in columns:\n",
    "        if x != y:\n",
    "            r = stats.pearsonr(data[x], data[y])\n",
    "            if r[0] >= 0.97:\n",
    "                print((x,y))"
   ]
  },
  {
   "cell_type": "code",
   "execution_count": 50,
   "metadata": {},
   "outputs": [
    {
     "name": "stdout",
     "output_type": "stream",
     "text": [
      "(0.9996131646145039, 0.0)\n"
     ]
    },
    {
     "data": {
      "image/png": "[encoded data removed]",
      "text/plain": [
       "<Figure size 432x288 with 1 Axes>"
      ]
     },
     "metadata": {
      "needs_background": "light"
     },
     "output_type": "display_data"
    }
   ],
   "source": [
    "sns.regplot(data['Deposits'], data['Total assets'])\n",
    "print(stats.pearsonr(data['Deposits'], data['Total assets']))"
   ]
  },
  {
   "cell_type": "markdown",
   "metadata": {},
   "source": [
    "When the number of deposit increases, the total assets increase as well."
   ]
  },
  {
   "cell_type": "markdown",
   "metadata": {
    "collapsed": true
   },
   "source": [
    "### References\n",
    "\n",
    "[Pairing the Unknown – Liability Correlations and Asset Allocation](https://www.neamgroup.com/insights/pairing-the-unknown-liability-correlations-and-asset-allocation)."
   ]
  }
 ],
 "metadata": {
  "kernelspec": {
   "display_name": "Python 3",
   "language": "python",
   "name": "python3"
  },
  "language_info": {
   "codemirror_mode": {
    "name": "ipython",
    "version": 3
   },
   "file_extension": ".py",
   "mimetype": "text/x-python",
   "name": "python",
   "nbconvert_exporter": "python",
   "pygments_lexer": "ipython3",
   "version": "3.7.4"
  }
 },
 "nbformat": 4,
 "nbformat_minor": 2
}
