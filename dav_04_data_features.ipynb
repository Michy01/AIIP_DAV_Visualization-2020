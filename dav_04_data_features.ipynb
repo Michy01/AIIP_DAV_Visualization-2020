{
 "cells": [
  {
   "cell_type": "markdown",
   "metadata": {
    "colab_type": "text",
    "collapsed": true,
    "id": "3-uFpHROqONC"
   },
   "source": [
    "# <font color='maroon'>Data Features</font>\n"
   ]
  },
  {
   "cell_type": "markdown",
   "metadata": {
    "colab_type": "text",
    "id": "dDsnDujvqONL"
   },
   "source": [
    "What does  the shape of the data given by the visualizaton tell us? In this lesson we continue to explore and visualize data, specifically identifying the features of data. We also look closely at the values in the data in order to identify interesting and/or missing values. "
   ]
  },
  {
   "cell_type": "code",
   "execution_count": 1,
   "metadata": {
    "colab": {},
    "colab_type": "code",
    "id": "afBpi78JqONQ"
   },
   "outputs": [],
   "source": [
    "import numpy as np\n",
    "import pandas as pd\n",
    "import seaborn as sns\n",
    "import matplotlib.pyplot as plt"
   ]
  },
  {
   "cell_type": "code",
   "execution_count": 2,
   "metadata": {
    "colab": {},
    "colab_type": "code",
    "id": "nD5XghLEqONf"
   },
   "outputs": [],
   "source": [
    "%matplotlib inline"
   ]
  },
  {
   "cell_type": "markdown",
   "metadata": {
    "colab_type": "text",
    "id": "XbPsQJHBqONs"
   },
   "source": [
    "## Shape of data"
   ]
  },
  {
   "cell_type": "markdown",
   "metadata": {
    "colab_type": "text",
    "id": "qDXSBX9FqONw"
   },
   "source": [
    "Histograms help us visualize the shape of data. Let's use the dataset on information collected about babies whose mothers smoked and did not smoke during pregnancy. We produce histograms of the `Birthweight` and `Birthlength` columns."
   ]
  },
  {
   "cell_type": "code",
   "execution_count": 3,
   "metadata": {
    "colab": {},
    "colab_type": "code",
    "id": "77DH9eqLqON0"
   },
   "outputs": [],
   "source": [
    "data = pd.read_csv('smoking-and-pregnancy.csv', sep=';') #read in dataset into a dataframe, data"
   ]
  },
  {
   "cell_type": "code",
   "execution_count": 4,
   "metadata": {
    "colab": {
     "base_uri": "https://localhost:8080/",
     "height": 204
    },
    "colab_type": "code",
    "executionInfo": {
     "elapsed": 1074,
     "status": "ok",
     "timestamp": 1550225925533,
     "user": {
      "displayName": "Benita Chumo",
      "photoUrl": "",
      "userId": "17915433232895509703"
     },
     "user_tz": -240
    },
    "id": "Qrz0cyuiqOOA",
    "outputId": "c2a68dda-50b8-4234-ad3a-9792eb2d142d"
   },
   "outputs": [
    {
     "data": {
      "text/html": [
       "<div>\n",
       "<style scoped>\n",
       "    .dataframe tbody tr th:only-of-type {\n",
       "        vertical-align: middle;\n",
       "    }\n",
       "\n",
       "    .dataframe tbody tr th {\n",
       "        vertical-align: top;\n",
       "    }\n",
       "\n",
       "    .dataframe thead th {\n",
       "        text-align: right;\n",
       "    }\n",
       "</style>\n",
       "<table border=\"1\" class=\"dataframe\">\n",
       "  <thead>\n",
       "    <tr style=\"text-align: right;\">\n",
       "      <th></th>\n",
       "      <th>GestationalAge</th>\n",
       "      <th>Sex</th>\n",
       "      <th>Birthweight</th>\n",
       "      <th>Birthlength</th>\n",
       "      <th>Smoking</th>\n",
       "      <th>CigarettesPerDay</th>\n",
       "    </tr>\n",
       "  </thead>\n",
       "  <tbody>\n",
       "    <tr>\n",
       "      <td>123</td>\n",
       "      <td>262</td>\n",
       "      <td>girl</td>\n",
       "      <td>3.20</td>\n",
       "      <td>50.0</td>\n",
       "      <td>N</td>\n",
       "      <td>NaN</td>\n",
       "    </tr>\n",
       "    <tr>\n",
       "      <td>124</td>\n",
       "      <td>279</td>\n",
       "      <td>girl</td>\n",
       "      <td>3.52</td>\n",
       "      <td>53.0</td>\n",
       "      <td>N</td>\n",
       "      <td>NaN</td>\n",
       "    </tr>\n",
       "    <tr>\n",
       "      <td>125</td>\n",
       "      <td>273</td>\n",
       "      <td>girl</td>\n",
       "      <td>3.40</td>\n",
       "      <td>51.0</td>\n",
       "      <td>Y</td>\n",
       "      <td>NaN</td>\n",
       "    </tr>\n",
       "    <tr>\n",
       "      <td>126</td>\n",
       "      <td>274</td>\n",
       "      <td>girl</td>\n",
       "      <td>3.74</td>\n",
       "      <td>52.0</td>\n",
       "      <td>Y</td>\n",
       "      <td>15.0</td>\n",
       "    </tr>\n",
       "    <tr>\n",
       "      <td>127</td>\n",
       "      <td>274</td>\n",
       "      <td>boy</td>\n",
       "      <td>4.08</td>\n",
       "      <td>55.0</td>\n",
       "      <td>N</td>\n",
       "      <td>NaN</td>\n",
       "    </tr>\n",
       "  </tbody>\n",
       "</table>\n",
       "</div>"
      ],
      "text/plain": [
       "     GestationalAge   Sex  Birthweight  Birthlength Smoking  CigarettesPerDay\n",
       "123             262  girl         3.20         50.0       N               NaN\n",
       "124             279  girl         3.52         53.0       N               NaN\n",
       "125             273  girl         3.40         51.0       Y               NaN\n",
       "126             274  girl         3.74         52.0       Y              15.0\n",
       "127             274   boy         4.08         55.0       N               NaN"
      ]
     },
     "execution_count": 4,
     "metadata": {},
     "output_type": "execute_result"
    }
   ],
   "source": [
    "data.tail()"
   ]
  },
  {
   "cell_type": "markdown",
   "metadata": {
    "colab_type": "text",
    "id": "cckTBndgqOOK"
   },
   "source": [
    "Histograms are a great way to visualize the shape of data. They can show us the spread of data and where data is mostly centred. Let's observe the shapes of the `Birthweight`, `Birthlength` and `GestationalAge` using histograms."
   ]
  },
  {
   "cell_type": "code",
   "execution_count": 5,
   "metadata": {
    "colab": {},
    "colab_type": "code",
    "id": "mUC2fLAwqOOQ"
   },
   "outputs": [],
   "source": [
    "data['Birthweight'].fillna(data['Birthweight'].mean(), inplace=True)\n",
    "data['Birthlength'].fillna(data['Birthlength'].mean(), inplace=True)"
   ]
  },
  {
   "cell_type": "code",
   "execution_count": 6,
   "metadata": {
    "colab": {
     "base_uri": "https://localhost:8080/",
     "height": 405
    },
    "colab_type": "code",
    "executionInfo": {
     "elapsed": 1538,
     "status": "ok",
     "timestamp": 1550225936024,
     "user": {
      "displayName": "Benita Chumo",
      "photoUrl": "",
      "userId": "17915433232895509703"
     },
     "user_tz": -240
    },
    "id": "14jvTz0EqOOd",
    "outputId": "23821767-a771-4fbb-bbc5-8431e3331cfa",
    "scrolled": true
   },
   "outputs": [
    {
     "data": {
      "text/plain": [
       "Text(0.5, 0, 'Birthlength')"
      ]
     },
     "execution_count": 6,
     "metadata": {},
     "output_type": "execute_result"
    },
    {
     "data": {
      "image/png": "[encoded data removed]",
      "text/plain": [
       "<Figure size 1080x432 with 2 Axes>"
      ]
     },
     "metadata": {
      "needs_background": "light"
     },
     "output_type": "display_data"
    }
   ],
   "source": [
    "fig = plt.figure(figsize=(15, 6)) # figure for subplots\n",
    "ax1 = plt.subplot(1,2,1)  # 1 by 2 grid, first grid\n",
    "ax2 = plt.subplot(1,2,2) # 1 by 2 grid, second grid\n",
    "data['Birthweight'].plot(kind='hist', ax=ax1)\n",
    "ax1.set_xlabel('Birthweight')\n",
    "data['Birthlength'].plot(kind='hist', ax=ax2)\n",
    "ax2.set_xlabel('Birthlength')\n"
   ]
  },
  {
   "cell_type": "markdown",
   "metadata": {
    "colab_type": "text",
    "id": "WPjkb1yqqOOy"
   },
   "source": [
    "### Peaks in data\n",
    "\n",
    "Observe the peaks in the data. Distributions with one peak are called unimodal, and distributions with two peaks are called bimodal. Both birthweight and birthlength are unimodal datasets. \n",
    "\n",
    "### Gaps in data\n",
    "We observe a gap in the Birthlength data. It turns out, there we no observations for this interval.\n",
    "\n",
    "### Extreme values\n",
    "\n",
    "We see extreme values in the Birthweight histogram skewed towards the left."
   ]
  },
  {
   "cell_type": "markdown",
   "metadata": {
    "colab_type": "text",
    "id": "EcoMcZ9EqOO2"
   },
   "source": [
    "## Box plots"
   ]
  },
  {
   "cell_type": "markdown",
   "metadata": {
    "colab_type": "text",
    "id": "_ZKfdMz3qOO5"
   },
   "source": [
    "We use the `describe()` to generate descriptive statistics of our dataset. We can use also a box plot to display the distribution of our data based on the minimum, first quartile, median, third quartile and maximum values. The image below indicates where each of the values are located on the box plot. The interquartile range $IQR$ is the difference between the third quartile and the first quartile.\n",
    "\n",
    "<img src='images/simple.box.defs.gif' width='300' height='300'/>\n",
    "Image courtesy of [Box Plot: Display of Distribution](http://www.physics.csbsju.edu/stats/box2.html)\n",
    "\n",
    "Let's look at Birthweight again."
   ]
  },
  {
   "cell_type": "code",
   "execution_count": 7,
   "metadata": {
    "colab": {
     "base_uri": "https://localhost:8080/",
     "height": 299
    },
    "colab_type": "code",
    "executionInfo": {
     "elapsed": 1045,
     "status": "ok",
     "timestamp": 1550225953241,
     "user": {
      "displayName": "Benita Chumo",
      "photoUrl": "",
      "userId": "17915433232895509703"
     },
     "user_tz": -240
    },
    "id": "2ChZygVKqOO_",
    "outputId": "1506f01d-a1ff-4e8c-beef-2af1414970b8"
   },
   "outputs": [
    {
     "data": {
      "text/plain": [
       "<matplotlib.axes._subplots.AxesSubplot at 0x1a1e9ef490>"
      ]
     },
     "execution_count": 7,
     "metadata": {},
     "output_type": "execute_result"
    },
    {
     "data": {
      "image/png": "[encoded data removed]",
      "text/plain": [
       "<Figure size 432x288 with 1 Axes>"
      ]
     },
     "metadata": {
      "needs_background": "light"
     },
     "output_type": "display_data"
    }
   ],
   "source": [
    "sns.boxplot(data['Birthweight'], orient='v') #use seaborn to plot boxplot"
   ]
  },
  {
   "cell_type": "markdown",
   "metadata": {
    "colab_type": "text",
    "id": "MNa5VvulqOPL"
   },
   "source": [
    "### Determining outliers\n",
    "\n",
    "The box plot reveals extreme values. There are various ways to determine if your data has outliers. We can classify outliers by reasoning about them when we plot the data e.g. in a boxplot, or by using the standard deviation. Suppose we want to see which Birth weights were three standard deviations away from the mean and would like to classify those as outliers, we could apply the following function, which returns True or False depending on whether a data point is three standard deviations away from the mean."
   ]
  },
  {
   "cell_type": "code",
   "execution_count": 8,
   "metadata": {
    "colab": {
     "base_uri": "https://localhost:8080/",
     "height": 51
    },
    "colab_type": "code",
    "executionInfo": {
     "elapsed": 1072,
     "status": "ok",
     "timestamp": 1550225959266,
     "user": {
      "displayName": "Benita Chumo",
      "photoUrl": "",
      "userId": "17915433232895509703"
     },
     "user_tz": -240
    },
    "id": "0T7veDBDqOPP",
    "outputId": "00e37d65-9ecf-433a-fcb4-c32742bad348"
   },
   "outputs": [
    {
     "name": "stdout",
     "output_type": "stream",
     "text": [
      "3.538359374999999 0.63\n",
      "3.538359374999999 1.49\n"
     ]
    }
   ],
   "source": [
    "d = data['Birthweight'].sub(data['Birthweight'].mean()).div(data['Birthweight'].std()).abs().lt(3) \n",
    "#what did we just do there? .sub(data...) subtracts the mean from each entry in the Birthweight column\n",
    "#.div(data['Birthweight'].std()) #divide the result by the standard deviation\n",
    "#.abs() #change the result into an absolute value\n",
    "#.lt(3) #check if it is less than 3 standard deviations away from the mean. lt -> less than\n",
    "for i in range(len(d)):\n",
    "    if d[i] == False:\n",
    "        print (data['Birthweight'].mean(), data['Birthweight'].iloc[i]) # print mean Birthweight & the location of the outliers"
   ]
  },
  {
   "cell_type": "markdown",
   "metadata": {
    "colab_type": "text",
    "id": "YShzgpeuqOPa"
   },
   "source": [
    "We observe two outliers."
   ]
  },
  {
   "cell_type": "markdown",
   "metadata": {
    "colab_type": "text",
    "id": "0CG_qx4jqOPe"
   },
   "source": [
    "## Identifying missing values"
   ]
  },
  {
   "cell_type": "markdown",
   "metadata": {
    "colab_type": "text",
    "id": "2fV1lli5qOPi"
   },
   "source": [
    "Missing values can be shown as \"not available\", \"NA\", or any identifier that shows that data is missing. We can use the isnull() function to find these values."
   ]
  },
  {
   "cell_type": "code",
   "execution_count": 9,
   "metadata": {
    "colab": {
     "base_uri": "https://localhost:8080/",
     "height": 204
    },
    "colab_type": "code",
    "executionInfo": {
     "elapsed": 1074,
     "status": "ok",
     "timestamp": 1550225966233,
     "user": {
      "displayName": "Benita Chumo",
      "photoUrl": "",
      "userId": "17915433232895509703"
     },
     "user_tz": -240
    },
    "id": "5SxywA5iqOPm",
    "outputId": "5b0e204a-43a1-409b-a48c-209b3061512a"
   },
   "outputs": [
    {
     "data": {
      "text/html": [
       "<div>\n",
       "<style scoped>\n",
       "    .dataframe tbody tr th:only-of-type {\n",
       "        vertical-align: middle;\n",
       "    }\n",
       "\n",
       "    .dataframe tbody tr th {\n",
       "        vertical-align: top;\n",
       "    }\n",
       "\n",
       "    .dataframe thead th {\n",
       "        text-align: right;\n",
       "    }\n",
       "</style>\n",
       "<table border=\"1\" class=\"dataframe\">\n",
       "  <thead>\n",
       "    <tr style=\"text-align: right;\">\n",
       "      <th></th>\n",
       "      <th>GestationalAge</th>\n",
       "      <th>Sex</th>\n",
       "      <th>Birthweight</th>\n",
       "      <th>Birthlength</th>\n",
       "      <th>Smoking</th>\n",
       "      <th>CigarettesPerDay</th>\n",
       "    </tr>\n",
       "  </thead>\n",
       "  <tbody>\n",
       "    <tr>\n",
       "      <td>123</td>\n",
       "      <td>False</td>\n",
       "      <td>False</td>\n",
       "      <td>False</td>\n",
       "      <td>False</td>\n",
       "      <td>False</td>\n",
       "      <td>True</td>\n",
       "    </tr>\n",
       "    <tr>\n",
       "      <td>124</td>\n",
       "      <td>False</td>\n",
       "      <td>False</td>\n",
       "      <td>False</td>\n",
       "      <td>False</td>\n",
       "      <td>False</td>\n",
       "      <td>True</td>\n",
       "    </tr>\n",
       "    <tr>\n",
       "      <td>125</td>\n",
       "      <td>False</td>\n",
       "      <td>False</td>\n",
       "      <td>False</td>\n",
       "      <td>False</td>\n",
       "      <td>False</td>\n",
       "      <td>True</td>\n",
       "    </tr>\n",
       "    <tr>\n",
       "      <td>126</td>\n",
       "      <td>False</td>\n",
       "      <td>False</td>\n",
       "      <td>False</td>\n",
       "      <td>False</td>\n",
       "      <td>False</td>\n",
       "      <td>False</td>\n",
       "    </tr>\n",
       "    <tr>\n",
       "      <td>127</td>\n",
       "      <td>False</td>\n",
       "      <td>False</td>\n",
       "      <td>False</td>\n",
       "      <td>False</td>\n",
       "      <td>False</td>\n",
       "      <td>True</td>\n",
       "    </tr>\n",
       "  </tbody>\n",
       "</table>\n",
       "</div>"
      ],
      "text/plain": [
       "     GestationalAge    Sex  Birthweight  Birthlength  Smoking  \\\n",
       "123           False  False        False        False    False   \n",
       "124           False  False        False        False    False   \n",
       "125           False  False        False        False    False   \n",
       "126           False  False        False        False    False   \n",
       "127           False  False        False        False    False   \n",
       "\n",
       "     CigarettesPerDay  \n",
       "123              True  \n",
       "124              True  \n",
       "125              True  \n",
       "126             False  \n",
       "127              True  "
      ]
     },
     "execution_count": 9,
     "metadata": {},
     "output_type": "execute_result"
    }
   ],
   "source": [
    "data.isnull().tail() #check for missing values in the tail end of data"
   ]
  },
  {
   "cell_type": "markdown",
   "metadata": {
    "colab_type": "text",
    "id": "BuScNNHDqOP1"
   },
   "source": [
    "Notice that there are missing values, `NaN`, in the dataset. Now let's count the missing values."
   ]
  },
  {
   "cell_type": "code",
   "execution_count": 11,
   "metadata": {
    "colab": {
     "base_uri": "https://localhost:8080/",
     "height": 136
    },
    "colab_type": "code",
    "executionInfo": {
     "elapsed": 1102,
     "status": "ok",
     "timestamp": 1550225971208,
     "user": {
      "displayName": "Benita Chumo",
      "photoUrl": "",
      "userId": "17915433232895509703"
     },
     "user_tz": -240
    },
    "id": "HtVcbJbxqOP5",
    "outputId": "f2f617f5-eb87-4c9d-98a0-44bf91625fb3"
   },
   "outputs": [
    {
     "data": {
      "text/plain": [
       "GestationalAge        0\n",
       "Sex                   0\n",
       "Birthweight           0\n",
       "Birthlength           0\n",
       "Smoking               0\n",
       "CigarettesPerDay    105\n",
       "dtype: int64"
      ]
     },
     "execution_count": 11,
     "metadata": {},
     "output_type": "execute_result"
    }
   ],
   "source": [
    "data.isnull().sum(axis=0) # count the missing values in each column"
   ]
  },
  {
   "cell_type": "markdown",
   "metadata": {
    "colab_type": "text",
    "id": "bjsyHcQsqOQG"
   },
   "source": [
    "CigarettesPerDay is the only variable with missing values, a total of 104."
   ]
  },
  {
   "cell_type": "markdown",
   "metadata": {
    "colab_type": "text",
    "id": "mK-S4D4hqOQK"
   },
   "source": [
    "### Dealing with missing values"
   ]
  },
  {
   "cell_type": "markdown",
   "metadata": {
    "colab_type": "text",
    "id": "IzdSoWl8qOQN"
   },
   "source": [
    "How do we handle missing values? Firstly, we have to identify the pattern of missing data. If a respondent in a survey chooses to not answer certain questions, a pattern could be observed in their responses. Data may also be missing at random. Depending on the nature of the relationship between the missing variable and other variables, we can apply certain techniques to treat missing values. See this link as well, which gives detailed techniques how to deal with missing values: <a href='https://support.sas.com/documentation/cdl/en/statug/63962/HTML/default/viewer.htm#statug_mi_sect019.htm'>The MI Procedure</a>.\n",
    "\n",
    "If a respondent in a survey enters the same response to all the questions, replacing missing values with the same response is a reasonable thing to do. A word of caution: dropping missing values when the sample set is small will affect the results of the statistical test so it's best to investigate if it's a true error. Else, keep it in."
   ]
  },
  {
   "cell_type": "markdown",
   "metadata": {
    "colab_type": "text",
    "id": "Ief_8ctpqOQS"
   },
   "source": [
    "#### Dropping missing values in Pandas\n",
    "\n",
    "If the results are crucial for a test, dropping these values is an option. The `dropna()` lets us drop rows with missing values."
   ]
  },
  {
   "cell_type": "markdown",
   "metadata": {
    "colab_type": "text",
    "id": "HyUzxxjnqOQY"
   },
   "source": [
    "Starting from the original dataset:"
   ]
  },
  {
   "cell_type": "code",
   "execution_count": 12,
   "metadata": {
    "colab": {
     "base_uri": "https://localhost:8080/",
     "height": 1969
    },
    "colab_type": "code",
    "executionInfo": {
     "elapsed": 1056,
     "status": "ok",
     "timestamp": 1550225977661,
     "user": {
      "displayName": "Benita Chumo",
      "photoUrl": "",
      "userId": "17915433232895509703"
     },
     "user_tz": -240
    },
    "id": "ACCk7INjqOQh",
    "outputId": "abe50368-ede4-488d-ed28-9a8c7bd6401a"
   },
   "outputs": [
    {
     "data": {
      "text/html": [
       "<div>\n",
       "<style scoped>\n",
       "    .dataframe tbody tr th:only-of-type {\n",
       "        vertical-align: middle;\n",
       "    }\n",
       "\n",
       "    .dataframe tbody tr th {\n",
       "        vertical-align: top;\n",
       "    }\n",
       "\n",
       "    .dataframe thead th {\n",
       "        text-align: right;\n",
       "    }\n",
       "</style>\n",
       "<table border=\"1\" class=\"dataframe\">\n",
       "  <thead>\n",
       "    <tr style=\"text-align: right;\">\n",
       "      <th></th>\n",
       "      <th>GestationalAge</th>\n",
       "      <th>Sex</th>\n",
       "      <th>Birthweight</th>\n",
       "      <th>Birthlength</th>\n",
       "      <th>Smoking</th>\n",
       "      <th>CigarettesPerDay</th>\n",
       "    </tr>\n",
       "  </thead>\n",
       "  <tbody>\n",
       "    <tr>\n",
       "      <td>0</td>\n",
       "      <td>281</td>\n",
       "      <td>boy</td>\n",
       "      <td>3.35</td>\n",
       "      <td>54.0</td>\n",
       "      <td>Y</td>\n",
       "      <td>NaN</td>\n",
       "    </tr>\n",
       "    <tr>\n",
       "      <td>1</td>\n",
       "      <td>265</td>\n",
       "      <td>girl</td>\n",
       "      <td>3.72</td>\n",
       "      <td>48.0</td>\n",
       "      <td>Y</td>\n",
       "      <td>NaN</td>\n",
       "    </tr>\n",
       "    <tr>\n",
       "      <td>2</td>\n",
       "      <td>274</td>\n",
       "      <td>girl</td>\n",
       "      <td>3.10</td>\n",
       "      <td>50.0</td>\n",
       "      <td>N</td>\n",
       "      <td>NaN</td>\n",
       "    </tr>\n",
       "    <tr>\n",
       "      <td>3</td>\n",
       "      <td>291</td>\n",
       "      <td>girl</td>\n",
       "      <td>4.58</td>\n",
       "      <td>57.0</td>\n",
       "      <td>Y</td>\n",
       "      <td>15.0</td>\n",
       "    </tr>\n",
       "    <tr>\n",
       "      <td>4</td>\n",
       "      <td>290</td>\n",
       "      <td>boy</td>\n",
       "      <td>3.20</td>\n",
       "      <td>49.0</td>\n",
       "      <td>N</td>\n",
       "      <td>NaN</td>\n",
       "    </tr>\n",
       "    <tr>\n",
       "      <td>...</td>\n",
       "      <td>...</td>\n",
       "      <td>...</td>\n",
       "      <td>...</td>\n",
       "      <td>...</td>\n",
       "      <td>...</td>\n",
       "      <td>...</td>\n",
       "    </tr>\n",
       "    <tr>\n",
       "      <td>123</td>\n",
       "      <td>262</td>\n",
       "      <td>girl</td>\n",
       "      <td>3.20</td>\n",
       "      <td>50.0</td>\n",
       "      <td>N</td>\n",
       "      <td>NaN</td>\n",
       "    </tr>\n",
       "    <tr>\n",
       "      <td>124</td>\n",
       "      <td>279</td>\n",
       "      <td>girl</td>\n",
       "      <td>3.52</td>\n",
       "      <td>53.0</td>\n",
       "      <td>N</td>\n",
       "      <td>NaN</td>\n",
       "    </tr>\n",
       "    <tr>\n",
       "      <td>125</td>\n",
       "      <td>273</td>\n",
       "      <td>girl</td>\n",
       "      <td>3.40</td>\n",
       "      <td>51.0</td>\n",
       "      <td>Y</td>\n",
       "      <td>NaN</td>\n",
       "    </tr>\n",
       "    <tr>\n",
       "      <td>126</td>\n",
       "      <td>274</td>\n",
       "      <td>girl</td>\n",
       "      <td>3.74</td>\n",
       "      <td>52.0</td>\n",
       "      <td>Y</td>\n",
       "      <td>15.0</td>\n",
       "    </tr>\n",
       "    <tr>\n",
       "      <td>127</td>\n",
       "      <td>274</td>\n",
       "      <td>boy</td>\n",
       "      <td>4.08</td>\n",
       "      <td>55.0</td>\n",
       "      <td>N</td>\n",
       "      <td>NaN</td>\n",
       "    </tr>\n",
       "  </tbody>\n",
       "</table>\n",
       "<p>128 rows × 6 columns</p>\n",
       "</div>"
      ],
      "text/plain": [
       "     GestationalAge   Sex  Birthweight  Birthlength Smoking  CigarettesPerDay\n",
       "0               281   boy         3.35         54.0       Y               NaN\n",
       "1               265  girl         3.72         48.0       Y               NaN\n",
       "2               274  girl         3.10         50.0       N               NaN\n",
       "3               291  girl         4.58         57.0       Y              15.0\n",
       "4               290   boy         3.20         49.0       N               NaN\n",
       "..              ...   ...          ...          ...     ...               ...\n",
       "123             262  girl         3.20         50.0       N               NaN\n",
       "124             279  girl         3.52         53.0       N               NaN\n",
       "125             273  girl         3.40         51.0       Y               NaN\n",
       "126             274  girl         3.74         52.0       Y              15.0\n",
       "127             274   boy         4.08         55.0       N               NaN\n",
       "\n",
       "[128 rows x 6 columns]"
      ]
     },
     "execution_count": 12,
     "metadata": {},
     "output_type": "execute_result"
    }
   ],
   "source": [
    "data"
   ]
  },
  {
   "cell_type": "markdown",
   "metadata": {
    "colab_type": "text",
    "id": "8FzylpEGqOQv"
   },
   "source": [
    "We drop all the missing values:"
   ]
  },
  {
   "cell_type": "code",
   "execution_count": 15,
   "metadata": {
    "colab": {
     "base_uri": "https://localhost:8080/",
     "height": 700
    },
    "colab_type": "code",
    "executionInfo": {
     "elapsed": 1180,
     "status": "ok",
     "timestamp": 1550225986290,
     "user": {
      "displayName": "Benita Chumo",
      "photoUrl": "",
      "userId": "17915433232895509703"
     },
     "user_tz": -240
    },
    "id": "IfQXRX9LqOQy",
    "outputId": "3e5043fd-453a-4f09-b41e-74fc8cebee09"
   },
   "outputs": [
    {
     "data": {
      "text/html": [
       "<div>\n",
       "<style scoped>\n",
       "    .dataframe tbody tr th:only-of-type {\n",
       "        vertical-align: middle;\n",
       "    }\n",
       "\n",
       "    .dataframe tbody tr th {\n",
       "        vertical-align: top;\n",
       "    }\n",
       "\n",
       "    .dataframe thead th {\n",
       "        text-align: right;\n",
       "    }\n",
       "</style>\n",
       "<table border=\"1\" class=\"dataframe\">\n",
       "  <thead>\n",
       "    <tr style=\"text-align: right;\">\n",
       "      <th></th>\n",
       "      <th>GestationalAge</th>\n",
       "      <th>Sex</th>\n",
       "      <th>Birthweight</th>\n",
       "      <th>Birthlength</th>\n",
       "      <th>Smoking</th>\n",
       "      <th>CigarettesPerDay</th>\n",
       "    </tr>\n",
       "  </thead>\n",
       "  <tbody>\n",
       "    <tr>\n",
       "      <td>3</td>\n",
       "      <td>291</td>\n",
       "      <td>girl</td>\n",
       "      <td>4.58</td>\n",
       "      <td>57.000000</td>\n",
       "      <td>Y</td>\n",
       "      <td>15.0</td>\n",
       "    </tr>\n",
       "    <tr>\n",
       "      <td>5</td>\n",
       "      <td>284</td>\n",
       "      <td>girl</td>\n",
       "      <td>4.46</td>\n",
       "      <td>53.500000</td>\n",
       "      <td>Y</td>\n",
       "      <td>5.0</td>\n",
       "    </tr>\n",
       "    <tr>\n",
       "      <td>6</td>\n",
       "      <td>279</td>\n",
       "      <td>girl</td>\n",
       "      <td>3.55</td>\n",
       "      <td>52.000000</td>\n",
       "      <td>Y</td>\n",
       "      <td>10.0</td>\n",
       "    </tr>\n",
       "    <tr>\n",
       "      <td>7</td>\n",
       "      <td>287</td>\n",
       "      <td>girl</td>\n",
       "      <td>3.26</td>\n",
       "      <td>53.500000</td>\n",
       "      <td>Y</td>\n",
       "      <td>10.0</td>\n",
       "    </tr>\n",
       "    <tr>\n",
       "      <td>8</td>\n",
       "      <td>274</td>\n",
       "      <td>girl</td>\n",
       "      <td>3.50</td>\n",
       "      <td>53.000000</td>\n",
       "      <td>Y</td>\n",
       "      <td>10.0</td>\n",
       "    </tr>\n",
       "    <tr>\n",
       "      <td>9</td>\n",
       "      <td>293</td>\n",
       "      <td>boy</td>\n",
       "      <td>3.10</td>\n",
       "      <td>51.000000</td>\n",
       "      <td>Y</td>\n",
       "      <td>12.0</td>\n",
       "    </tr>\n",
       "    <tr>\n",
       "      <td>11</td>\n",
       "      <td>293</td>\n",
       "      <td>boy</td>\n",
       "      <td>3.74</td>\n",
       "      <td>53.000000</td>\n",
       "      <td>Y</td>\n",
       "      <td>15.0</td>\n",
       "    </tr>\n",
       "    <tr>\n",
       "      <td>12</td>\n",
       "      <td>278</td>\n",
       "      <td>girl</td>\n",
       "      <td>3.76</td>\n",
       "      <td>50.000000</td>\n",
       "      <td>Y</td>\n",
       "      <td>5.0</td>\n",
       "    </tr>\n",
       "    <tr>\n",
       "      <td>14</td>\n",
       "      <td>277</td>\n",
       "      <td>boy</td>\n",
       "      <td>3.55</td>\n",
       "      <td>52.000000</td>\n",
       "      <td>Y</td>\n",
       "      <td>2.0</td>\n",
       "    </tr>\n",
       "    <tr>\n",
       "      <td>15</td>\n",
       "      <td>288</td>\n",
       "      <td>girl</td>\n",
       "      <td>3.77</td>\n",
       "      <td>53.000000</td>\n",
       "      <td>Y</td>\n",
       "      <td>15.0</td>\n",
       "    </tr>\n",
       "    <tr>\n",
       "      <td>16</td>\n",
       "      <td>277</td>\n",
       "      <td>girl</td>\n",
       "      <td>3.30</td>\n",
       "      <td>51.000000</td>\n",
       "      <td>Y</td>\n",
       "      <td>20.0</td>\n",
       "    </tr>\n",
       "    <tr>\n",
       "      <td>17</td>\n",
       "      <td>295</td>\n",
       "      <td>boy</td>\n",
       "      <td>4.00</td>\n",
       "      <td>55.000000</td>\n",
       "      <td>Y</td>\n",
       "      <td>1.0</td>\n",
       "    </tr>\n",
       "    <tr>\n",
       "      <td>20</td>\n",
       "      <td>278</td>\n",
       "      <td>boy</td>\n",
       "      <td>3.40</td>\n",
       "      <td>52.000000</td>\n",
       "      <td>Y</td>\n",
       "      <td>2.0</td>\n",
       "    </tr>\n",
       "    <tr>\n",
       "      <td>21</td>\n",
       "      <td>281</td>\n",
       "      <td>boy</td>\n",
       "      <td>3.24</td>\n",
       "      <td>51.000000</td>\n",
       "      <td>Y</td>\n",
       "      <td>10.0</td>\n",
       "    </tr>\n",
       "    <tr>\n",
       "      <td>24</td>\n",
       "      <td>236</td>\n",
       "      <td>girl</td>\n",
       "      <td>1.90</td>\n",
       "      <td>52.075397</td>\n",
       "      <td>Y</td>\n",
       "      <td>5.0</td>\n",
       "    </tr>\n",
       "    <tr>\n",
       "      <td>26</td>\n",
       "      <td>207</td>\n",
       "      <td>girl</td>\n",
       "      <td>0.63</td>\n",
       "      <td>52.075397</td>\n",
       "      <td>Y</td>\n",
       "      <td>12.0</td>\n",
       "    </tr>\n",
       "    <tr>\n",
       "      <td>27</td>\n",
       "      <td>293</td>\n",
       "      <td>girl</td>\n",
       "      <td>3.83</td>\n",
       "      <td>55.000000</td>\n",
       "      <td>Y</td>\n",
       "      <td>1.0</td>\n",
       "    </tr>\n",
       "    <tr>\n",
       "      <td>29</td>\n",
       "      <td>281</td>\n",
       "      <td>girl</td>\n",
       "      <td>4.00</td>\n",
       "      <td>54.000000</td>\n",
       "      <td>Y</td>\n",
       "      <td>6.0</td>\n",
       "    </tr>\n",
       "    <tr>\n",
       "      <td>31</td>\n",
       "      <td>285</td>\n",
       "      <td>boy</td>\n",
       "      <td>3.74</td>\n",
       "      <td>51.000000</td>\n",
       "      <td>Y</td>\n",
       "      <td>10.0</td>\n",
       "    </tr>\n",
       "    <tr>\n",
       "      <td>32</td>\n",
       "      <td>279</td>\n",
       "      <td>boy</td>\n",
       "      <td>2.70</td>\n",
       "      <td>49.000000</td>\n",
       "      <td>Y</td>\n",
       "      <td>15.0</td>\n",
       "    </tr>\n",
       "    <tr>\n",
       "      <td>35</td>\n",
       "      <td>282</td>\n",
       "      <td>girl</td>\n",
       "      <td>2.85</td>\n",
       "      <td>50.000000</td>\n",
       "      <td>Y</td>\n",
       "      <td>10.0</td>\n",
       "    </tr>\n",
       "    <tr>\n",
       "      <td>36</td>\n",
       "      <td>282</td>\n",
       "      <td>boy</td>\n",
       "      <td>3.36</td>\n",
       "      <td>50.000000</td>\n",
       "      <td>Y</td>\n",
       "      <td>3.0</td>\n",
       "    </tr>\n",
       "    <tr>\n",
       "      <td>126</td>\n",
       "      <td>274</td>\n",
       "      <td>girl</td>\n",
       "      <td>3.74</td>\n",
       "      <td>52.000000</td>\n",
       "      <td>Y</td>\n",
       "      <td>15.0</td>\n",
       "    </tr>\n",
       "  </tbody>\n",
       "</table>\n",
       "</div>"
      ],
      "text/plain": [
       "     GestationalAge   Sex  Birthweight  Birthlength Smoking  CigarettesPerDay\n",
       "3               291  girl         4.58    57.000000       Y              15.0\n",
       "5               284  girl         4.46    53.500000       Y               5.0\n",
       "6               279  girl         3.55    52.000000       Y              10.0\n",
       "7               287  girl         3.26    53.500000       Y              10.0\n",
       "8               274  girl         3.50    53.000000       Y              10.0\n",
       "9               293   boy         3.10    51.000000       Y              12.0\n",
       "11              293   boy         3.74    53.000000       Y              15.0\n",
       "12              278  girl         3.76    50.000000       Y               5.0\n",
       "14              277   boy         3.55    52.000000       Y               2.0\n",
       "15              288  girl         3.77    53.000000       Y              15.0\n",
       "16              277  girl         3.30    51.000000       Y              20.0\n",
       "17              295   boy         4.00    55.000000       Y               1.0\n",
       "20              278   boy         3.40    52.000000       Y               2.0\n",
       "21              281   boy         3.24    51.000000       Y              10.0\n",
       "24              236  girl         1.90    52.075397       Y               5.0\n",
       "26              207  girl         0.63    52.075397       Y              12.0\n",
       "27              293  girl         3.83    55.000000       Y               1.0\n",
       "29              281  girl         4.00    54.000000       Y               6.0\n",
       "31              285   boy         3.74    51.000000       Y              10.0\n",
       "32              279   boy         2.70    49.000000       Y              15.0\n",
       "35              282  girl         2.85    50.000000       Y              10.0\n",
       "36              282   boy         3.36    50.000000       Y               3.0\n",
       "126             274  girl         3.74    52.000000       Y              15.0"
      ]
     },
     "execution_count": 15,
     "metadata": {},
     "output_type": "execute_result"
    }
   ],
   "source": [
    "data.dropna() # returns the dataset minus all NaNs"
   ]
  },
  {
   "cell_type": "code",
   "execution_count": 17,
   "metadata": {},
   "outputs": [
    {
     "data": {
      "text/plain": [
       "(23, 6)"
      ]
     },
     "execution_count": 17,
     "metadata": {},
     "output_type": "execute_result"
    }
   ],
   "source": [
    "(data.dropna()).shape"
   ]
  },
  {
   "cell_type": "markdown",
   "metadata": {
    "colab_type": "text",
    "id": "IYeRjx6TqORI"
   },
   "source": [
    "#### Filling in missing values with Pandas"
   ]
  },
  {
   "cell_type": "markdown",
   "metadata": {
    "colab_type": "text",
    "id": "DmzMEO5kqORM"
   },
   "source": [
    "We could transform the missing values for counting purposes especially when we need to group data. Suppose we want visualise the missing values? Let's use the `DataFrame.fillna()` function and fill in those missing values with a `-1`. We're assuming `-1` is a safe number and won't affect the other values already in the table. \n",
    "<p></p>\n",
    "Before filling in the missing values, we get the results below when grouping data for a count of smokers vs. non-smokers"
   ]
  },
  {
   "cell_type": "code",
   "execution_count": 18,
   "metadata": {
    "colab": {
     "base_uri": "https://localhost:8080/",
     "height": 142
    },
    "colab_type": "code",
    "executionInfo": {
     "elapsed": 936,
     "status": "ok",
     "timestamp": 1550225993321,
     "user": {
      "displayName": "Benita Chumo",
      "photoUrl": "",
      "userId": "17915433232895509703"
     },
     "user_tz": -240
    },
    "id": "_WV910D5qORR",
    "outputId": "1e804835-86d6-4e3b-a690-da6835929ff1"
   },
   "outputs": [
    {
     "data": {
      "text/html": [
       "<div>\n",
       "<style scoped>\n",
       "    .dataframe tbody tr th:only-of-type {\n",
       "        vertical-align: middle;\n",
       "    }\n",
       "\n",
       "    .dataframe tbody tr th {\n",
       "        vertical-align: top;\n",
       "    }\n",
       "\n",
       "    .dataframe thead th {\n",
       "        text-align: right;\n",
       "    }\n",
       "</style>\n",
       "<table border=\"1\" class=\"dataframe\">\n",
       "  <thead>\n",
       "    <tr style=\"text-align: right;\">\n",
       "      <th></th>\n",
       "      <th>GestationalAge</th>\n",
       "      <th>Sex</th>\n",
       "      <th>Birthweight</th>\n",
       "      <th>Birthlength</th>\n",
       "      <th>CigarettesPerDay</th>\n",
       "    </tr>\n",
       "    <tr>\n",
       "      <th>Smoking</th>\n",
       "      <th></th>\n",
       "      <th></th>\n",
       "      <th></th>\n",
       "      <th></th>\n",
       "      <th></th>\n",
       "    </tr>\n",
       "  </thead>\n",
       "  <tbody>\n",
       "    <tr>\n",
       "      <td>N</td>\n",
       "      <td>94</td>\n",
       "      <td>94</td>\n",
       "      <td>94</td>\n",
       "      <td>94</td>\n",
       "      <td>0</td>\n",
       "    </tr>\n",
       "    <tr>\n",
       "      <td>Y</td>\n",
       "      <td>34</td>\n",
       "      <td>34</td>\n",
       "      <td>34</td>\n",
       "      <td>34</td>\n",
       "      <td>23</td>\n",
       "    </tr>\n",
       "  </tbody>\n",
       "</table>\n",
       "</div>"
      ],
      "text/plain": [
       "         GestationalAge  Sex  Birthweight  Birthlength  CigarettesPerDay\n",
       "Smoking                                                                 \n",
       "N                    94   94           94           94                 0\n",
       "Y                    34   34           34           34                23"
      ]
     },
     "execution_count": 18,
     "metadata": {},
     "output_type": "execute_result"
    }
   ],
   "source": [
    "data.groupby(['Smoking']).count()"
   ]
  },
  {
   "cell_type": "markdown",
   "metadata": {
    "colab_type": "text",
    "id": "ipI3hft4qORc"
   },
   "source": [
    "When we fill the missing values with a -1, we get the results below:"
   ]
  },
  {
   "cell_type": "code",
   "execution_count": 20,
   "metadata": {
    "colab": {},
    "colab_type": "code",
    "id": "0LFhM-caqORg"
   },
   "outputs": [
    {
     "data": {
      "text/html": [
       "<div>\n",
       "<style scoped>\n",
       "    .dataframe tbody tr th:only-of-type {\n",
       "        vertical-align: middle;\n",
       "    }\n",
       "\n",
       "    .dataframe tbody tr th {\n",
       "        vertical-align: top;\n",
       "    }\n",
       "\n",
       "    .dataframe thead th {\n",
       "        text-align: right;\n",
       "    }\n",
       "</style>\n",
       "<table border=\"1\" class=\"dataframe\">\n",
       "  <thead>\n",
       "    <tr style=\"text-align: right;\">\n",
       "      <th></th>\n",
       "      <th>GestationalAge</th>\n",
       "      <th>Sex</th>\n",
       "      <th>Birthweight</th>\n",
       "      <th>Birthlength</th>\n",
       "      <th>Smoking</th>\n",
       "      <th>CigarettesPerDay</th>\n",
       "    </tr>\n",
       "  </thead>\n",
       "  <tbody>\n",
       "    <tr>\n",
       "      <td>0</td>\n",
       "      <td>281</td>\n",
       "      <td>boy</td>\n",
       "      <td>3.35</td>\n",
       "      <td>54.0</td>\n",
       "      <td>Y</td>\n",
       "      <td>-1.0</td>\n",
       "    </tr>\n",
       "    <tr>\n",
       "      <td>1</td>\n",
       "      <td>265</td>\n",
       "      <td>girl</td>\n",
       "      <td>3.72</td>\n",
       "      <td>48.0</td>\n",
       "      <td>Y</td>\n",
       "      <td>-1.0</td>\n",
       "    </tr>\n",
       "    <tr>\n",
       "      <td>2</td>\n",
       "      <td>274</td>\n",
       "      <td>girl</td>\n",
       "      <td>3.10</td>\n",
       "      <td>50.0</td>\n",
       "      <td>N</td>\n",
       "      <td>-1.0</td>\n",
       "    </tr>\n",
       "    <tr>\n",
       "      <td>3</td>\n",
       "      <td>291</td>\n",
       "      <td>girl</td>\n",
       "      <td>4.58</td>\n",
       "      <td>57.0</td>\n",
       "      <td>Y</td>\n",
       "      <td>15.0</td>\n",
       "    </tr>\n",
       "    <tr>\n",
       "      <td>4</td>\n",
       "      <td>290</td>\n",
       "      <td>boy</td>\n",
       "      <td>3.20</td>\n",
       "      <td>49.0</td>\n",
       "      <td>N</td>\n",
       "      <td>-1.0</td>\n",
       "    </tr>\n",
       "    <tr>\n",
       "      <td>...</td>\n",
       "      <td>...</td>\n",
       "      <td>...</td>\n",
       "      <td>...</td>\n",
       "      <td>...</td>\n",
       "      <td>...</td>\n",
       "      <td>...</td>\n",
       "    </tr>\n",
       "    <tr>\n",
       "      <td>123</td>\n",
       "      <td>262</td>\n",
       "      <td>girl</td>\n",
       "      <td>3.20</td>\n",
       "      <td>50.0</td>\n",
       "      <td>N</td>\n",
       "      <td>-1.0</td>\n",
       "    </tr>\n",
       "    <tr>\n",
       "      <td>124</td>\n",
       "      <td>279</td>\n",
       "      <td>girl</td>\n",
       "      <td>3.52</td>\n",
       "      <td>53.0</td>\n",
       "      <td>N</td>\n",
       "      <td>-1.0</td>\n",
       "    </tr>\n",
       "    <tr>\n",
       "      <td>125</td>\n",
       "      <td>273</td>\n",
       "      <td>girl</td>\n",
       "      <td>3.40</td>\n",
       "      <td>51.0</td>\n",
       "      <td>Y</td>\n",
       "      <td>-1.0</td>\n",
       "    </tr>\n",
       "    <tr>\n",
       "      <td>126</td>\n",
       "      <td>274</td>\n",
       "      <td>girl</td>\n",
       "      <td>3.74</td>\n",
       "      <td>52.0</td>\n",
       "      <td>Y</td>\n",
       "      <td>15.0</td>\n",
       "    </tr>\n",
       "    <tr>\n",
       "      <td>127</td>\n",
       "      <td>274</td>\n",
       "      <td>boy</td>\n",
       "      <td>4.08</td>\n",
       "      <td>55.0</td>\n",
       "      <td>N</td>\n",
       "      <td>-1.0</td>\n",
       "    </tr>\n",
       "  </tbody>\n",
       "</table>\n",
       "<p>128 rows × 6 columns</p>\n",
       "</div>"
      ],
      "text/plain": [
       "     GestationalAge   Sex  Birthweight  Birthlength Smoking  CigarettesPerDay\n",
       "0               281   boy         3.35         54.0       Y              -1.0\n",
       "1               265  girl         3.72         48.0       Y              -1.0\n",
       "2               274  girl         3.10         50.0       N              -1.0\n",
       "3               291  girl         4.58         57.0       Y              15.0\n",
       "4               290   boy         3.20         49.0       N              -1.0\n",
       "..              ...   ...          ...          ...     ...               ...\n",
       "123             262  girl         3.20         50.0       N              -1.0\n",
       "124             279  girl         3.52         53.0       N              -1.0\n",
       "125             273  girl         3.40         51.0       Y              -1.0\n",
       "126             274  girl         3.74         52.0       Y              15.0\n",
       "127             274   boy         4.08         55.0       N              -1.0\n",
       "\n",
       "[128 rows x 6 columns]"
      ]
     },
     "execution_count": 20,
     "metadata": {},
     "output_type": "execute_result"
    }
   ],
   "source": [
    "df = data.fillna(-1)\n",
    "df"
   ]
  },
  {
   "cell_type": "code",
   "execution_count": 21,
   "metadata": {
    "colab": {
     "base_uri": "https://localhost:8080/",
     "height": 142
    },
    "colab_type": "code",
    "executionInfo": {
     "elapsed": 1069,
     "status": "ok",
     "timestamp": 1550226002985,
     "user": {
      "displayName": "Benita Chumo",
      "photoUrl": "",
      "userId": "17915433232895509703"
     },
     "user_tz": -240
    },
    "id": "jZml0DEWqORq",
    "outputId": "6c1936bb-ce06-4388-adf9-d09a7108b100"
   },
   "outputs": [
    {
     "data": {
      "text/html": [
       "<div>\n",
       "<style scoped>\n",
       "    .dataframe tbody tr th:only-of-type {\n",
       "        vertical-align: middle;\n",
       "    }\n",
       "\n",
       "    .dataframe tbody tr th {\n",
       "        vertical-align: top;\n",
       "    }\n",
       "\n",
       "    .dataframe thead th {\n",
       "        text-align: right;\n",
       "    }\n",
       "</style>\n",
       "<table border=\"1\" class=\"dataframe\">\n",
       "  <thead>\n",
       "    <tr style=\"text-align: right;\">\n",
       "      <th></th>\n",
       "      <th>GestationalAge</th>\n",
       "      <th>Sex</th>\n",
       "      <th>Birthweight</th>\n",
       "      <th>Birthlength</th>\n",
       "      <th>CigarettesPerDay</th>\n",
       "    </tr>\n",
       "    <tr>\n",
       "      <th>Smoking</th>\n",
       "      <th></th>\n",
       "      <th></th>\n",
       "      <th></th>\n",
       "      <th></th>\n",
       "      <th></th>\n",
       "    </tr>\n",
       "  </thead>\n",
       "  <tbody>\n",
       "    <tr>\n",
       "      <td>N</td>\n",
       "      <td>94</td>\n",
       "      <td>94</td>\n",
       "      <td>94</td>\n",
       "      <td>94</td>\n",
       "      <td>94</td>\n",
       "    </tr>\n",
       "    <tr>\n",
       "      <td>Y</td>\n",
       "      <td>34</td>\n",
       "      <td>34</td>\n",
       "      <td>34</td>\n",
       "      <td>34</td>\n",
       "      <td>34</td>\n",
       "    </tr>\n",
       "  </tbody>\n",
       "</table>\n",
       "</div>"
      ],
      "text/plain": [
       "         GestationalAge  Sex  Birthweight  Birthlength  CigarettesPerDay\n",
       "Smoking                                                                 \n",
       "N                    94   94           94           94                94\n",
       "Y                    34   34           34           34                34"
      ]
     },
     "execution_count": 21,
     "metadata": {},
     "output_type": "execute_result"
    }
   ],
   "source": [
    "df.groupby(['Smoking']).count()"
   ]
  },
  {
   "cell_type": "markdown",
   "metadata": {
    "colab_type": "text",
    "id": "18adr4JRqORy"
   },
   "source": [
    "We create a new dataframe to contain the difference between the `NaN` values, which we've replaced with `-1`'s and the count without the `NaN` values."
   ]
  },
  {
   "cell_type": "code",
   "execution_count": 22,
   "metadata": {
    "colab": {},
    "colab_type": "code",
    "id": "L1kYUyjoqOR4"
   },
   "outputs": [],
   "source": [
    "df = (df.groupby(['Smoking']).count() - data.groupby(['Smoking']).count())"
   ]
  },
  {
   "cell_type": "code",
   "execution_count": 23,
   "metadata": {
    "colab": {
     "base_uri": "https://localhost:8080/",
     "height": 142
    },
    "colab_type": "code",
    "executionInfo": {
     "elapsed": 1053,
     "status": "ok",
     "timestamp": 1550226014881,
     "user": {
      "displayName": "Benita Chumo",
      "photoUrl": "",
      "userId": "17915433232895509703"
     },
     "user_tz": -240
    },
    "id": "WoTV2cmsqOSB",
    "outputId": "d71a6fde-1cd6-4bd6-90fe-d7f2c75cbc3c"
   },
   "outputs": [
    {
     "data": {
      "text/html": [
       "<div>\n",
       "<style scoped>\n",
       "    .dataframe tbody tr th:only-of-type {\n",
       "        vertical-align: middle;\n",
       "    }\n",
       "\n",
       "    .dataframe tbody tr th {\n",
       "        vertical-align: top;\n",
       "    }\n",
       "\n",
       "    .dataframe thead th {\n",
       "        text-align: right;\n",
       "    }\n",
       "</style>\n",
       "<table border=\"1\" class=\"dataframe\">\n",
       "  <thead>\n",
       "    <tr style=\"text-align: right;\">\n",
       "      <th></th>\n",
       "      <th>GestationalAge</th>\n",
       "      <th>Sex</th>\n",
       "      <th>Birthweight</th>\n",
       "      <th>Birthlength</th>\n",
       "      <th>CigarettesPerDay</th>\n",
       "    </tr>\n",
       "    <tr>\n",
       "      <th>Smoking</th>\n",
       "      <th></th>\n",
       "      <th></th>\n",
       "      <th></th>\n",
       "      <th></th>\n",
       "      <th></th>\n",
       "    </tr>\n",
       "  </thead>\n",
       "  <tbody>\n",
       "    <tr>\n",
       "      <td>N</td>\n",
       "      <td>0</td>\n",
       "      <td>0</td>\n",
       "      <td>0</td>\n",
       "      <td>0</td>\n",
       "      <td>94</td>\n",
       "    </tr>\n",
       "    <tr>\n",
       "      <td>Y</td>\n",
       "      <td>0</td>\n",
       "      <td>0</td>\n",
       "      <td>0</td>\n",
       "      <td>0</td>\n",
       "      <td>11</td>\n",
       "    </tr>\n",
       "  </tbody>\n",
       "</table>\n",
       "</div>"
      ],
      "text/plain": [
       "         GestationalAge  Sex  Birthweight  Birthlength  CigarettesPerDay\n",
       "Smoking                                                                 \n",
       "N                     0    0            0            0                94\n",
       "Y                     0    0            0            0                11"
      ]
     },
     "execution_count": 23,
     "metadata": {},
     "output_type": "execute_result"
    }
   ],
   "source": [
    "df"
   ]
  },
  {
   "cell_type": "markdown",
   "metadata": {
    "colab_type": "text",
    "collapsed": true,
    "id": "uJ0QT_HTqOSK"
   },
   "source": [
    "Here we see that the number of missing values grouped according to `Smoking` matches the original count."
   ]
  },
  {
   "cell_type": "markdown",
   "metadata": {
    "colab_type": "text",
    "id": "RqDk77WZqOSN"
   },
   "source": [
    "### Exercise"
   ]
  },
  {
   "cell_type": "markdown",
   "metadata": {
    "colab_type": "text",
    "id": "AfhYggHmqOSR"
   },
   "source": [
    "Another method to replace missing values is to impute them by replacing them with the mean. You now know how to calculate means and replace missing values. For this exercise, replace the missing `Birthlength` data points in the data set with the mean of the `Birthlength`."
   ]
  },
  {
   "cell_type": "code",
   "execution_count": 38,
   "metadata": {
    "colab": {},
    "colab_type": "code",
    "id": "O29XjrfuqOSY"
   },
   "outputs": [
    {
     "data": {
      "text/html": [
       "<div>\n",
       "<style scoped>\n",
       "    .dataframe tbody tr th:only-of-type {\n",
       "        vertical-align: middle;\n",
       "    }\n",
       "\n",
       "    .dataframe tbody tr th {\n",
       "        vertical-align: top;\n",
       "    }\n",
       "\n",
       "    .dataframe thead th {\n",
       "        text-align: right;\n",
       "    }\n",
       "</style>\n",
       "<table border=\"1\" class=\"dataframe\">\n",
       "  <thead>\n",
       "    <tr style=\"text-align: right;\">\n",
       "      <th></th>\n",
       "      <th>GestationalAge</th>\n",
       "      <th>Sex</th>\n",
       "      <th>Birthweight</th>\n",
       "      <th>Birthlength</th>\n",
       "      <th>Smoking</th>\n",
       "      <th>CigarettesPerDay</th>\n",
       "    </tr>\n",
       "  </thead>\n",
       "  <tbody>\n",
       "    <tr>\n",
       "      <td>0</td>\n",
       "      <td>281</td>\n",
       "      <td>boy</td>\n",
       "      <td>3.35</td>\n",
       "      <td>54.0</td>\n",
       "      <td>Y</td>\n",
       "      <td>NaN</td>\n",
       "    </tr>\n",
       "    <tr>\n",
       "      <td>1</td>\n",
       "      <td>265</td>\n",
       "      <td>girl</td>\n",
       "      <td>3.72</td>\n",
       "      <td>48.0</td>\n",
       "      <td>Y</td>\n",
       "      <td>NaN</td>\n",
       "    </tr>\n",
       "    <tr>\n",
       "      <td>2</td>\n",
       "      <td>274</td>\n",
       "      <td>girl</td>\n",
       "      <td>3.10</td>\n",
       "      <td>50.0</td>\n",
       "      <td>N</td>\n",
       "      <td>NaN</td>\n",
       "    </tr>\n",
       "    <tr>\n",
       "      <td>3</td>\n",
       "      <td>291</td>\n",
       "      <td>girl</td>\n",
       "      <td>4.58</td>\n",
       "      <td>57.0</td>\n",
       "      <td>Y</td>\n",
       "      <td>15.0</td>\n",
       "    </tr>\n",
       "    <tr>\n",
       "      <td>4</td>\n",
       "      <td>290</td>\n",
       "      <td>boy</td>\n",
       "      <td>3.20</td>\n",
       "      <td>49.0</td>\n",
       "      <td>N</td>\n",
       "      <td>NaN</td>\n",
       "    </tr>\n",
       "    <tr>\n",
       "      <td>...</td>\n",
       "      <td>...</td>\n",
       "      <td>...</td>\n",
       "      <td>...</td>\n",
       "      <td>...</td>\n",
       "      <td>...</td>\n",
       "      <td>...</td>\n",
       "    </tr>\n",
       "    <tr>\n",
       "      <td>123</td>\n",
       "      <td>262</td>\n",
       "      <td>girl</td>\n",
       "      <td>3.20</td>\n",
       "      <td>50.0</td>\n",
       "      <td>N</td>\n",
       "      <td>NaN</td>\n",
       "    </tr>\n",
       "    <tr>\n",
       "      <td>124</td>\n",
       "      <td>279</td>\n",
       "      <td>girl</td>\n",
       "      <td>3.52</td>\n",
       "      <td>53.0</td>\n",
       "      <td>N</td>\n",
       "      <td>NaN</td>\n",
       "    </tr>\n",
       "    <tr>\n",
       "      <td>125</td>\n",
       "      <td>273</td>\n",
       "      <td>girl</td>\n",
       "      <td>3.40</td>\n",
       "      <td>51.0</td>\n",
       "      <td>Y</td>\n",
       "      <td>NaN</td>\n",
       "    </tr>\n",
       "    <tr>\n",
       "      <td>126</td>\n",
       "      <td>274</td>\n",
       "      <td>girl</td>\n",
       "      <td>3.74</td>\n",
       "      <td>52.0</td>\n",
       "      <td>Y</td>\n",
       "      <td>15.0</td>\n",
       "    </tr>\n",
       "    <tr>\n",
       "      <td>127</td>\n",
       "      <td>274</td>\n",
       "      <td>boy</td>\n",
       "      <td>4.08</td>\n",
       "      <td>55.0</td>\n",
       "      <td>N</td>\n",
       "      <td>NaN</td>\n",
       "    </tr>\n",
       "  </tbody>\n",
       "</table>\n",
       "<p>128 rows × 6 columns</p>\n",
       "</div>"
      ],
      "text/plain": [
       "     GestationalAge   Sex  Birthweight  Birthlength Smoking  CigarettesPerDay\n",
       "0               281   boy         3.35         54.0       Y               NaN\n",
       "1               265  girl         3.72         48.0       Y               NaN\n",
       "2               274  girl         3.10         50.0       N               NaN\n",
       "3               291  girl         4.58         57.0       Y              15.0\n",
       "4               290   boy         3.20         49.0       N               NaN\n",
       "..              ...   ...          ...          ...     ...               ...\n",
       "123             262  girl         3.20         50.0       N               NaN\n",
       "124             279  girl         3.52         53.0       N               NaN\n",
       "125             273  girl         3.40         51.0       Y               NaN\n",
       "126             274  girl         3.74         52.0       Y              15.0\n",
       "127             274   boy         4.08         55.0       N               NaN\n",
       "\n",
       "[128 rows x 6 columns]"
      ]
     },
     "execution_count": 38,
     "metadata": {},
     "output_type": "execute_result"
    }
   ],
   "source": [
    "data['Birthlength']=data['Birthlength'].fillna(data['Birthlength'].mean())\n",
    "data"
   ]
  },
  {
   "cell_type": "markdown",
   "metadata": {
    "colab_type": "text",
    "id": "W78zRUZyqOSl"
   },
   "source": [
    "<b>Practice Challenge</b>: Boxplots indicate where the median value lies. We can calculate the mean value by first sorting a list of observations and finding the middle value. Write a Python function that accepts as input a list of numbers and computes the median."
   ]
  },
  {
   "cell_type": "code",
   "execution_count": 77,
   "metadata": {},
   "outputs": [],
   "source": [
    "def median_list_number(list_number):\n",
    "    list_number.sort()\n",
    "    if len(list_number)%2==1:\n",
    "        median = list_number[len((list_number//2)+1)]\n",
    "    else:\n",
    "        median = (list_number[(len(list_number)//2)-1]+list_number[(len(list_number)//2)+1])/2\n",
    "    return median"
   ]
  },
  {
   "cell_type": "code",
   "execution_count": 78,
   "metadata": {},
   "outputs": [
    {
     "data": {
      "text/plain": [
       "54.5"
      ]
     },
     "execution_count": 78,
     "metadata": {},
     "output_type": "execute_result"
    }
   ],
   "source": [
    "list_number = [2, 39,60, 17, 49,21, 201, 122, 267, 565, 490, 39, 6879, 45, 45.5, 23, 49, 90]\n",
    "median_list_number(list_number)"
   ]
  }
 ],
 "metadata": {
  "colab": {
   "name": "dav_04_data_features.ipynb",
   "provenance": [],
   "version": "0.3.2"
  },
  "kernelspec": {
   "display_name": "Python 3",
   "language": "python",
   "name": "python3"
  },
  "language_info": {
   "codemirror_mode": {
    "name": "ipython",
    "version": 3
   },
   "file_extension": ".py",
   "mimetype": "text/x-python",
   "name": "python",
   "nbconvert_exporter": "python",
   "pygments_lexer": "ipython3",
   "version": "3.7.4"
  }
 },
 "nbformat": 4,
 "nbformat_minor": 1
}
