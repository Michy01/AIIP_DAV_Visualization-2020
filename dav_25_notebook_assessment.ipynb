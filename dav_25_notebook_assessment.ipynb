{
 "cells": [
  {
   "cell_type": "markdown",
   "metadata": {},
   "source": [
    "# Assessment"
   ]
  },
  {
   "cell_type": "markdown",
   "metadata": {},
   "source": [
    "## Michael NANA KAMENI"
   ]
  },
  {
   "cell_type": "markdown",
   "metadata": {},
   "source": [
    "### Question 1\n",
    "\n",
    "Using the taiChiData.csv dataset, study the effect of treatment after 24 weeks. \n"
   ]
  },
  {
   "cell_type": "markdown",
   "metadata": {},
   "source": [
    "#### Question 1.1\n",
    "Plot a box-and-whisker plot to see the mean difference between 24 weeks and the baseline. Formulate a hypothesis about treatment after 24 weeks. Interpret the results obtained.\n"
   ]
  },
  {
   "cell_type": "code",
   "execution_count": 1,
   "metadata": {},
   "outputs": [],
   "source": [
    "# Let us import useful libraries\n",
    "import pandas as pd\n",
    "import numpy as np\n",
    "import seaborn as sns\n",
    "import scipy.stats as stats\n",
    "import matplotlib.pyplot as plt"
   ]
  },
  {
   "cell_type": "code",
   "execution_count": 2,
   "metadata": {},
   "outputs": [],
   "source": [
    "# Just to ignore warnings messages\n",
    "import warnings\n",
    "warnings.filterwarnings(\"ignore\")\n",
    "plt.rcParams['figure.figsize']=(10,10)"
   ]
  },
  {
   "cell_type": "code",
   "execution_count": 3,
   "metadata": {},
   "outputs": [
    {
     "data": {
      "text/html": [
       "<div>\n",
       "<style scoped>\n",
       "    .dataframe tbody tr th:only-of-type {\n",
       "        vertical-align: middle;\n",
       "    }\n",
       "\n",
       "    .dataframe tbody tr th {\n",
       "        vertical-align: top;\n",
       "    }\n",
       "\n",
       "    .dataframe thead th {\n",
       "        text-align: right;\n",
       "    }\n",
       "</style>\n",
       "<table border=\"1\" class=\"dataframe\">\n",
       "  <thead>\n",
       "    <tr style=\"text-align: right;\">\n",
       "      <th></th>\n",
       "      <th>Unnamed: 0</th>\n",
       "      <th>Id</th>\n",
       "      <th>sex</th>\n",
       "      <th>BMI</th>\n",
       "      <th>duration</th>\n",
       "      <th>age</th>\n",
       "      <th>treatment</th>\n",
       "      <th>coexists</th>\n",
       "      <th>FIQ_baseline</th>\n",
       "      <th>FIQ_12W</th>\n",
       "      <th>FIQ_24W</th>\n",
       "    </tr>\n",
       "  </thead>\n",
       "  <tbody>\n",
       "    <tr>\n",
       "      <td>0</td>\n",
       "      <td>1</td>\n",
       "      <td>22</td>\n",
       "      <td>1</td>\n",
       "      <td>45.9</td>\n",
       "      <td>13.3</td>\n",
       "      <td>56.25</td>\n",
       "      <td>control</td>\n",
       "      <td>none</td>\n",
       "      <td>57.0</td>\n",
       "      <td>52.0</td>\n",
       "      <td>50.0</td>\n",
       "    </tr>\n",
       "    <tr>\n",
       "      <td>1</td>\n",
       "      <td>2</td>\n",
       "      <td>11</td>\n",
       "      <td>1</td>\n",
       "      <td>28.7</td>\n",
       "      <td>9.2</td>\n",
       "      <td>47.21</td>\n",
       "      <td>control</td>\n",
       "      <td>hypertension</td>\n",
       "      <td>85.0</td>\n",
       "      <td>88.0</td>\n",
       "      <td>85.0</td>\n",
       "    </tr>\n",
       "    <tr>\n",
       "      <td>2</td>\n",
       "      <td>3</td>\n",
       "      <td>36</td>\n",
       "      <td>1</td>\n",
       "      <td>35.5</td>\n",
       "      <td>6.7</td>\n",
       "      <td>59.56</td>\n",
       "      <td>tai chi</td>\n",
       "      <td>hypertension</td>\n",
       "      <td>83.0</td>\n",
       "      <td>68.0</td>\n",
       "      <td>68.0</td>\n",
       "    </tr>\n",
       "    <tr>\n",
       "      <td>3</td>\n",
       "      <td>4</td>\n",
       "      <td>1</td>\n",
       "      <td>1</td>\n",
       "      <td>29.8</td>\n",
       "      <td>17.1</td>\n",
       "      <td>43.44</td>\n",
       "      <td>control</td>\n",
       "      <td>diabetes</td>\n",
       "      <td>74.0</td>\n",
       "      <td>60.0</td>\n",
       "      <td>62.0</td>\n",
       "    </tr>\n",
       "    <tr>\n",
       "      <td>4</td>\n",
       "      <td>5</td>\n",
       "      <td>9</td>\n",
       "      <td>1</td>\n",
       "      <td>34.0</td>\n",
       "      <td>12.2</td>\n",
       "      <td>49.99</td>\n",
       "      <td>control</td>\n",
       "      <td>heart disease</td>\n",
       "      <td>68.0</td>\n",
       "      <td>55.0</td>\n",
       "      <td>56.0</td>\n",
       "    </tr>\n",
       "    <tr>\n",
       "      <td>5</td>\n",
       "      <td>6</td>\n",
       "      <td>21</td>\n",
       "      <td>1</td>\n",
       "      <td>39.2</td>\n",
       "      <td>5.5</td>\n",
       "      <td>41.32</td>\n",
       "      <td>tai chi</td>\n",
       "      <td>NaN</td>\n",
       "      <td>78.0</td>\n",
       "      <td>66.0</td>\n",
       "      <td>70.0</td>\n",
       "    </tr>\n",
       "    <tr>\n",
       "      <td>6</td>\n",
       "      <td>7</td>\n",
       "      <td>2</td>\n",
       "      <td>1</td>\n",
       "      <td>36.5</td>\n",
       "      <td>17.4</td>\n",
       "      <td>49.42</td>\n",
       "      <td>control</td>\n",
       "      <td>diabetes</td>\n",
       "      <td>NaN</td>\n",
       "      <td>58.0</td>\n",
       "      <td>57.0</td>\n",
       "    </tr>\n",
       "    <tr>\n",
       "      <td>7</td>\n",
       "      <td>8</td>\n",
       "      <td>19</td>\n",
       "      <td>1</td>\n",
       "      <td>28.1</td>\n",
       "      <td>11.7</td>\n",
       "      <td>51.72</td>\n",
       "      <td>control</td>\n",
       "      <td>none</td>\n",
       "      <td>60.0</td>\n",
       "      <td>54.0</td>\n",
       "      <td>54.0</td>\n",
       "    </tr>\n",
       "    <tr>\n",
       "      <td>8</td>\n",
       "      <td>9</td>\n",
       "      <td>32</td>\n",
       "      <td>1</td>\n",
       "      <td>38.8</td>\n",
       "      <td>14.5</td>\n",
       "      <td>36.95</td>\n",
       "      <td>tai chi</td>\n",
       "      <td>none</td>\n",
       "      <td>61.0</td>\n",
       "      <td>48.0</td>\n",
       "      <td>49.0</td>\n",
       "    </tr>\n",
       "    <tr>\n",
       "      <td>9</td>\n",
       "      <td>10</td>\n",
       "      <td>5</td>\n",
       "      <td>1</td>\n",
       "      <td>31.3</td>\n",
       "      <td>11.4</td>\n",
       "      <td>62.51</td>\n",
       "      <td>control</td>\n",
       "      <td>diabetes</td>\n",
       "      <td>63.0</td>\n",
       "      <td>59.0</td>\n",
       "      <td>61.0</td>\n",
       "    </tr>\n",
       "    <tr>\n",
       "      <td>10</td>\n",
       "      <td>11</td>\n",
       "      <td>4</td>\n",
       "      <td>1</td>\n",
       "      <td>36.9</td>\n",
       "      <td>10.2</td>\n",
       "      <td>57.22</td>\n",
       "      <td>control</td>\n",
       "      <td>hypertension</td>\n",
       "      <td>50.0</td>\n",
       "      <td>46.0</td>\n",
       "      <td>43.0</td>\n",
       "    </tr>\n",
       "    <tr>\n",
       "      <td>11</td>\n",
       "      <td>12</td>\n",
       "      <td>28</td>\n",
       "      <td>1</td>\n",
       "      <td>25.1</td>\n",
       "      <td>12.2</td>\n",
       "      <td>56.79</td>\n",
       "      <td>tai chi</td>\n",
       "      <td>diabetes</td>\n",
       "      <td>NaN</td>\n",
       "      <td>70.0</td>\n",
       "      <td>69.0</td>\n",
       "    </tr>\n",
       "    <tr>\n",
       "      <td>12</td>\n",
       "      <td>13</td>\n",
       "      <td>3</td>\n",
       "      <td>1</td>\n",
       "      <td>32.2</td>\n",
       "      <td>14.1</td>\n",
       "      <td>40.47</td>\n",
       "      <td>control</td>\n",
       "      <td>none</td>\n",
       "      <td>82.0</td>\n",
       "      <td>70.0</td>\n",
       "      <td>76.0</td>\n",
       "    </tr>\n",
       "    <tr>\n",
       "      <td>13</td>\n",
       "      <td>14</td>\n",
       "      <td>40</td>\n",
       "      <td>1</td>\n",
       "      <td>29.5</td>\n",
       "      <td>14.3</td>\n",
       "      <td>52.92</td>\n",
       "      <td>control</td>\n",
       "      <td>diabetes</td>\n",
       "      <td>NaN</td>\n",
       "      <td>68.0</td>\n",
       "      <td>64.0</td>\n",
       "    </tr>\n",
       "    <tr>\n",
       "      <td>14</td>\n",
       "      <td>15</td>\n",
       "      <td>34</td>\n",
       "      <td>0</td>\n",
       "      <td>20.8</td>\n",
       "      <td>3.3</td>\n",
       "      <td>43.69</td>\n",
       "      <td>tai chi</td>\n",
       "      <td>none</td>\n",
       "      <td>68.0</td>\n",
       "      <td>65.0</td>\n",
       "      <td>58.0</td>\n",
       "    </tr>\n",
       "    <tr>\n",
       "      <td>15</td>\n",
       "      <td>16</td>\n",
       "      <td>7</td>\n",
       "      <td>1</td>\n",
       "      <td>31.2</td>\n",
       "      <td>13.4</td>\n",
       "      <td>41.02</td>\n",
       "      <td>control</td>\n",
       "      <td>heart disease</td>\n",
       "      <td>81.0</td>\n",
       "      <td>75.0</td>\n",
       "      <td>71.0</td>\n",
       "    </tr>\n",
       "    <tr>\n",
       "      <td>16</td>\n",
       "      <td>17</td>\n",
       "      <td>39</td>\n",
       "      <td>0</td>\n",
       "      <td>36.9</td>\n",
       "      <td>11.8</td>\n",
       "      <td>47.57</td>\n",
       "      <td>control</td>\n",
       "      <td>diabetes</td>\n",
       "      <td>80.0</td>\n",
       "      <td>76.0</td>\n",
       "      <td>81.0</td>\n",
       "    </tr>\n",
       "    <tr>\n",
       "      <td>17</td>\n",
       "      <td>18</td>\n",
       "      <td>42</td>\n",
       "      <td>1</td>\n",
       "      <td>31.9</td>\n",
       "      <td>16.0</td>\n",
       "      <td>53.91</td>\n",
       "      <td>control</td>\n",
       "      <td>diabetes</td>\n",
       "      <td>77.0</td>\n",
       "      <td>73.0</td>\n",
       "      <td>75.0</td>\n",
       "    </tr>\n",
       "    <tr>\n",
       "      <td>18</td>\n",
       "      <td>19</td>\n",
       "      <td>18</td>\n",
       "      <td>1</td>\n",
       "      <td>32.7</td>\n",
       "      <td>10.6</td>\n",
       "      <td>48.31</td>\n",
       "      <td>control</td>\n",
       "      <td>diabetes</td>\n",
       "      <td>54.0</td>\n",
       "      <td>51.0</td>\n",
       "      <td>49.0</td>\n",
       "    </tr>\n",
       "    <tr>\n",
       "      <td>19</td>\n",
       "      <td>20</td>\n",
       "      <td>17</td>\n",
       "      <td>1</td>\n",
       "      <td>35.1</td>\n",
       "      <td>11.0</td>\n",
       "      <td>45.67</td>\n",
       "      <td>control</td>\n",
       "      <td>diabetes</td>\n",
       "      <td>63.0</td>\n",
       "      <td>65.0</td>\n",
       "      <td>62.0</td>\n",
       "    </tr>\n",
       "    <tr>\n",
       "      <td>20</td>\n",
       "      <td>21</td>\n",
       "      <td>49</td>\n",
       "      <td>0</td>\n",
       "      <td>34.8</td>\n",
       "      <td>13.2</td>\n",
       "      <td>55.60</td>\n",
       "      <td>control</td>\n",
       "      <td>none</td>\n",
       "      <td>82.0</td>\n",
       "      <td>80.0</td>\n",
       "      <td>80.0</td>\n",
       "    </tr>\n",
       "    <tr>\n",
       "      <td>21</td>\n",
       "      <td>22</td>\n",
       "      <td>12</td>\n",
       "      <td>1</td>\n",
       "      <td>37.5</td>\n",
       "      <td>17.0</td>\n",
       "      <td>49.37</td>\n",
       "      <td>control</td>\n",
       "      <td>none</td>\n",
       "      <td>55.0</td>\n",
       "      <td>52.0</td>\n",
       "      <td>48.0</td>\n",
       "    </tr>\n",
       "    <tr>\n",
       "      <td>22</td>\n",
       "      <td>23</td>\n",
       "      <td>30</td>\n",
       "      <td>1</td>\n",
       "      <td>39.9</td>\n",
       "      <td>18.5</td>\n",
       "      <td>36.56</td>\n",
       "      <td>control</td>\n",
       "      <td>none</td>\n",
       "      <td>66.0</td>\n",
       "      <td>61.0</td>\n",
       "      <td>60.0</td>\n",
       "    </tr>\n",
       "    <tr>\n",
       "      <td>23</td>\n",
       "      <td>24</td>\n",
       "      <td>20</td>\n",
       "      <td>1</td>\n",
       "      <td>39.3</td>\n",
       "      <td>19.8</td>\n",
       "      <td>54.39</td>\n",
       "      <td>control</td>\n",
       "      <td>none</td>\n",
       "      <td>80.0</td>\n",
       "      <td>75.0</td>\n",
       "      <td>78.0</td>\n",
       "    </tr>\n",
       "    <tr>\n",
       "      <td>24</td>\n",
       "      <td>25</td>\n",
       "      <td>24</td>\n",
       "      <td>1</td>\n",
       "      <td>37.3</td>\n",
       "      <td>14.6</td>\n",
       "      <td>48.87</td>\n",
       "      <td>tai chi</td>\n",
       "      <td>diabetes</td>\n",
       "      <td>85.0</td>\n",
       "      <td>69.0</td>\n",
       "      <td>74.0</td>\n",
       "    </tr>\n",
       "    <tr>\n",
       "      <td>25</td>\n",
       "      <td>26</td>\n",
       "      <td>14</td>\n",
       "      <td>0</td>\n",
       "      <td>22.5</td>\n",
       "      <td>16.6</td>\n",
       "      <td>56.16</td>\n",
       "      <td>tai chi</td>\n",
       "      <td>hypertension</td>\n",
       "      <td>67.0</td>\n",
       "      <td>65.0</td>\n",
       "      <td>57.0</td>\n",
       "    </tr>\n",
       "    <tr>\n",
       "      <td>26</td>\n",
       "      <td>27</td>\n",
       "      <td>50</td>\n",
       "      <td>0</td>\n",
       "      <td>29.4</td>\n",
       "      <td>9.7</td>\n",
       "      <td>45.45</td>\n",
       "      <td>tai chi</td>\n",
       "      <td>hypertension</td>\n",
       "      <td>62.0</td>\n",
       "      <td>50.0</td>\n",
       "      <td>51.0</td>\n",
       "    </tr>\n",
       "    <tr>\n",
       "      <td>27</td>\n",
       "      <td>28</td>\n",
       "      <td>38</td>\n",
       "      <td>0</td>\n",
       "      <td>31.8</td>\n",
       "      <td>9.6</td>\n",
       "      <td>55.84</td>\n",
       "      <td>tai chi</td>\n",
       "      <td>none</td>\n",
       "      <td>NaN</td>\n",
       "      <td>65.0</td>\n",
       "      <td>63.0</td>\n",
       "    </tr>\n",
       "    <tr>\n",
       "      <td>28</td>\n",
       "      <td>29</td>\n",
       "      <td>23</td>\n",
       "      <td>1</td>\n",
       "      <td>28.7</td>\n",
       "      <td>14.3</td>\n",
       "      <td>51.34</td>\n",
       "      <td>control</td>\n",
       "      <td>diabetes</td>\n",
       "      <td>42.0</td>\n",
       "      <td>35.0</td>\n",
       "      <td>40.0</td>\n",
       "    </tr>\n",
       "    <tr>\n",
       "      <td>29</td>\n",
       "      <td>30</td>\n",
       "      <td>46</td>\n",
       "      <td>1</td>\n",
       "      <td>32.2</td>\n",
       "      <td>15.4</td>\n",
       "      <td>57.15</td>\n",
       "      <td>tai chi</td>\n",
       "      <td>none</td>\n",
       "      <td>76.0</td>\n",
       "      <td>62.0</td>\n",
       "      <td>67.0</td>\n",
       "    </tr>\n",
       "    <tr>\n",
       "      <td>30</td>\n",
       "      <td>31</td>\n",
       "      <td>25</td>\n",
       "      <td>1</td>\n",
       "      <td>36.8</td>\n",
       "      <td>17.3</td>\n",
       "      <td>48.31</td>\n",
       "      <td>tai chi</td>\n",
       "      <td>hypertension</td>\n",
       "      <td>54.0</td>\n",
       "      <td>50.0</td>\n",
       "      <td>43.0</td>\n",
       "    </tr>\n",
       "    <tr>\n",
       "      <td>31</td>\n",
       "      <td>32</td>\n",
       "      <td>8</td>\n",
       "      <td>1</td>\n",
       "      <td>46.2</td>\n",
       "      <td>17.5</td>\n",
       "      <td>44.91</td>\n",
       "      <td>control</td>\n",
       "      <td>NaN</td>\n",
       "      <td>68.0</td>\n",
       "      <td>59.0</td>\n",
       "      <td>58.0</td>\n",
       "    </tr>\n",
       "    <tr>\n",
       "      <td>32</td>\n",
       "      <td>33</td>\n",
       "      <td>27</td>\n",
       "      <td>1</td>\n",
       "      <td>40.9</td>\n",
       "      <td>14.2</td>\n",
       "      <td>44.90</td>\n",
       "      <td>tai chi</td>\n",
       "      <td>diabetes</td>\n",
       "      <td>54.0</td>\n",
       "      <td>43.0</td>\n",
       "      <td>40.0</td>\n",
       "    </tr>\n",
       "    <tr>\n",
       "      <td>33</td>\n",
       "      <td>34</td>\n",
       "      <td>41</td>\n",
       "      <td>0</td>\n",
       "      <td>30.6</td>\n",
       "      <td>18.0</td>\n",
       "      <td>43.26</td>\n",
       "      <td>tai chi</td>\n",
       "      <td>none</td>\n",
       "      <td>61.0</td>\n",
       "      <td>53.0</td>\n",
       "      <td>48.0</td>\n",
       "    </tr>\n",
       "    <tr>\n",
       "      <td>34</td>\n",
       "      <td>35</td>\n",
       "      <td>48</td>\n",
       "      <td>1</td>\n",
       "      <td>43.4</td>\n",
       "      <td>16.7</td>\n",
       "      <td>40.07</td>\n",
       "      <td>control</td>\n",
       "      <td>diabetes</td>\n",
       "      <td>67.0</td>\n",
       "      <td>62.0</td>\n",
       "      <td>66.0</td>\n",
       "    </tr>\n",
       "    <tr>\n",
       "      <td>35</td>\n",
       "      <td>36</td>\n",
       "      <td>31</td>\n",
       "      <td>1</td>\n",
       "      <td>35.1</td>\n",
       "      <td>-1.8</td>\n",
       "      <td>34.66</td>\n",
       "      <td>control</td>\n",
       "      <td>none</td>\n",
       "      <td>79.0</td>\n",
       "      <td>71.0</td>\n",
       "      <td>71.0</td>\n",
       "    </tr>\n",
       "    <tr>\n",
       "      <td>36</td>\n",
       "      <td>37</td>\n",
       "      <td>35</td>\n",
       "      <td>1</td>\n",
       "      <td>34.7</td>\n",
       "      <td>7.3</td>\n",
       "      <td>53.62</td>\n",
       "      <td>tai chi</td>\n",
       "      <td>none</td>\n",
       "      <td>53.0</td>\n",
       "      <td>NaN</td>\n",
       "      <td>40.0</td>\n",
       "    </tr>\n",
       "    <tr>\n",
       "      <td>37</td>\n",
       "      <td>38</td>\n",
       "      <td>44</td>\n",
       "      <td>0</td>\n",
       "      <td>41.9</td>\n",
       "      <td>13.0</td>\n",
       "      <td>59.45</td>\n",
       "      <td>control</td>\n",
       "      <td>none</td>\n",
       "      <td>61.0</td>\n",
       "      <td>52.0</td>\n",
       "      <td>55.0</td>\n",
       "    </tr>\n",
       "    <tr>\n",
       "      <td>38</td>\n",
       "      <td>39</td>\n",
       "      <td>26</td>\n",
       "      <td>1</td>\n",
       "      <td>25.0</td>\n",
       "      <td>11.4</td>\n",
       "      <td>52.45</td>\n",
       "      <td>control</td>\n",
       "      <td>diabetes</td>\n",
       "      <td>53.0</td>\n",
       "      <td>51.0</td>\n",
       "      <td>55.0</td>\n",
       "    </tr>\n",
       "    <tr>\n",
       "      <td>39</td>\n",
       "      <td>40</td>\n",
       "      <td>43</td>\n",
       "      <td>1</td>\n",
       "      <td>40.8</td>\n",
       "      <td>13.4</td>\n",
       "      <td>54.88</td>\n",
       "      <td>control</td>\n",
       "      <td>none</td>\n",
       "      <td>45.0</td>\n",
       "      <td>41.0</td>\n",
       "      <td>43.0</td>\n",
       "    </tr>\n",
       "    <tr>\n",
       "      <td>40</td>\n",
       "      <td>41</td>\n",
       "      <td>6</td>\n",
       "      <td>1</td>\n",
       "      <td>25.9</td>\n",
       "      <td>8.9</td>\n",
       "      <td>57.60</td>\n",
       "      <td>control</td>\n",
       "      <td>none</td>\n",
       "      <td>63.0</td>\n",
       "      <td>56.0</td>\n",
       "      <td>54.0</td>\n",
       "    </tr>\n",
       "    <tr>\n",
       "      <td>41</td>\n",
       "      <td>42</td>\n",
       "      <td>47</td>\n",
       "      <td>1</td>\n",
       "      <td>38.1</td>\n",
       "      <td>20.0</td>\n",
       "      <td>49.22</td>\n",
       "      <td>control</td>\n",
       "      <td>none</td>\n",
       "      <td>73.0</td>\n",
       "      <td>NaN</td>\n",
       "      <td>67.0</td>\n",
       "    </tr>\n",
       "    <tr>\n",
       "      <td>42</td>\n",
       "      <td>43</td>\n",
       "      <td>37</td>\n",
       "      <td>1</td>\n",
       "      <td>33.3</td>\n",
       "      <td>10.7</td>\n",
       "      <td>50.56</td>\n",
       "      <td>tai chi</td>\n",
       "      <td>diabetes</td>\n",
       "      <td>47.0</td>\n",
       "      <td>32.0</td>\n",
       "      <td>38.0</td>\n",
       "    </tr>\n",
       "    <tr>\n",
       "      <td>43</td>\n",
       "      <td>44</td>\n",
       "      <td>13</td>\n",
       "      <td>1</td>\n",
       "      <td>40.5</td>\n",
       "      <td>10.1</td>\n",
       "      <td>49.23</td>\n",
       "      <td>control</td>\n",
       "      <td>NaN</td>\n",
       "      <td>57.0</td>\n",
       "      <td>49.0</td>\n",
       "      <td>48.0</td>\n",
       "    </tr>\n",
       "    <tr>\n",
       "      <td>44</td>\n",
       "      <td>45</td>\n",
       "      <td>29</td>\n",
       "      <td>1</td>\n",
       "      <td>37.9</td>\n",
       "      <td>20.0</td>\n",
       "      <td>39.43</td>\n",
       "      <td>control</td>\n",
       "      <td>diabetes</td>\n",
       "      <td>68.0</td>\n",
       "      <td>NaN</td>\n",
       "      <td>60.0</td>\n",
       "    </tr>\n",
       "    <tr>\n",
       "      <td>45</td>\n",
       "      <td>46</td>\n",
       "      <td>16</td>\n",
       "      <td>1</td>\n",
       "      <td>45.8</td>\n",
       "      <td>12.9</td>\n",
       "      <td>62.73</td>\n",
       "      <td>tai chi</td>\n",
       "      <td>none</td>\n",
       "      <td>62.0</td>\n",
       "      <td>47.0</td>\n",
       "      <td>50.0</td>\n",
       "    </tr>\n",
       "    <tr>\n",
       "      <td>46</td>\n",
       "      <td>47</td>\n",
       "      <td>15</td>\n",
       "      <td>0</td>\n",
       "      <td>28.3</td>\n",
       "      <td>17.9</td>\n",
       "      <td>41.74</td>\n",
       "      <td>control</td>\n",
       "      <td>hypertension</td>\n",
       "      <td>42.0</td>\n",
       "      <td>38.0</td>\n",
       "      <td>NaN</td>\n",
       "    </tr>\n",
       "    <tr>\n",
       "      <td>47</td>\n",
       "      <td>48</td>\n",
       "      <td>10</td>\n",
       "      <td>0</td>\n",
       "      <td>38.9</td>\n",
       "      <td>16.9</td>\n",
       "      <td>60.02</td>\n",
       "      <td>control</td>\n",
       "      <td>none</td>\n",
       "      <td>66.0</td>\n",
       "      <td>65.0</td>\n",
       "      <td>67.0</td>\n",
       "    </tr>\n",
       "    <tr>\n",
       "      <td>48</td>\n",
       "      <td>49</td>\n",
       "      <td>45</td>\n",
       "      <td>1</td>\n",
       "      <td>30.9</td>\n",
       "      <td>16.8</td>\n",
       "      <td>55.88</td>\n",
       "      <td>control</td>\n",
       "      <td>diabetes</td>\n",
       "      <td>66.0</td>\n",
       "      <td>59.0</td>\n",
       "      <td>63.0</td>\n",
       "    </tr>\n",
       "    <tr>\n",
       "      <td>49</td>\n",
       "      <td>50</td>\n",
       "      <td>33</td>\n",
       "      <td>0</td>\n",
       "      <td>20.3</td>\n",
       "      <td>6.8</td>\n",
       "      <td>36.96</td>\n",
       "      <td>tai chi</td>\n",
       "      <td>hypertension</td>\n",
       "      <td>80.0</td>\n",
       "      <td>75.0</td>\n",
       "      <td>72.0</td>\n",
       "    </tr>\n",
       "  </tbody>\n",
       "</table>\n",
       "</div>"
      ],
      "text/plain": [
       "    Unnamed: 0  Id  sex   BMI  duration    age treatment       coexists  \\\n",
       "0            1  22    1  45.9      13.3  56.25   control           none   \n",
       "1            2  11    1  28.7       9.2  47.21   control   hypertension   \n",
       "2            3  36    1  35.5       6.7  59.56   tai chi   hypertension   \n",
       "3            4   1    1  29.8      17.1  43.44   control       diabetes   \n",
       "4            5   9    1  34.0      12.2  49.99   control  heart disease   \n",
       "5            6  21    1  39.2       5.5  41.32   tai chi            NaN   \n",
       "6            7   2    1  36.5      17.4  49.42   control       diabetes   \n",
       "7            8  19    1  28.1      11.7  51.72   control           none   \n",
       "8            9  32    1  38.8      14.5  36.95   tai chi           none   \n",
       "9           10   5    1  31.3      11.4  62.51   control       diabetes   \n",
       "10          11   4    1  36.9      10.2  57.22   control   hypertension   \n",
       "11          12  28    1  25.1      12.2  56.79   tai chi       diabetes   \n",
       "12          13   3    1  32.2      14.1  40.47   control           none   \n",
       "13          14  40    1  29.5      14.3  52.92   control       diabetes   \n",
       "14          15  34    0  20.8       3.3  43.69   tai chi           none   \n",
       "15          16   7    1  31.2      13.4  41.02   control  heart disease   \n",
       "16          17  39    0  36.9      11.8  47.57   control       diabetes   \n",
       "17          18  42    1  31.9      16.0  53.91   control       diabetes   \n",
       "18          19  18    1  32.7      10.6  48.31   control       diabetes   \n",
       "19          20  17    1  35.1      11.0  45.67   control       diabetes   \n",
       "20          21  49    0  34.8      13.2  55.60   control           none   \n",
       "21          22  12    1  37.5      17.0  49.37   control           none   \n",
       "22          23  30    1  39.9      18.5  36.56   control           none   \n",
       "23          24  20    1  39.3      19.8  54.39   control           none   \n",
       "24          25  24    1  37.3      14.6  48.87   tai chi       diabetes   \n",
       "25          26  14    0  22.5      16.6  56.16   tai chi   hypertension   \n",
       "26          27  50    0  29.4       9.7  45.45   tai chi   hypertension   \n",
       "27          28  38    0  31.8       9.6  55.84   tai chi           none   \n",
       "28          29  23    1  28.7      14.3  51.34   control       diabetes   \n",
       "29          30  46    1  32.2      15.4  57.15   tai chi           none   \n",
       "30          31  25    1  36.8      17.3  48.31   tai chi   hypertension   \n",
       "31          32   8    1  46.2      17.5  44.91   control            NaN   \n",
       "32          33  27    1  40.9      14.2  44.90   tai chi       diabetes   \n",
       "33          34  41    0  30.6      18.0  43.26   tai chi           none   \n",
       "34          35  48    1  43.4      16.7  40.07   control       diabetes   \n",
       "35          36  31    1  35.1      -1.8  34.66   control           none   \n",
       "36          37  35    1  34.7       7.3  53.62   tai chi           none   \n",
       "37          38  44    0  41.9      13.0  59.45   control           none   \n",
       "38          39  26    1  25.0      11.4  52.45   control       diabetes   \n",
       "39          40  43    1  40.8      13.4  54.88   control           none   \n",
       "40          41   6    1  25.9       8.9  57.60   control           none   \n",
       "41          42  47    1  38.1      20.0  49.22   control           none   \n",
       "42          43  37    1  33.3      10.7  50.56   tai chi       diabetes   \n",
       "43          44  13    1  40.5      10.1  49.23   control            NaN   \n",
       "44          45  29    1  37.9      20.0  39.43   control       diabetes   \n",
       "45          46  16    1  45.8      12.9  62.73   tai chi           none   \n",
       "46          47  15    0  28.3      17.9  41.74   control   hypertension   \n",
       "47          48  10    0  38.9      16.9  60.02   control           none   \n",
       "48          49  45    1  30.9      16.8  55.88   control       diabetes   \n",
       "49          50  33    0  20.3       6.8  36.96   tai chi   hypertension   \n",
       "\n",
       "    FIQ_baseline  FIQ_12W  FIQ_24W  \n",
       "0           57.0     52.0     50.0  \n",
       "1           85.0     88.0     85.0  \n",
       "2           83.0     68.0     68.0  \n",
       "3           74.0     60.0     62.0  \n",
       "4           68.0     55.0     56.0  \n",
       "5           78.0     66.0     70.0  \n",
       "6            NaN     58.0     57.0  \n",
       "7           60.0     54.0     54.0  \n",
       "8           61.0     48.0     49.0  \n",
       "9           63.0     59.0     61.0  \n",
       "10          50.0     46.0     43.0  \n",
       "11           NaN     70.0     69.0  \n",
       "12          82.0     70.0     76.0  \n",
       "13           NaN     68.0     64.0  \n",
       "14          68.0     65.0     58.0  \n",
       "15          81.0     75.0     71.0  \n",
       "16          80.0     76.0     81.0  \n",
       "17          77.0     73.0     75.0  \n",
       "18          54.0     51.0     49.0  \n",
       "19          63.0     65.0     62.0  \n",
       "20          82.0     80.0     80.0  \n",
       "21          55.0     52.0     48.0  \n",
       "22          66.0     61.0     60.0  \n",
       "23          80.0     75.0     78.0  \n",
       "24          85.0     69.0     74.0  \n",
       "25          67.0     65.0     57.0  \n",
       "26          62.0     50.0     51.0  \n",
       "27           NaN     65.0     63.0  \n",
       "28          42.0     35.0     40.0  \n",
       "29          76.0     62.0     67.0  \n",
       "30          54.0     50.0     43.0  \n",
       "31          68.0     59.0     58.0  \n",
       "32          54.0     43.0     40.0  \n",
       "33          61.0     53.0     48.0  \n",
       "34          67.0     62.0     66.0  \n",
       "35          79.0     71.0     71.0  \n",
       "36          53.0      NaN     40.0  \n",
       "37          61.0     52.0     55.0  \n",
       "38          53.0     51.0     55.0  \n",
       "39          45.0     41.0     43.0  \n",
       "40          63.0     56.0     54.0  \n",
       "41          73.0      NaN     67.0  \n",
       "42          47.0     32.0     38.0  \n",
       "43          57.0     49.0     48.0  \n",
       "44          68.0      NaN     60.0  \n",
       "45          62.0     47.0     50.0  \n",
       "46          42.0     38.0      NaN  \n",
       "47          66.0     65.0     67.0  \n",
       "48          66.0     59.0     63.0  \n",
       "49          80.0     75.0     72.0  "
      ]
     },
     "execution_count": 3,
     "metadata": {},
     "output_type": "execute_result"
    }
   ],
   "source": [
    "# Let us load data in df\n",
    "df = pd.read_csv('taiChiData.csv', sep = ',')\n",
    "df"
   ]
  },
  {
   "cell_type": "code",
   "execution_count": 4,
   "metadata": {},
   "outputs": [],
   "source": [
    "# Let us clean our data by filling the null numerical value with the mean\n",
    "#df['FIQ_baseline'].fillna(df['FIQ_baseline'].mean(), inplace = True)\n",
    "#df['FIQ_12W'].fillna(df['FIQ_12W'].mean(),inplace = True)\n",
    "#df['FIQ_24W'].fillna(df['FIQ_24W'].mean(), inplace = True)"
   ]
  },
  {
   "cell_type": "code",
   "execution_count": 5,
   "metadata": {},
   "outputs": [
    {
     "data": {
      "text/plain": [
       "Unnamed: 0        int64\n",
       "Id                int64\n",
       "sex               int64\n",
       "BMI             float64\n",
       "duration        float64\n",
       "age             float64\n",
       "treatment        object\n",
       "coexists         object\n",
       "FIQ_baseline    float64\n",
       "FIQ_12W         float64\n",
       "FIQ_24W         float64\n",
       "dtype: object"
      ]
     },
     "execution_count": 5,
     "metadata": {},
     "output_type": "execute_result"
    }
   ],
   "source": [
    "# Let's have a look of the type of column variables\n",
    "df.dtypes"
   ]
  },
  {
   "cell_type": "code",
   "execution_count": 6,
   "metadata": {},
   "outputs": [
    {
     "name": "stdout",
     "output_type": "stream",
     "text": [
      "<class 'pandas.core.frame.DataFrame'>\n",
      "RangeIndex: 50 entries, 0 to 49\n",
      "Data columns (total 11 columns):\n",
      "Unnamed: 0      50 non-null int64\n",
      "Id              50 non-null int64\n",
      "sex             50 non-null int64\n",
      "BMI             50 non-null float64\n",
      "duration        50 non-null float64\n",
      "age             50 non-null float64\n",
      "treatment       50 non-null object\n",
      "coexists        47 non-null object\n",
      "FIQ_baseline    46 non-null float64\n",
      "FIQ_12W         47 non-null float64\n",
      "FIQ_24W         49 non-null float64\n",
      "dtypes: float64(6), int64(3), object(2)\n",
      "memory usage: 4.4+ KB\n"
     ]
    }
   ],
   "source": [
    "df.info()"
   ]
  },
  {
   "cell_type": "code",
   "execution_count": 7,
   "metadata": {},
   "outputs": [
    {
     "data": {
      "text/plain": [
       "Unnamed: 0      0\n",
       "Id              0\n",
       "sex             0\n",
       "BMI             0\n",
       "duration        0\n",
       "age             0\n",
       "treatment       0\n",
       "coexists        3\n",
       "FIQ_baseline    4\n",
       "FIQ_12W         3\n",
       "FIQ_24W         1\n",
       "dtype: int64"
      ]
     },
     "execution_count": 7,
     "metadata": {},
     "output_type": "execute_result"
    }
   ],
   "source": [
    "# Let's have a look of the number of null values each column has\n",
    "df.isnull().sum()"
   ]
  },
  {
   "cell_type": "code",
   "execution_count": 8,
   "metadata": {},
   "outputs": [
    {
     "data": {
      "text/plain": [
       "(39, 9)"
      ]
     },
     "execution_count": 8,
     "metadata": {},
     "output_type": "execute_result"
    }
   ],
   "source": [
    "# Let's deal with data cleaning.\n",
    "# Let's drop the non-numerical null and duplicaticated columns \n",
    "df.dropna(inplace=True)           # Drop the null values\n",
    "df.drop_duplicates(inplace=True)  # Drop duplicated values\n",
    "df.drop(columns =['Unnamed: 0', 'sex'], inplace=True) \n",
    "df.shape"
   ]
  },
  {
   "cell_type": "code",
   "execution_count": 9,
   "metadata": {},
   "outputs": [
    {
     "data": {
      "text/html": [
       "<div>\n",
       "<style scoped>\n",
       "    .dataframe tbody tr th:only-of-type {\n",
       "        vertical-align: middle;\n",
       "    }\n",
       "\n",
       "    .dataframe tbody tr th {\n",
       "        vertical-align: top;\n",
       "    }\n",
       "\n",
       "    .dataframe thead th {\n",
       "        text-align: right;\n",
       "    }\n",
       "</style>\n",
       "<table border=\"1\" class=\"dataframe\">\n",
       "  <thead>\n",
       "    <tr style=\"text-align: right;\">\n",
       "      <th></th>\n",
       "      <th>Id</th>\n",
       "      <th>BMI</th>\n",
       "      <th>duration</th>\n",
       "      <th>age</th>\n",
       "      <th>FIQ_baseline</th>\n",
       "      <th>FIQ_12W</th>\n",
       "      <th>FIQ_24W</th>\n",
       "    </tr>\n",
       "  </thead>\n",
       "  <tbody>\n",
       "    <tr>\n",
       "      <td>count</td>\n",
       "      <td>39.000000</td>\n",
       "      <td>39.000000</td>\n",
       "      <td>39.000000</td>\n",
       "      <td>39.000000</td>\n",
       "      <td>39.000000</td>\n",
       "      <td>39.000000</td>\n",
       "      <td>39.000000</td>\n",
       "    </tr>\n",
       "    <tr>\n",
       "      <td>mean</td>\n",
       "      <td>25.615385</td>\n",
       "      <td>33.871795</td>\n",
       "      <td>12.841026</td>\n",
       "      <td>49.797692</td>\n",
       "      <td>66.128205</td>\n",
       "      <td>59.256410</td>\n",
       "      <td>59.487179</td>\n",
       "    </tr>\n",
       "    <tr>\n",
       "      <td>std</td>\n",
       "      <td>14.805076</td>\n",
       "      <td>6.299204</td>\n",
       "      <td>4.284778</td>\n",
       "      <td>7.630660</td>\n",
       "      <td>11.927808</td>\n",
       "      <td>12.552454</td>\n",
       "      <td>12.744187</td>\n",
       "    </tr>\n",
       "    <tr>\n",
       "      <td>min</td>\n",
       "      <td>1.000000</td>\n",
       "      <td>20.300000</td>\n",
       "      <td>-1.800000</td>\n",
       "      <td>34.660000</td>\n",
       "      <td>42.000000</td>\n",
       "      <td>32.000000</td>\n",
       "      <td>38.000000</td>\n",
       "    </tr>\n",
       "    <tr>\n",
       "      <td>25%</td>\n",
       "      <td>13.000000</td>\n",
       "      <td>30.200000</td>\n",
       "      <td>10.850000</td>\n",
       "      <td>44.295000</td>\n",
       "      <td>58.500000</td>\n",
       "      <td>51.000000</td>\n",
       "      <td>49.500000</td>\n",
       "    </tr>\n",
       "    <tr>\n",
       "      <td>50%</td>\n",
       "      <td>25.000000</td>\n",
       "      <td>34.000000</td>\n",
       "      <td>13.300000</td>\n",
       "      <td>49.990000</td>\n",
       "      <td>66.000000</td>\n",
       "      <td>59.000000</td>\n",
       "      <td>58.000000</td>\n",
       "    </tr>\n",
       "    <tr>\n",
       "      <td>75%</td>\n",
       "      <td>38.000000</td>\n",
       "      <td>38.150000</td>\n",
       "      <td>16.300000</td>\n",
       "      <td>56.020000</td>\n",
       "      <td>78.000000</td>\n",
       "      <td>68.500000</td>\n",
       "      <td>69.500000</td>\n",
       "    </tr>\n",
       "    <tr>\n",
       "      <td>max</td>\n",
       "      <td>50.000000</td>\n",
       "      <td>45.900000</td>\n",
       "      <td>19.800000</td>\n",
       "      <td>62.730000</td>\n",
       "      <td>85.000000</td>\n",
       "      <td>88.000000</td>\n",
       "      <td>85.000000</td>\n",
       "    </tr>\n",
       "  </tbody>\n",
       "</table>\n",
       "</div>"
      ],
      "text/plain": [
       "              Id        BMI   duration        age  FIQ_baseline    FIQ_12W  \\\n",
       "count  39.000000  39.000000  39.000000  39.000000     39.000000  39.000000   \n",
       "mean   25.615385  33.871795  12.841026  49.797692     66.128205  59.256410   \n",
       "std    14.805076   6.299204   4.284778   7.630660     11.927808  12.552454   \n",
       "min     1.000000  20.300000  -1.800000  34.660000     42.000000  32.000000   \n",
       "25%    13.000000  30.200000  10.850000  44.295000     58.500000  51.000000   \n",
       "50%    25.000000  34.000000  13.300000  49.990000     66.000000  59.000000   \n",
       "75%    38.000000  38.150000  16.300000  56.020000     78.000000  68.500000   \n",
       "max    50.000000  45.900000  19.800000  62.730000     85.000000  88.000000   \n",
       "\n",
       "         FIQ_24W  \n",
       "count  39.000000  \n",
       "mean   59.487179  \n",
       "std    12.744187  \n",
       "min    38.000000  \n",
       "25%    49.500000  \n",
       "50%    58.000000  \n",
       "75%    69.500000  \n",
       "max    85.000000  "
      ]
     },
     "execution_count": 9,
     "metadata": {},
     "output_type": "execute_result"
    }
   ],
   "source": [
    "# Let's find summary statistics\n",
    "sum_stats = df.describe()\n",
    "sum_stats"
   ]
  },
  {
   "cell_type": "markdown",
   "metadata": {},
   "source": [
    "Let us have a look of the distribution of different attributs or variables for us to check presence of outliers in the data set."
   ]
  },
  {
   "cell_type": "code",
   "execution_count": 10,
   "metadata": {},
   "outputs": [
    {
     "data": {
      "image/png": "[encoded data removed]",
      "text/plain": [
       "<Figure size 1080x360 with 3 Axes>"
      ]
     },
     "metadata": {
      "needs_background": "light"
     },
     "output_type": "display_data"
    }
   ],
   "source": [
    "fig, ax = plt.subplots(ncols =3, figsize=(15,5))\n",
    "(ax1, ax2, ax3) = ax\n",
    "\n",
    "# Let draw our box-and-whisker plots\n",
    "sns.boxplot(data= df, x='BMI', orient='v',ax=ax1)\n",
    "sns.boxplot(data= df, x='age', orient='v', ax =ax2)\n",
    "sns.boxplot(data= df, x='FIQ_baseline', orient='v', ax =ax3)\n",
    "\n",
    "# Let's set title  to our plot\n",
    "ax1.set_title(\"BMI distribution\")\n",
    "ax2.set_title(\"Age distribution\")\n",
    "ax3.set_title(\"FIQ_baseline distribution\")\n",
    "\n",
    "ax1.yaxis.grid(True)\n",
    "ax2.yaxis.grid(True)\n",
    "ax3.yaxis.grid(True)"
   ]
  },
  {
   "cell_type": "markdown",
   "metadata": {},
   "source": [
    "## Interpretation\n",
    "\n",
    "Everyone in the population sample has at least <b>20.3 as BMI(Body mass Index)</b> and at most <b>45.9</b>.  And <b>25 percent</b> of the total population sample has at most <b>30.2 as Body Mass Index, 50 percent</b> of the total population sample has at most or at least <b>34.0</b> as <b>Body mass Index</b>, and finaly, <b>25 percent</b> of the total population sample has at least <b>38.15 as body mass index(BMI)</b>."
   ]
  },
  {
   "cell_type": "markdown",
   "metadata": {},
   "source": [
    "The <b>youngest individual</b> in the sample population is <b>34.66 years old</b> and the <b>oldest</b> is <b>62.7 years old</b>. <b>Twenty-five (25) percent</b> of people ages in the total population sample is between <b>34.66</b> and <b>44.3 years old</b>, <b>Fifty percent</b> of people are under and/or over the age of <b>50 years old</b>, and <b>25 percent of people</b> are over the age of <b>56 years old.</b>"
   ]
  },
  {
   "cell_type": "markdown",
   "metadata": {},
   "source": [
    "At the baseline, over the <b>39 people</b> to be submitted to treatment, but patient which has the least pain severity measures <b>32.00</b>, and the one who has the most pain severity measures <b>88.00</b>. <b>Twenty-five (25) percent</b> of patients of the whole population sample are pain severity measure between <b>32.00</b> and <b>51.0</b>, <b>Fifty percent</b> of patient pain severity measure is under and/or over <b>66.0</b>, and <b>25 patient pain severity</b> are over the measure of <b>78.0.</b>  "
   ]
  },
  {
   "cell_type": "code",
   "execution_count": 11,
   "metadata": {},
   "outputs": [
    {
     "data": {
      "image/png": "[encoded data removed]",
      "text/plain": [
       "<Figure size 1080x360 with 3 Axes>"
      ]
     },
     "metadata": {
      "needs_background": "light"
     },
     "output_type": "display_data"
    }
   ],
   "source": [
    "fig, ax = plt.subplots(ncols =3, figsize=(15,5))\n",
    "(ax1, ax2, ax3) = ax\n",
    "\n",
    "# Let draw our box-and-whisker plots\n",
    "sns.boxplot(data= df, x='duration', orient='v',ax=ax1)\n",
    "sns.boxplot(data= df, x='FIQ_12W', orient='v', ax =ax2)\n",
    "sns.boxplot(data= df, x='FIQ_24W', orient='v', ax =ax3)\n",
    "\n",
    "# Let's set title  to our plot\n",
    "ax1.set_title(\"Duration of treatment distribution\")\n",
    "ax2.set_title(\"FIQ_12W distribution\")\n",
    "ax3.set_title(\"FIQ_24W distribution\")\n",
    "\n",
    "ax1.yaxis.grid(True)\n",
    "ax2.yaxis.grid(True)\n",
    "ax3.yaxis.grid(True)"
   ]
  },
  {
   "cell_type": "markdown",
   "metadata": {},
   "source": [
    "Distribution of treatment duration present an <b>outlier</b> at point less than 0. While <b>FIQ_12W</b> and <b>FIQ_24W</b> seems to follows normal distribution."
   ]
  },
  {
   "cell_type": "code",
   "execution_count": 12,
   "metadata": {},
   "outputs": [],
   "source": [
    "# Let's deal with that outlier.\n",
    "\n",
    "# Compute a function remove outlier to remove outlier in a column\n",
    "def remove_outlier(df_in, column_name):\n",
    "    first_quartile = df_in[column_name].quantile(0.25)\n",
    "    third_quartile = df_in[column_name].quantile(0.75)\n",
    "    iqr = third_quartile - first_quartile # Interquartile range\n",
    "    fence_low = first_quartile - 1.5*iqr\n",
    "    fence_high = third_quartile + 1.5*iqr\n",
    "    data_out = df_in.loc[(df_in[column_name] > fence_low) & (df_in[column_name] < fence_high)]\n",
    "    return data_out\n",
    "\n",
    "# Call the function remove_outlier to remove outlier in the column duration\n",
    "\n",
    "df_filtered = remove_outlier(df, 'duration')"
   ]
  },
  {
   "cell_type": "code",
   "execution_count": 13,
   "metadata": {},
   "outputs": [
    {
     "data": {
      "text/plain": [
       "Text(0.5, 1.0, 'Duration of treatment distribution')"
      ]
     },
     "execution_count": 13,
     "metadata": {},
     "output_type": "execute_result"
    },
    {
     "data": {
      "image/png": "[encoded data removed]",
      "text/plain": [
       "<Figure size 288x360 with 1 Axes>"
      ]
     },
     "metadata": {
      "needs_background": "light"
     },
     "output_type": "display_data"
    }
   ],
   "source": [
    "# Let's check if we have removed outlier.\n",
    "plt.figure(figsize=(4,5))\n",
    "sns.boxplot(data= df_filtered, x='duration', orient='v')\n",
    "plt.title(\"Duration of treatment distribution\")"
   ]
  },
  {
   "cell_type": "markdown",
   "metadata": {},
   "source": [
    "We note that the outlier which was below the whisker plot has been removed. Now we feel safe at using our data set."
   ]
  },
  {
   "cell_type": "code",
   "execution_count": 14,
   "metadata": {},
   "outputs": [
    {
     "data": {
      "image/png": "[encoded data removed]",
      "text/plain": [
       "<Figure size 720x360 with 2 Axes>"
      ]
     },
     "metadata": {
      "needs_background": "light"
     },
     "output_type": "display_data"
    }
   ],
   "source": [
    "# Let's first visualise the distribution of both baseline and after 24 weeks of treatment for the whole dataset. \n",
    "fig, ax = plt.subplots(ncols=2, figsize=(10,5))\n",
    "(ax1, ax2)=ax\n",
    "sns.distplot(df_filtered['FIQ_baseline'], ax=ax1).set_title('FIQ baseline treatment Distribution');\n",
    "sns.distplot(df_filtered ['FIQ_24W'], ax=ax2).set_title('Distribution of FIQ after 24 weeks of treatment');"
   ]
  },
  {
   "cell_type": "markdown",
   "metadata": {},
   "source": [
    "## Interpretation\n",
    "We can easily see that both FIQ baseline treatment and FIQ after 24 weeks of treatment follow a histogram is queer to the left and a normal distrbution."
   ]
  },
  {
   "cell_type": "code",
   "execution_count": 15,
   "metadata": {},
   "outputs": [
    {
     "data": {
      "text/plain": [
       "Text(0.5, 1, 'Visualisation Correlation between variables')"
      ]
     },
     "execution_count": 15,
     "metadata": {},
     "output_type": "execute_result"
    },
    {
     "data": {
      "image/png": "[encoded data removed]",
      "text/plain": [
       "<Figure size 360x360 with 1 Axes>"
      ]
     },
     "metadata": {
      "needs_background": "light"
     },
     "output_type": "display_data"
    }
   ],
   "source": [
    "# Let's look if there is a correlation between those variables.\n",
    "sns.relplot(x=\"FIQ_baseline\", y=\"FIQ_24W\", data=df_filtered, kind=\"scatter\");\n",
    "plt.title('Visualisation Correlation between variables')"
   ]
  },
  {
   "cell_type": "markdown",
   "metadata": {},
   "source": [
    "## Interpretation \n",
    "We can see there is a positive correlation between FIQ after 24 weeks and the FIQ baseline. This means when FIQ_W24 increases, FIQ_baseline increases as well."
   ]
  },
  {
   "cell_type": "markdown",
   "metadata": {},
   "source": [
    "# Visualizing the differences in treatment\n",
    "\n",
    "Let's add the difference between the baseline scores and twenty-four weeks after treatment to the dataframe."
   ]
  },
  {
   "cell_type": "code",
   "execution_count": 16,
   "metadata": {},
   "outputs": [
    {
     "data": {
      "text/html": [
       "<div>\n",
       "<style scoped>\n",
       "    .dataframe tbody tr th:only-of-type {\n",
       "        vertical-align: middle;\n",
       "    }\n",
       "\n",
       "    .dataframe tbody tr th {\n",
       "        vertical-align: top;\n",
       "    }\n",
       "\n",
       "    .dataframe thead th {\n",
       "        text-align: right;\n",
       "    }\n",
       "</style>\n",
       "<table border=\"1\" class=\"dataframe\">\n",
       "  <thead>\n",
       "    <tr style=\"text-align: right;\">\n",
       "      <th></th>\n",
       "      <th>Id</th>\n",
       "      <th>BMI</th>\n",
       "      <th>duration</th>\n",
       "      <th>age</th>\n",
       "      <th>treatment</th>\n",
       "      <th>coexists</th>\n",
       "      <th>FIQ_baseline</th>\n",
       "      <th>FIQ_12W</th>\n",
       "      <th>FIQ_24W</th>\n",
       "      <th>diff</th>\n",
       "    </tr>\n",
       "  </thead>\n",
       "  <tbody>\n",
       "    <tr>\n",
       "      <td>0</td>\n",
       "      <td>22</td>\n",
       "      <td>45.9</td>\n",
       "      <td>13.3</td>\n",
       "      <td>56.25</td>\n",
       "      <td>control</td>\n",
       "      <td>none</td>\n",
       "      <td>57.0</td>\n",
       "      <td>52.0</td>\n",
       "      <td>50.0</td>\n",
       "      <td>7.0</td>\n",
       "    </tr>\n",
       "    <tr>\n",
       "      <td>1</td>\n",
       "      <td>11</td>\n",
       "      <td>28.7</td>\n",
       "      <td>9.2</td>\n",
       "      <td>47.21</td>\n",
       "      <td>control</td>\n",
       "      <td>hypertension</td>\n",
       "      <td>85.0</td>\n",
       "      <td>88.0</td>\n",
       "      <td>85.0</td>\n",
       "      <td>0.0</td>\n",
       "    </tr>\n",
       "    <tr>\n",
       "      <td>2</td>\n",
       "      <td>36</td>\n",
       "      <td>35.5</td>\n",
       "      <td>6.7</td>\n",
       "      <td>59.56</td>\n",
       "      <td>tai chi</td>\n",
       "      <td>hypertension</td>\n",
       "      <td>83.0</td>\n",
       "      <td>68.0</td>\n",
       "      <td>68.0</td>\n",
       "      <td>15.0</td>\n",
       "    </tr>\n",
       "    <tr>\n",
       "      <td>3</td>\n",
       "      <td>1</td>\n",
       "      <td>29.8</td>\n",
       "      <td>17.1</td>\n",
       "      <td>43.44</td>\n",
       "      <td>control</td>\n",
       "      <td>diabetes</td>\n",
       "      <td>74.0</td>\n",
       "      <td>60.0</td>\n",
       "      <td>62.0</td>\n",
       "      <td>12.0</td>\n",
       "    </tr>\n",
       "    <tr>\n",
       "      <td>4</td>\n",
       "      <td>9</td>\n",
       "      <td>34.0</td>\n",
       "      <td>12.2</td>\n",
       "      <td>49.99</td>\n",
       "      <td>control</td>\n",
       "      <td>heart disease</td>\n",
       "      <td>68.0</td>\n",
       "      <td>55.0</td>\n",
       "      <td>56.0</td>\n",
       "      <td>12.0</td>\n",
       "    </tr>\n",
       "    <tr>\n",
       "      <td>7</td>\n",
       "      <td>19</td>\n",
       "      <td>28.1</td>\n",
       "      <td>11.7</td>\n",
       "      <td>51.72</td>\n",
       "      <td>control</td>\n",
       "      <td>none</td>\n",
       "      <td>60.0</td>\n",
       "      <td>54.0</td>\n",
       "      <td>54.0</td>\n",
       "      <td>6.0</td>\n",
       "    </tr>\n",
       "    <tr>\n",
       "      <td>8</td>\n",
       "      <td>32</td>\n",
       "      <td>38.8</td>\n",
       "      <td>14.5</td>\n",
       "      <td>36.95</td>\n",
       "      <td>tai chi</td>\n",
       "      <td>none</td>\n",
       "      <td>61.0</td>\n",
       "      <td>48.0</td>\n",
       "      <td>49.0</td>\n",
       "      <td>12.0</td>\n",
       "    </tr>\n",
       "    <tr>\n",
       "      <td>9</td>\n",
       "      <td>5</td>\n",
       "      <td>31.3</td>\n",
       "      <td>11.4</td>\n",
       "      <td>62.51</td>\n",
       "      <td>control</td>\n",
       "      <td>diabetes</td>\n",
       "      <td>63.0</td>\n",
       "      <td>59.0</td>\n",
       "      <td>61.0</td>\n",
       "      <td>2.0</td>\n",
       "    </tr>\n",
       "    <tr>\n",
       "      <td>10</td>\n",
       "      <td>4</td>\n",
       "      <td>36.9</td>\n",
       "      <td>10.2</td>\n",
       "      <td>57.22</td>\n",
       "      <td>control</td>\n",
       "      <td>hypertension</td>\n",
       "      <td>50.0</td>\n",
       "      <td>46.0</td>\n",
       "      <td>43.0</td>\n",
       "      <td>7.0</td>\n",
       "    </tr>\n",
       "    <tr>\n",
       "      <td>12</td>\n",
       "      <td>3</td>\n",
       "      <td>32.2</td>\n",
       "      <td>14.1</td>\n",
       "      <td>40.47</td>\n",
       "      <td>control</td>\n",
       "      <td>none</td>\n",
       "      <td>82.0</td>\n",
       "      <td>70.0</td>\n",
       "      <td>76.0</td>\n",
       "      <td>6.0</td>\n",
       "    </tr>\n",
       "    <tr>\n",
       "      <td>14</td>\n",
       "      <td>34</td>\n",
       "      <td>20.8</td>\n",
       "      <td>3.3</td>\n",
       "      <td>43.69</td>\n",
       "      <td>tai chi</td>\n",
       "      <td>none</td>\n",
       "      <td>68.0</td>\n",
       "      <td>65.0</td>\n",
       "      <td>58.0</td>\n",
       "      <td>10.0</td>\n",
       "    </tr>\n",
       "    <tr>\n",
       "      <td>15</td>\n",
       "      <td>7</td>\n",
       "      <td>31.2</td>\n",
       "      <td>13.4</td>\n",
       "      <td>41.02</td>\n",
       "      <td>control</td>\n",
       "      <td>heart disease</td>\n",
       "      <td>81.0</td>\n",
       "      <td>75.0</td>\n",
       "      <td>71.0</td>\n",
       "      <td>10.0</td>\n",
       "    </tr>\n",
       "    <tr>\n",
       "      <td>16</td>\n",
       "      <td>39</td>\n",
       "      <td>36.9</td>\n",
       "      <td>11.8</td>\n",
       "      <td>47.57</td>\n",
       "      <td>control</td>\n",
       "      <td>diabetes</td>\n",
       "      <td>80.0</td>\n",
       "      <td>76.0</td>\n",
       "      <td>81.0</td>\n",
       "      <td>-1.0</td>\n",
       "    </tr>\n",
       "    <tr>\n",
       "      <td>17</td>\n",
       "      <td>42</td>\n",
       "      <td>31.9</td>\n",
       "      <td>16.0</td>\n",
       "      <td>53.91</td>\n",
       "      <td>control</td>\n",
       "      <td>diabetes</td>\n",
       "      <td>77.0</td>\n",
       "      <td>73.0</td>\n",
       "      <td>75.0</td>\n",
       "      <td>2.0</td>\n",
       "    </tr>\n",
       "    <tr>\n",
       "      <td>18</td>\n",
       "      <td>18</td>\n",
       "      <td>32.7</td>\n",
       "      <td>10.6</td>\n",
       "      <td>48.31</td>\n",
       "      <td>control</td>\n",
       "      <td>diabetes</td>\n",
       "      <td>54.0</td>\n",
       "      <td>51.0</td>\n",
       "      <td>49.0</td>\n",
       "      <td>5.0</td>\n",
       "    </tr>\n",
       "    <tr>\n",
       "      <td>19</td>\n",
       "      <td>17</td>\n",
       "      <td>35.1</td>\n",
       "      <td>11.0</td>\n",
       "      <td>45.67</td>\n",
       "      <td>control</td>\n",
       "      <td>diabetes</td>\n",
       "      <td>63.0</td>\n",
       "      <td>65.0</td>\n",
       "      <td>62.0</td>\n",
       "      <td>1.0</td>\n",
       "    </tr>\n",
       "    <tr>\n",
       "      <td>20</td>\n",
       "      <td>49</td>\n",
       "      <td>34.8</td>\n",
       "      <td>13.2</td>\n",
       "      <td>55.60</td>\n",
       "      <td>control</td>\n",
       "      <td>none</td>\n",
       "      <td>82.0</td>\n",
       "      <td>80.0</td>\n",
       "      <td>80.0</td>\n",
       "      <td>2.0</td>\n",
       "    </tr>\n",
       "    <tr>\n",
       "      <td>21</td>\n",
       "      <td>12</td>\n",
       "      <td>37.5</td>\n",
       "      <td>17.0</td>\n",
       "      <td>49.37</td>\n",
       "      <td>control</td>\n",
       "      <td>none</td>\n",
       "      <td>55.0</td>\n",
       "      <td>52.0</td>\n",
       "      <td>48.0</td>\n",
       "      <td>7.0</td>\n",
       "    </tr>\n",
       "    <tr>\n",
       "      <td>22</td>\n",
       "      <td>30</td>\n",
       "      <td>39.9</td>\n",
       "      <td>18.5</td>\n",
       "      <td>36.56</td>\n",
       "      <td>control</td>\n",
       "      <td>none</td>\n",
       "      <td>66.0</td>\n",
       "      <td>61.0</td>\n",
       "      <td>60.0</td>\n",
       "      <td>6.0</td>\n",
       "    </tr>\n",
       "    <tr>\n",
       "      <td>23</td>\n",
       "      <td>20</td>\n",
       "      <td>39.3</td>\n",
       "      <td>19.8</td>\n",
       "      <td>54.39</td>\n",
       "      <td>control</td>\n",
       "      <td>none</td>\n",
       "      <td>80.0</td>\n",
       "      <td>75.0</td>\n",
       "      <td>78.0</td>\n",
       "      <td>2.0</td>\n",
       "    </tr>\n",
       "    <tr>\n",
       "      <td>24</td>\n",
       "      <td>24</td>\n",
       "      <td>37.3</td>\n",
       "      <td>14.6</td>\n",
       "      <td>48.87</td>\n",
       "      <td>tai chi</td>\n",
       "      <td>diabetes</td>\n",
       "      <td>85.0</td>\n",
       "      <td>69.0</td>\n",
       "      <td>74.0</td>\n",
       "      <td>11.0</td>\n",
       "    </tr>\n",
       "    <tr>\n",
       "      <td>25</td>\n",
       "      <td>14</td>\n",
       "      <td>22.5</td>\n",
       "      <td>16.6</td>\n",
       "      <td>56.16</td>\n",
       "      <td>tai chi</td>\n",
       "      <td>hypertension</td>\n",
       "      <td>67.0</td>\n",
       "      <td>65.0</td>\n",
       "      <td>57.0</td>\n",
       "      <td>10.0</td>\n",
       "    </tr>\n",
       "    <tr>\n",
       "      <td>26</td>\n",
       "      <td>50</td>\n",
       "      <td>29.4</td>\n",
       "      <td>9.7</td>\n",
       "      <td>45.45</td>\n",
       "      <td>tai chi</td>\n",
       "      <td>hypertension</td>\n",
       "      <td>62.0</td>\n",
       "      <td>50.0</td>\n",
       "      <td>51.0</td>\n",
       "      <td>11.0</td>\n",
       "    </tr>\n",
       "    <tr>\n",
       "      <td>28</td>\n",
       "      <td>23</td>\n",
       "      <td>28.7</td>\n",
       "      <td>14.3</td>\n",
       "      <td>51.34</td>\n",
       "      <td>control</td>\n",
       "      <td>diabetes</td>\n",
       "      <td>42.0</td>\n",
       "      <td>35.0</td>\n",
       "      <td>40.0</td>\n",
       "      <td>2.0</td>\n",
       "    </tr>\n",
       "    <tr>\n",
       "      <td>29</td>\n",
       "      <td>46</td>\n",
       "      <td>32.2</td>\n",
       "      <td>15.4</td>\n",
       "      <td>57.15</td>\n",
       "      <td>tai chi</td>\n",
       "      <td>none</td>\n",
       "      <td>76.0</td>\n",
       "      <td>62.0</td>\n",
       "      <td>67.0</td>\n",
       "      <td>9.0</td>\n",
       "    </tr>\n",
       "    <tr>\n",
       "      <td>30</td>\n",
       "      <td>25</td>\n",
       "      <td>36.8</td>\n",
       "      <td>17.3</td>\n",
       "      <td>48.31</td>\n",
       "      <td>tai chi</td>\n",
       "      <td>hypertension</td>\n",
       "      <td>54.0</td>\n",
       "      <td>50.0</td>\n",
       "      <td>43.0</td>\n",
       "      <td>11.0</td>\n",
       "    </tr>\n",
       "    <tr>\n",
       "      <td>32</td>\n",
       "      <td>27</td>\n",
       "      <td>40.9</td>\n",
       "      <td>14.2</td>\n",
       "      <td>44.90</td>\n",
       "      <td>tai chi</td>\n",
       "      <td>diabetes</td>\n",
       "      <td>54.0</td>\n",
       "      <td>43.0</td>\n",
       "      <td>40.0</td>\n",
       "      <td>14.0</td>\n",
       "    </tr>\n",
       "    <tr>\n",
       "      <td>33</td>\n",
       "      <td>41</td>\n",
       "      <td>30.6</td>\n",
       "      <td>18.0</td>\n",
       "      <td>43.26</td>\n",
       "      <td>tai chi</td>\n",
       "      <td>none</td>\n",
       "      <td>61.0</td>\n",
       "      <td>53.0</td>\n",
       "      <td>48.0</td>\n",
       "      <td>13.0</td>\n",
       "    </tr>\n",
       "    <tr>\n",
       "      <td>34</td>\n",
       "      <td>48</td>\n",
       "      <td>43.4</td>\n",
       "      <td>16.7</td>\n",
       "      <td>40.07</td>\n",
       "      <td>control</td>\n",
       "      <td>diabetes</td>\n",
       "      <td>67.0</td>\n",
       "      <td>62.0</td>\n",
       "      <td>66.0</td>\n",
       "      <td>1.0</td>\n",
       "    </tr>\n",
       "    <tr>\n",
       "      <td>37</td>\n",
       "      <td>44</td>\n",
       "      <td>41.9</td>\n",
       "      <td>13.0</td>\n",
       "      <td>59.45</td>\n",
       "      <td>control</td>\n",
       "      <td>none</td>\n",
       "      <td>61.0</td>\n",
       "      <td>52.0</td>\n",
       "      <td>55.0</td>\n",
       "      <td>6.0</td>\n",
       "    </tr>\n",
       "    <tr>\n",
       "      <td>38</td>\n",
       "      <td>26</td>\n",
       "      <td>25.0</td>\n",
       "      <td>11.4</td>\n",
       "      <td>52.45</td>\n",
       "      <td>control</td>\n",
       "      <td>diabetes</td>\n",
       "      <td>53.0</td>\n",
       "      <td>51.0</td>\n",
       "      <td>55.0</td>\n",
       "      <td>-2.0</td>\n",
       "    </tr>\n",
       "    <tr>\n",
       "      <td>39</td>\n",
       "      <td>43</td>\n",
       "      <td>40.8</td>\n",
       "      <td>13.4</td>\n",
       "      <td>54.88</td>\n",
       "      <td>control</td>\n",
       "      <td>none</td>\n",
       "      <td>45.0</td>\n",
       "      <td>41.0</td>\n",
       "      <td>43.0</td>\n",
       "      <td>2.0</td>\n",
       "    </tr>\n",
       "    <tr>\n",
       "      <td>40</td>\n",
       "      <td>6</td>\n",
       "      <td>25.9</td>\n",
       "      <td>8.9</td>\n",
       "      <td>57.60</td>\n",
       "      <td>control</td>\n",
       "      <td>none</td>\n",
       "      <td>63.0</td>\n",
       "      <td>56.0</td>\n",
       "      <td>54.0</td>\n",
       "      <td>9.0</td>\n",
       "    </tr>\n",
       "    <tr>\n",
       "      <td>42</td>\n",
       "      <td>37</td>\n",
       "      <td>33.3</td>\n",
       "      <td>10.7</td>\n",
       "      <td>50.56</td>\n",
       "      <td>tai chi</td>\n",
       "      <td>diabetes</td>\n",
       "      <td>47.0</td>\n",
       "      <td>32.0</td>\n",
       "      <td>38.0</td>\n",
       "      <td>9.0</td>\n",
       "    </tr>\n",
       "    <tr>\n",
       "      <td>45</td>\n",
       "      <td>16</td>\n",
       "      <td>45.8</td>\n",
       "      <td>12.9</td>\n",
       "      <td>62.73</td>\n",
       "      <td>tai chi</td>\n",
       "      <td>none</td>\n",
       "      <td>62.0</td>\n",
       "      <td>47.0</td>\n",
       "      <td>50.0</td>\n",
       "      <td>12.0</td>\n",
       "    </tr>\n",
       "    <tr>\n",
       "      <td>47</td>\n",
       "      <td>10</td>\n",
       "      <td>38.9</td>\n",
       "      <td>16.9</td>\n",
       "      <td>60.02</td>\n",
       "      <td>control</td>\n",
       "      <td>none</td>\n",
       "      <td>66.0</td>\n",
       "      <td>65.0</td>\n",
       "      <td>67.0</td>\n",
       "      <td>-1.0</td>\n",
       "    </tr>\n",
       "    <tr>\n",
       "      <td>48</td>\n",
       "      <td>45</td>\n",
       "      <td>30.9</td>\n",
       "      <td>16.8</td>\n",
       "      <td>55.88</td>\n",
       "      <td>control</td>\n",
       "      <td>diabetes</td>\n",
       "      <td>66.0</td>\n",
       "      <td>59.0</td>\n",
       "      <td>63.0</td>\n",
       "      <td>3.0</td>\n",
       "    </tr>\n",
       "    <tr>\n",
       "      <td>49</td>\n",
       "      <td>33</td>\n",
       "      <td>20.3</td>\n",
       "      <td>6.8</td>\n",
       "      <td>36.96</td>\n",
       "      <td>tai chi</td>\n",
       "      <td>hypertension</td>\n",
       "      <td>80.0</td>\n",
       "      <td>75.0</td>\n",
       "      <td>72.0</td>\n",
       "      <td>8.0</td>\n",
       "    </tr>\n",
       "  </tbody>\n",
       "</table>\n",
       "</div>"
      ],
      "text/plain": [
       "    Id   BMI  duration    age treatment       coexists  FIQ_baseline  FIQ_12W  \\\n",
       "0   22  45.9      13.3  56.25   control           none          57.0     52.0   \n",
       "1   11  28.7       9.2  47.21   control   hypertension          85.0     88.0   \n",
       "2   36  35.5       6.7  59.56   tai chi   hypertension          83.0     68.0   \n",
       "3    1  29.8      17.1  43.44   control       diabetes          74.0     60.0   \n",
       "4    9  34.0      12.2  49.99   control  heart disease          68.0     55.0   \n",
       "7   19  28.1      11.7  51.72   control           none          60.0     54.0   \n",
       "8   32  38.8      14.5  36.95   tai chi           none          61.0     48.0   \n",
       "9    5  31.3      11.4  62.51   control       diabetes          63.0     59.0   \n",
       "10   4  36.9      10.2  57.22   control   hypertension          50.0     46.0   \n",
       "12   3  32.2      14.1  40.47   control           none          82.0     70.0   \n",
       "14  34  20.8       3.3  43.69   tai chi           none          68.0     65.0   \n",
       "15   7  31.2      13.4  41.02   control  heart disease          81.0     75.0   \n",
       "16  39  36.9      11.8  47.57   control       diabetes          80.0     76.0   \n",
       "17  42  31.9      16.0  53.91   control       diabetes          77.0     73.0   \n",
       "18  18  32.7      10.6  48.31   control       diabetes          54.0     51.0   \n",
       "19  17  35.1      11.0  45.67   control       diabetes          63.0     65.0   \n",
       "20  49  34.8      13.2  55.60   control           none          82.0     80.0   \n",
       "21  12  37.5      17.0  49.37   control           none          55.0     52.0   \n",
       "22  30  39.9      18.5  36.56   control           none          66.0     61.0   \n",
       "23  20  39.3      19.8  54.39   control           none          80.0     75.0   \n",
       "24  24  37.3      14.6  48.87   tai chi       diabetes          85.0     69.0   \n",
       "25  14  22.5      16.6  56.16   tai chi   hypertension          67.0     65.0   \n",
       "26  50  29.4       9.7  45.45   tai chi   hypertension          62.0     50.0   \n",
       "28  23  28.7      14.3  51.34   control       diabetes          42.0     35.0   \n",
       "29  46  32.2      15.4  57.15   tai chi           none          76.0     62.0   \n",
       "30  25  36.8      17.3  48.31   tai chi   hypertension          54.0     50.0   \n",
       "32  27  40.9      14.2  44.90   tai chi       diabetes          54.0     43.0   \n",
       "33  41  30.6      18.0  43.26   tai chi           none          61.0     53.0   \n",
       "34  48  43.4      16.7  40.07   control       diabetes          67.0     62.0   \n",
       "37  44  41.9      13.0  59.45   control           none          61.0     52.0   \n",
       "38  26  25.0      11.4  52.45   control       diabetes          53.0     51.0   \n",
       "39  43  40.8      13.4  54.88   control           none          45.0     41.0   \n",
       "40   6  25.9       8.9  57.60   control           none          63.0     56.0   \n",
       "42  37  33.3      10.7  50.56   tai chi       diabetes          47.0     32.0   \n",
       "45  16  45.8      12.9  62.73   tai chi           none          62.0     47.0   \n",
       "47  10  38.9      16.9  60.02   control           none          66.0     65.0   \n",
       "48  45  30.9      16.8  55.88   control       diabetes          66.0     59.0   \n",
       "49  33  20.3       6.8  36.96   tai chi   hypertension          80.0     75.0   \n",
       "\n",
       "    FIQ_24W  diff  \n",
       "0      50.0   7.0  \n",
       "1      85.0   0.0  \n",
       "2      68.0  15.0  \n",
       "3      62.0  12.0  \n",
       "4      56.0  12.0  \n",
       "7      54.0   6.0  \n",
       "8      49.0  12.0  \n",
       "9      61.0   2.0  \n",
       "10     43.0   7.0  \n",
       "12     76.0   6.0  \n",
       "14     58.0  10.0  \n",
       "15     71.0  10.0  \n",
       "16     81.0  -1.0  \n",
       "17     75.0   2.0  \n",
       "18     49.0   5.0  \n",
       "19     62.0   1.0  \n",
       "20     80.0   2.0  \n",
       "21     48.0   7.0  \n",
       "22     60.0   6.0  \n",
       "23     78.0   2.0  \n",
       "24     74.0  11.0  \n",
       "25     57.0  10.0  \n",
       "26     51.0  11.0  \n",
       "28     40.0   2.0  \n",
       "29     67.0   9.0  \n",
       "30     43.0  11.0  \n",
       "32     40.0  14.0  \n",
       "33     48.0  13.0  \n",
       "34     66.0   1.0  \n",
       "37     55.0   6.0  \n",
       "38     55.0  -2.0  \n",
       "39     43.0   2.0  \n",
       "40     54.0   9.0  \n",
       "42     38.0   9.0  \n",
       "45     50.0  12.0  \n",
       "47     67.0  -1.0  \n",
       "48     63.0   3.0  \n",
       "49     72.0   8.0  "
      ]
     },
     "execution_count": 16,
     "metadata": {},
     "output_type": "execute_result"
    }
   ],
   "source": [
    "# Let's compute the difference between FIQ_baseline and FIQ_24W and add it in a column called 'diff'.\n",
    "df_filtered['diff'] = df_filtered['FIQ_baseline'] - df_filtered['FIQ_24W']\n",
    "df_filtered"
   ]
  },
  {
   "cell_type": "markdown",
   "metadata": {},
   "source": [
    "### Visualization of gap between 'FIQ_baseline' and 'FIQ_24W'"
   ]
  },
  {
   "cell_type": "code",
   "execution_count": 17,
   "metadata": {},
   "outputs": [
    {
     "data": {
      "image/png": "[encoded data removed]",
      "text/plain": [
       "<Figure size 432x360 with 1 Axes>"
      ]
     },
     "metadata": {
      "needs_background": "light"
     },
     "output_type": "display_data"
    }
   ],
   "source": [
    "# Let initialize the repere\n",
    "fig, ax = plt.subplots(nrows=1, ncols=1, figsize=(6,5))\n",
    "ax1 = ax\n",
    "\n",
    "# Let draw our box-and-whisker plots\n",
    "sns.boxplot(data=df_filtered.loc[:,['FIQ_baseline', 'FIQ_12W', 'FIQ_24W']], orient = 'v', ax=ax1)\n",
    "\n",
    "# Let's set title  to our plot\n",
    "ax1.set_title(\"Visualization of gap between FIQ_baseline, FIQ_12W and FIQ_24W\")\n",
    "ax1.yaxis.grid(True)"
   ]
  },
  {
   "cell_type": "markdown",
   "metadata": {},
   "source": [
    "## Interpretation \n",
    "\n",
    "In regards of the visualisation on the difference between FIQ_baseline, FIQ_12W, and FIQ_24W, we have noticed a slightly decrease in pain severity after the 12 (Twelve) weeks of treatment from baseline, and another slightly decrease in pain severity 12 (Twelve) weeks of treatment later. This cumulated, we observer a considerable decrease in pain severity after the 24 (Twenty-four) weeks of treatment. \n",
    "\n",
    "But the question is: \"Is this variation in pain severity after treatment realy significant?\" "
   ]
  },
  {
   "cell_type": "markdown",
   "metadata": {},
   "source": [
    "### Formulate the hypothesis after 24 weeks of treatment"
   ]
  },
  {
   "cell_type": "markdown",
   "metadata": {},
   "source": [
    "Let's assume that $\\mu_0$ is the mean score of FIQ pain severity at baseline, $\\mu_1$ is the mean score of pain severity of FIQ after 12 (twelve) weeks of treatment, and that $\\mu_2$ is the mean score of pain severity of FIQ after 24 weeks of treatment. The null hypothesis and the alternative hypothesis are stated as follow:\n",
    "\n",
    "- $H_0$: $\\mu_0 = \\mu_1 = \\mu_2$: that means there is no difference in the means scores of pain severity at baseline, after 12 (twelve) weeks, and after 24 weeks of treatment. \n",
    "\n",
    "- $H_1$: At least one of the mean scores of pain severity is different to the others.  It is a two-tailed alternative hypothesis.\n",
    "\n",
    "We use a 5% significance level to test the null hypothesis.\n"
   ]
  },
  {
   "cell_type": "code",
   "execution_count": 18,
   "metadata": {},
   "outputs": [
    {
     "name": "stdout",
     "output_type": "stream",
     "text": [
      "65.78947368421052 58.94736842105263 59.18421052631579\n"
     ]
    }
   ],
   "source": [
    "mu_0 = df_filtered['FIQ_baseline'].mean()\n",
    "mu_1 = df_filtered['FIQ_12W'].mean()\n",
    "mu_2 = df_filtered['FIQ_24W'].mean()\n",
    "print(mu_0, mu_1, mu_2)"
   ]
  },
  {
   "cell_type": "code",
   "execution_count": 19,
   "metadata": {},
   "outputs": [
    {
     "name": "stdout",
     "output_type": "stream",
     "text": [
      "6.84210526315789 -0.23684210526315752 6.605263157894733\n"
     ]
    }
   ],
   "source": [
    "# Let's check the difference\n",
    "print(mu_0-mu_1, mu_1-mu_2, mu_0 - mu_2)"
   ]
  },
  {
   "cell_type": "markdown",
   "metadata": {},
   "source": [
    "On average, there is a decrease of 6.84 in the mean score of pain severity after twelve weeks of treatment from baseline and then after an additional twelve weeks of treatment, the mean score increases of 0.24. But the question is: \"Is this variation difference of the mean realy significant? This is what will try to answer below here."
   ]
  },
  {
   "cell_type": "markdown",
   "metadata": {},
   "source": [
    "#### T-test after 12(twelve) weeks"
   ]
  },
  {
   "cell_type": "code",
   "execution_count": 20,
   "metadata": {},
   "outputs": [
    {
     "name": "stdout",
     "output_type": "stream",
     "text": [
      "8.4170954630706 4.0295003148601624e-10\n"
     ]
    }
   ],
   "source": [
    "r, p = stats.ttest_rel(df_filtered['FIQ_baseline'], df_filtered['FIQ_12W'])\n",
    "print(r, p)"
   ]
  },
  {
   "cell_type": "code",
   "execution_count": 21,
   "metadata": {},
   "outputs": [
    {
     "data": {
      "text/plain": [
       "2.0147501574300812e-10"
      ]
     },
     "execution_count": 21,
     "metadata": {},
     "output_type": "execute_result"
    }
   ],
   "source": [
    "p/2"
   ]
  },
  {
   "cell_type": "markdown",
   "metadata": {},
   "source": [
    "## Interpretation \n",
    "We obtain a $p \\approx 2.01*\\exp(-10)$, which is less than the significance level $\\alpha = 0.025.$ A low p-value indicates rejection of the null hypothesis. And since the mean before the treatment is greater than the mean after the treatment, we conclude that the pain severity has decreased from the average pain score after twenty-four (24) weeks of treatment. "
   ]
  },
  {
   "cell_type": "markdown",
   "metadata": {},
   "source": [
    "#### T-test after 12(twelve) additional weeks from the week twelve."
   ]
  },
  {
   "cell_type": "code",
   "execution_count": 22,
   "metadata": {},
   "outputs": [
    {
     "name": "stdout",
     "output_type": "stream",
     "text": [
      "-0.3804571532988399 0.7057816290173937\n"
     ]
    }
   ],
   "source": [
    "r, p = stats.ttest_rel(df_filtered['FIQ_12W'], df_filtered['FIQ_24W'])\n",
    "print(r, p)"
   ]
  },
  {
   "cell_type": "code",
   "execution_count": 23,
   "metadata": {},
   "outputs": [
    {
     "data": {
      "text/plain": [
       "0.35289081450869686"
      ]
     },
     "execution_count": 23,
     "metadata": {},
     "output_type": "execute_result"
    }
   ],
   "source": [
    "p/2"
   ]
  },
  {
   "cell_type": "markdown",
   "metadata": {},
   "source": [
    "## Interpretation \n",
    "We obtain a $p \\approx 0.35$, which is greater than the significance level $\\alpha = 0.025.$ A high p-value indicates support of the null hypothesis. We then conclude that there is no difference in the mean scores of pain severity after twelve weeks from the week twelve of treatment. "
   ]
  },
  {
   "cell_type": "markdown",
   "metadata": {},
   "source": [
    "#### T-test after 12(twelve) additional weeks from baseline."
   ]
  },
  {
   "cell_type": "code",
   "execution_count": 24,
   "metadata": {},
   "outputs": [
    {
     "name": "stdout",
     "output_type": "stream",
     "text": [
      "8.570753755363839 2.5741513674884057e-10\n"
     ]
    }
   ],
   "source": [
    "r, p = stats.ttest_rel(df_filtered['FIQ_baseline'], df_filtered['FIQ_24W'])\n",
    "print(r, p)"
   ]
  },
  {
   "cell_type": "code",
   "execution_count": 25,
   "metadata": {},
   "outputs": [
    {
     "data": {
      "text/plain": [
       "1.2870756837442029e-10"
      ]
     },
     "execution_count": 25,
     "metadata": {},
     "output_type": "execute_result"
    }
   ],
   "source": [
    "p/2"
   ]
  },
  {
   "cell_type": "markdown",
   "metadata": {},
   "source": [
    "## Result\n",
    "We obtain a $p \\approx 1.29*\\exp(-10)$, which is less than the significance level $\\alpha = 0.025.$ A low p-value indicates rejection of the null hypothesis. And since the mean score of FIQ at the baseline is greater than the mean score of FIQ after twenty-four (24) weeks of treatment, we conclude that the pain severity has decreased from the average pain score after twenty-four (24) weeks of treatment. The variation is really significant."
   ]
  },
  {
   "cell_type": "markdown",
   "metadata": {},
   "source": [
    "#### Question 1.2\n",
    "Visualize the data for baseline treatment and treatment after 24 weeks.\n"
   ]
  },
  {
   "cell_type": "markdown",
   "metadata": {},
   "source": [
    "We can split our observations into two groups according to the treatment, namely a control group and a tai chi group."
   ]
  },
  {
   "cell_type": "code",
   "execution_count": 26,
   "metadata": {},
   "outputs": [
    {
     "data": {
      "text/plain": [
       "<pandas.core.groupby.generic.DataFrameGroupBy object at 0x12101f710>"
      ]
     },
     "execution_count": 26,
     "metadata": {},
     "output_type": "execute_result"
    }
   ],
   "source": [
    "treatment = df_filtered.groupby(['treatment'])\n",
    "treatment"
   ]
  },
  {
   "cell_type": "markdown",
   "metadata": {},
   "source": [
    "We cast the pandas.core.groupby.DataFrameGroupBy object to a list and extract the treatment groups from it and place them in new dataframes."
   ]
  },
  {
   "cell_type": "code",
   "execution_count": 27,
   "metadata": {},
   "outputs": [
    {
     "name": "stdout",
     "output_type": "stream",
     "text": [
      "(13, 10) (25, 10)\n"
     ]
    }
   ],
   "source": [
    "# Let's put it into new dataframes\n",
    "control = list(treatment)[0][1]\n",
    "taichi  = list(treatment)[1][1]\n",
    "print(taichi.shape, control.shape)"
   ]
  },
  {
   "cell_type": "code",
   "execution_count": 28,
   "metadata": {},
   "outputs": [
    {
     "name": "stdout",
     "output_type": "stream",
     "text": [
      "<class 'pandas.core.frame.DataFrame'> <class 'pandas.core.frame.DataFrame'>\n"
     ]
    }
   ],
   "source": [
    "print(type(taichi), type(control))"
   ]
  },
  {
   "cell_type": "markdown",
   "metadata": {},
   "source": [
    "## Visualizing the different means\n",
    "\n",
    "Let's add the difference between the baseline scores and twenty-four weeks after treatment to the dataframe."
   ]
  },
  {
   "cell_type": "code",
   "execution_count": 29,
   "metadata": {},
   "outputs": [],
   "source": [
    "taichi['diff'] = taichi['FIQ_baseline'] - taichi['FIQ_24W']\n",
    "control['diff'] = control['FIQ_baseline'] - control['FIQ_24W']"
   ]
  },
  {
   "cell_type": "markdown",
   "metadata": {},
   "source": [
    "#### Now, let visualize the data of pain severity at baseline treatment and after 24 weeks of  treatment."
   ]
  },
  {
   "cell_type": "code",
   "execution_count": 30,
   "metadata": {},
   "outputs": [
    {
     "data": {
      "image/png": "[encoded data removed]",
      "text/plain": [
       "<Figure size 1296x432 with 2 Axes>"
      ]
     },
     "metadata": {
      "needs_background": "light"
     },
     "output_type": "display_data"
    }
   ],
   "source": [
    "# Let initialize the repere\n",
    "fig, ax = plt.subplots(nrows=1, ncols=2, figsize=(18,6))\n",
    "(ax2, ax3) = ax\n",
    "\n",
    "# Let draw our box-and-whisker plots\n",
    "sns.boxplot(data=control.loc[:,['FIQ_baseline','FIQ_24W']], orient = 'v', ax=ax3)\n",
    "sns.boxplot(data=taichi.loc[:,['FIQ_baseline','FIQ_24W']], orient = 'v', ax=ax2)\n",
    "\n",
    "# Let's set title  to our plot\n",
    "ax2.set_title(\"Difference of treatment of taichi between FIQ_baseline and FIQ_24W\")\n",
    "ax3.set_title(\"Difference of treatment on control between FIQ_baseline and FIQ_24W\")\n",
    "ax2.yaxis.grid(True)\n",
    "ax3.yaxis.grid(True)"
   ]
  },
  {
   "cell_type": "markdown",
   "metadata": {},
   "source": [
    "## Interpretation \n",
    "\n",
    "In regards of the visualisation on the difference between FIQ_baseline and FIQ_24W scores, we have noticed a considerable decrease in pain severity after the 24 (Twenty-four) weeks of treatment with taichi.\n",
    "\n",
    "As for the difference between FIQ_baseline and FIQ_24W scores in the case of treatment link to control, there is a lightly decrease in pain severity after the 24 (Twenty-four) weeks."
   ]
  },
  {
   "cell_type": "code",
   "execution_count": 31,
   "metadata": {},
   "outputs": [
    {
     "data": {
      "text/html": [
       "<div>\n",
       "<style scoped>\n",
       "    .dataframe tbody tr th:only-of-type {\n",
       "        vertical-align: middle;\n",
       "    }\n",
       "\n",
       "    .dataframe tbody tr th {\n",
       "        vertical-align: top;\n",
       "    }\n",
       "\n",
       "    .dataframe thead th {\n",
       "        text-align: right;\n",
       "    }\n",
       "</style>\n",
       "<table border=\"1\" class=\"dataframe\">\n",
       "  <thead>\n",
       "    <tr style=\"text-align: right;\">\n",
       "      <th></th>\n",
       "      <th>Id</th>\n",
       "      <th>BMI</th>\n",
       "      <th>duration</th>\n",
       "      <th>age</th>\n",
       "      <th>FIQ_baseline</th>\n",
       "      <th>FIQ_12W</th>\n",
       "      <th>FIQ_24W</th>\n",
       "      <th>diff</th>\n",
       "    </tr>\n",
       "  </thead>\n",
       "  <tbody>\n",
       "    <tr>\n",
       "      <td>count</td>\n",
       "      <td>13.000000</td>\n",
       "      <td>13.000000</td>\n",
       "      <td>13.000000</td>\n",
       "      <td>13.000000</td>\n",
       "      <td>13.000000</td>\n",
       "      <td>13.000000</td>\n",
       "      <td>13.000000</td>\n",
       "      <td>13.000000</td>\n",
       "    </tr>\n",
       "    <tr>\n",
       "      <td>mean</td>\n",
       "      <td>31.923077</td>\n",
       "      <td>32.630769</td>\n",
       "      <td>12.361538</td>\n",
       "      <td>48.811538</td>\n",
       "      <td>66.153846</td>\n",
       "      <td>55.923077</td>\n",
       "      <td>55.000000</td>\n",
       "      <td>11.153846</td>\n",
       "    </tr>\n",
       "    <tr>\n",
       "      <td>std</td>\n",
       "      <td>10.665064</td>\n",
       "      <td>7.837558</td>\n",
       "      <td>4.578671</td>\n",
       "      <td>8.169556</td>\n",
       "      <td>11.838117</td>\n",
       "      <td>12.392616</td>\n",
       "      <td>12.110601</td>\n",
       "      <td>2.034951</td>\n",
       "    </tr>\n",
       "    <tr>\n",
       "      <td>min</td>\n",
       "      <td>14.000000</td>\n",
       "      <td>20.300000</td>\n",
       "      <td>3.300000</td>\n",
       "      <td>36.950000</td>\n",
       "      <td>47.000000</td>\n",
       "      <td>32.000000</td>\n",
       "      <td>38.000000</td>\n",
       "      <td>8.000000</td>\n",
       "    </tr>\n",
       "    <tr>\n",
       "      <td>25%</td>\n",
       "      <td>25.000000</td>\n",
       "      <td>29.400000</td>\n",
       "      <td>9.700000</td>\n",
       "      <td>43.690000</td>\n",
       "      <td>61.000000</td>\n",
       "      <td>48.000000</td>\n",
       "      <td>48.000000</td>\n",
       "      <td>10.000000</td>\n",
       "    </tr>\n",
       "    <tr>\n",
       "      <td>50%</td>\n",
       "      <td>33.000000</td>\n",
       "      <td>33.300000</td>\n",
       "      <td>14.200000</td>\n",
       "      <td>48.310000</td>\n",
       "      <td>62.000000</td>\n",
       "      <td>53.000000</td>\n",
       "      <td>51.000000</td>\n",
       "      <td>11.000000</td>\n",
       "    </tr>\n",
       "    <tr>\n",
       "      <td>75%</td>\n",
       "      <td>37.000000</td>\n",
       "      <td>37.300000</td>\n",
       "      <td>15.400000</td>\n",
       "      <td>56.160000</td>\n",
       "      <td>76.000000</td>\n",
       "      <td>65.000000</td>\n",
       "      <td>67.000000</td>\n",
       "      <td>12.000000</td>\n",
       "    </tr>\n",
       "    <tr>\n",
       "      <td>max</td>\n",
       "      <td>50.000000</td>\n",
       "      <td>45.800000</td>\n",
       "      <td>18.000000</td>\n",
       "      <td>62.730000</td>\n",
       "      <td>85.000000</td>\n",
       "      <td>75.000000</td>\n",
       "      <td>74.000000</td>\n",
       "      <td>15.000000</td>\n",
       "    </tr>\n",
       "  </tbody>\n",
       "</table>\n",
       "</div>"
      ],
      "text/plain": [
       "              Id        BMI   duration        age  FIQ_baseline    FIQ_12W  \\\n",
       "count  13.000000  13.000000  13.000000  13.000000     13.000000  13.000000   \n",
       "mean   31.923077  32.630769  12.361538  48.811538     66.153846  55.923077   \n",
       "std    10.665064   7.837558   4.578671   8.169556     11.838117  12.392616   \n",
       "min    14.000000  20.300000   3.300000  36.950000     47.000000  32.000000   \n",
       "25%    25.000000  29.400000   9.700000  43.690000     61.000000  48.000000   \n",
       "50%    33.000000  33.300000  14.200000  48.310000     62.000000  53.000000   \n",
       "75%    37.000000  37.300000  15.400000  56.160000     76.000000  65.000000   \n",
       "max    50.000000  45.800000  18.000000  62.730000     85.000000  75.000000   \n",
       "\n",
       "         FIQ_24W       diff  \n",
       "count  13.000000  13.000000  \n",
       "mean   55.000000  11.153846  \n",
       "std    12.110601   2.034951  \n",
       "min    38.000000   8.000000  \n",
       "25%    48.000000  10.000000  \n",
       "50%    51.000000  11.000000  \n",
       "75%    67.000000  12.000000  \n",
       "max    74.000000  15.000000  "
      ]
     },
     "execution_count": 31,
     "metadata": {},
     "output_type": "execute_result"
    }
   ],
   "source": [
    "taichi.describe()"
   ]
  },
  {
   "cell_type": "code",
   "execution_count": 32,
   "metadata": {},
   "outputs": [
    {
     "data": {
      "text/html": [
       "<div>\n",
       "<style scoped>\n",
       "    .dataframe tbody tr th:only-of-type {\n",
       "        vertical-align: middle;\n",
       "    }\n",
       "\n",
       "    .dataframe tbody tr th {\n",
       "        vertical-align: top;\n",
       "    }\n",
       "\n",
       "    .dataframe thead th {\n",
       "        text-align: right;\n",
       "    }\n",
       "</style>\n",
       "<table border=\"1\" class=\"dataframe\">\n",
       "  <thead>\n",
       "    <tr style=\"text-align: right;\">\n",
       "      <th></th>\n",
       "      <th>Id</th>\n",
       "      <th>BMI</th>\n",
       "      <th>duration</th>\n",
       "      <th>age</th>\n",
       "      <th>FIQ_baseline</th>\n",
       "      <th>FIQ_12W</th>\n",
       "      <th>FIQ_24W</th>\n",
       "      <th>diff</th>\n",
       "    </tr>\n",
       "  </thead>\n",
       "  <tbody>\n",
       "    <tr>\n",
       "      <td>count</td>\n",
       "      <td>25.000000</td>\n",
       "      <td>25.000000</td>\n",
       "      <td>25.000000</td>\n",
       "      <td>25.000000</td>\n",
       "      <td>25.000000</td>\n",
       "      <td>25.000000</td>\n",
       "      <td>25.000000</td>\n",
       "      <td>25.00000</td>\n",
       "    </tr>\n",
       "    <tr>\n",
       "      <td>mean</td>\n",
       "      <td>22.120000</td>\n",
       "      <td>34.468000</td>\n",
       "      <td>13.676000</td>\n",
       "      <td>50.916000</td>\n",
       "      <td>65.600000</td>\n",
       "      <td>60.520000</td>\n",
       "      <td>61.360000</td>\n",
       "      <td>4.24000</td>\n",
       "    </tr>\n",
       "    <tr>\n",
       "      <td>std</td>\n",
       "      <td>15.959114</td>\n",
       "      <td>5.553882</td>\n",
       "      <td>2.967221</td>\n",
       "      <td>6.887995</td>\n",
       "      <td>12.165525</td>\n",
       "      <td>12.619826</td>\n",
       "      <td>12.796093</td>\n",
       "      <td>3.96106</td>\n",
       "    </tr>\n",
       "    <tr>\n",
       "      <td>min</td>\n",
       "      <td>1.000000</td>\n",
       "      <td>25.000000</td>\n",
       "      <td>8.900000</td>\n",
       "      <td>36.560000</td>\n",
       "      <td>42.000000</td>\n",
       "      <td>35.000000</td>\n",
       "      <td>40.000000</td>\n",
       "      <td>-2.00000</td>\n",
       "    </tr>\n",
       "    <tr>\n",
       "      <td>25%</td>\n",
       "      <td>9.000000</td>\n",
       "      <td>30.900000</td>\n",
       "      <td>11.400000</td>\n",
       "      <td>47.210000</td>\n",
       "      <td>57.000000</td>\n",
       "      <td>52.000000</td>\n",
       "      <td>54.000000</td>\n",
       "      <td>2.00000</td>\n",
       "    </tr>\n",
       "    <tr>\n",
       "      <td>50%</td>\n",
       "      <td>19.000000</td>\n",
       "      <td>34.000000</td>\n",
       "      <td>13.300000</td>\n",
       "      <td>51.720000</td>\n",
       "      <td>66.000000</td>\n",
       "      <td>59.000000</td>\n",
       "      <td>61.000000</td>\n",
       "      <td>3.00000</td>\n",
       "    </tr>\n",
       "    <tr>\n",
       "      <td>75%</td>\n",
       "      <td>39.000000</td>\n",
       "      <td>38.900000</td>\n",
       "      <td>16.700000</td>\n",
       "      <td>55.880000</td>\n",
       "      <td>77.000000</td>\n",
       "      <td>70.000000</td>\n",
       "      <td>71.000000</td>\n",
       "      <td>7.00000</td>\n",
       "    </tr>\n",
       "    <tr>\n",
       "      <td>max</td>\n",
       "      <td>49.000000</td>\n",
       "      <td>45.900000</td>\n",
       "      <td>19.800000</td>\n",
       "      <td>62.510000</td>\n",
       "      <td>85.000000</td>\n",
       "      <td>88.000000</td>\n",
       "      <td>85.000000</td>\n",
       "      <td>12.00000</td>\n",
       "    </tr>\n",
       "  </tbody>\n",
       "</table>\n",
       "</div>"
      ],
      "text/plain": [
       "              Id        BMI   duration        age  FIQ_baseline    FIQ_12W  \\\n",
       "count  25.000000  25.000000  25.000000  25.000000     25.000000  25.000000   \n",
       "mean   22.120000  34.468000  13.676000  50.916000     65.600000  60.520000   \n",
       "std    15.959114   5.553882   2.967221   6.887995     12.165525  12.619826   \n",
       "min     1.000000  25.000000   8.900000  36.560000     42.000000  35.000000   \n",
       "25%     9.000000  30.900000  11.400000  47.210000     57.000000  52.000000   \n",
       "50%    19.000000  34.000000  13.300000  51.720000     66.000000  59.000000   \n",
       "75%    39.000000  38.900000  16.700000  55.880000     77.000000  70.000000   \n",
       "max    49.000000  45.900000  19.800000  62.510000     85.000000  88.000000   \n",
       "\n",
       "         FIQ_24W      diff  \n",
       "count  25.000000  25.00000  \n",
       "mean   61.360000   4.24000  \n",
       "std    12.796093   3.96106  \n",
       "min    40.000000  -2.00000  \n",
       "25%    54.000000   2.00000  \n",
       "50%    61.000000   3.00000  \n",
       "75%    71.000000   7.00000  \n",
       "max    85.000000  12.00000  "
      ]
     },
     "execution_count": 32,
     "metadata": {},
     "output_type": "execute_result"
    }
   ],
   "source": [
    "control.describe()"
   ]
  },
  {
   "cell_type": "markdown",
   "metadata": {},
   "source": [
    "#### Question 1.3\n",
    "Formulate an hypothesis about pain severity before and after treatment in 24 weeks."
   ]
  },
  {
   "cell_type": "markdown",
   "metadata": {
    "collapsed": true
   },
   "source": [
    "We want to measure how effective treatment is so the severity of illness is measured before treatment and then after treatment. Since, we would like to see if there is a difference in the means of pain severity before and after 24 weeks of treatment. We could use a paired sample T-test for that. \n",
    "\n",
    "Let's assume that $\\mu_d$ is the mean difference of pain severity before treatment and after 24 weeks of treatment. Assuming that $\\mu_0$ is the mean of FIQ pain severity at baseline and that $\\mu_1$ is the pain severity of FIQ after 24 weeks of treatment, the null hypothesis and the alternative hypothesis are stated as follow:\n",
    "\n",
    "- $H_0$: $\\mu_d = \\mu_1 - \\mu_0 = 0$: that means there is no difference in pain severity before treatment and after 24 weeks of treatment. \n",
    "\n",
    "- $H_1$: $\\mu_d = \\mu_1 - \\mu_0  \\leq 0$, This means the pain severity at baseline is greater than the pain severity after 24 weeks of treatment.  It is a one-tailed alternative hypothesis.\n",
    "\n",
    "We use a 5% significance level to test the null hypothesis.\n"
   ]
  },
  {
   "cell_type": "markdown",
   "metadata": {},
   "source": [
    "#### Question 1.4 \n",
    "Discuss your results."
   ]
  },
  {
   "cell_type": "markdown",
   "metadata": {},
   "source": [
    "#### Let us starts with the test resulting from the treatment based on taichi.  "
   ]
  },
  {
   "cell_type": "code",
   "execution_count": 33,
   "metadata": {},
   "outputs": [
    {
     "name": "stdout",
     "output_type": "stream",
     "text": [
      "66.15384615384616 55.0\n"
     ]
    }
   ],
   "source": [
    "mu_0 = taichi['FIQ_baseline'].mean()\n",
    "mu_1 = taichi['FIQ_24W'].mean()\n",
    "print(mu_0, mu_1)"
   ]
  },
  {
   "cell_type": "code",
   "execution_count": 34,
   "metadata": {},
   "outputs": [
    {
     "name": "stdout",
     "output_type": "stream",
     "text": [
      "11.838117487211623 12.110601416389967\n"
     ]
    }
   ],
   "source": [
    "print(taichi['FIQ_baseline'].std(),taichi['FIQ_24W'].std())"
   ]
  },
  {
   "cell_type": "code",
   "execution_count": 35,
   "metadata": {},
   "outputs": [
    {
     "name": "stdout",
     "output_type": "stream",
     "text": [
      "11.15384615384616\n"
     ]
    }
   ],
   "source": [
    "# Let's check the difference\n",
    "print(mu_0-mu_1)"
   ]
  },
  {
   "cell_type": "markdown",
   "metadata": {},
   "source": [
    "On average, there is a difference in the pain severity before and after treatment of 11.15. Is this difference significant? This what will try to answer below here."
   ]
  },
  {
   "cell_type": "code",
   "execution_count": 36,
   "metadata": {},
   "outputs": [
    {
     "data": {
      "text/plain": [
       "Ttest_relResult(statistic=19.762521993455078, pvalue=1.6034527615814906e-10)"
      ]
     },
     "execution_count": 36,
     "metadata": {},
     "output_type": "execute_result"
    }
   ],
   "source": [
    "stats.ttest_rel(taichi['FIQ_baseline'], taichi['FIQ_24W'])"
   ]
  },
  {
   "cell_type": "markdown",
   "metadata": {},
   "source": [
    "## Interpretation \n",
    "We obtain a $p \\approx 1.6*\\exp(-10)$, which is less than the significance level $\\alpha = 0.05.$ A low p-value indicates rejection of the null hypothesis. And since the mean score of pain severity at baseline is greater than the mean score of pain severity after twenty-four (24) weeks treatment, we conclude that the pain severity has signicantly decreased from the average score of pain severity after twenty-four (24) weeks of treatment with tai chi. "
   ]
  },
  {
   "cell_type": "markdown",
   "metadata": {},
   "source": [
    "#### For the result of the alternative treatment: I mean the test resulting from the treatment based on control, we have: "
   ]
  },
  {
   "cell_type": "code",
   "execution_count": 37,
   "metadata": {},
   "outputs": [
    {
     "name": "stdout",
     "output_type": "stream",
     "text": [
      "65.6 61.36\n"
     ]
    }
   ],
   "source": [
    "mu_0 = control['FIQ_baseline'].mean()\n",
    "mu_1 = control['FIQ_24W'].mean()\n",
    "print(mu_0, mu_1)"
   ]
  },
  {
   "cell_type": "code",
   "execution_count": 38,
   "metadata": {},
   "outputs": [
    {
     "name": "stdout",
     "output_type": "stream",
     "text": [
      "4.239999999999995\n"
     ]
    }
   ],
   "source": [
    "# Let's check the difference\n",
    "print(mu_0-mu_1)"
   ]
  },
  {
   "cell_type": "markdown",
   "metadata": {},
   "source": [
    "On average, there is a difference in the pain severity before and after treatment of 4.38. Is this difference significant? This what will try to answer below here."
   ]
  },
  {
   "cell_type": "code",
   "execution_count": 39,
   "metadata": {},
   "outputs": [
    {
     "data": {
      "text/plain": [
       "Ttest_relResult(statistic=5.3521020929403855, pvalue=1.7085704428738522e-05)"
      ]
     },
     "execution_count": 39,
     "metadata": {},
     "output_type": "execute_result"
    }
   ],
   "source": [
    "stats.ttest_rel(control['FIQ_baseline'], control['FIQ_24W'])"
   ]
  },
  {
   "cell_type": "markdown",
   "metadata": {},
   "source": [
    "## Interpretation \n",
    "We obtain a $p \\approx 6.84*\\exp(-6)$, which is less than the significance level $\\alpha = 0.05.$ A low p-value indicates rejection of the null hypothesis. And since the mean before the treatment is greater than the mean after the treatment, we conclude that the mean score of pain severity has decreased from the average score of pain after twenty-four (24) weeks of treatment base on control. "
   ]
  },
  {
   "cell_type": "markdown",
   "metadata": {},
   "source": [
    "## Result interpretation\n",
    "Of the 50 randomly assigned patients, after pre-processing analysis we have just remained with 38 patients. 13  of the 39 patients were submitted under treatment of control and 25 under the tai chi. The tai chi group had clinically important improvements in the FIQ total score and quality of life. Mean (±SD)\n",
    "baseline and 24-week FIQ scores for the tai chi group were 66.15±11.84 and 55.0±12.11,\n",
    "respectively, versus 65.6±12.17 and 61.36±12.8, respectively, for the control group (change\n",
    "from baseline in the tai chi group, −11.15 points; $P < 0.05$  vs. change from baseline in the control group,\n",
    "−4.24 points; $P<0.05$). "
   ]
  },
  {
   "cell_type": "markdown",
   "metadata": {},
   "source": [
    "## Conclusions\n",
    "Tai chi may be a useful treatment for fibromyalgia and merits long-term study in\n",
    "larger study populations. "
   ]
  },
  {
   "cell_type": "code",
   "execution_count": 40,
   "metadata": {},
   "outputs": [
    {
     "data": {
      "image/png": "[encoded data removed]",
      "text/plain": [
       "<Figure size 1330.75x1260 with 56 Axes>"
      ]
     },
     "metadata": {
      "needs_background": "light"
     },
     "output_type": "display_data"
    }
   ],
   "source": [
    "# Let's of have look of the correlation between variables.\n",
    "# Let's remove the id in the dataframe df_filtered\n",
    "df_filtered.drop(axis =1, columns = ['Id'], inplace =True)\n",
    "\n",
    "# Let's have a look of the pairplot\n",
    "sns.pairplot(df_filtered, hue='treatment', height=2.5);"
   ]
  },
  {
   "cell_type": "markdown",
   "metadata": {},
   "source": [
    "### Interpretation\n",
    "This pairplot shows a strong positive correlation between the pair variables (FIQ_baseline, FIQ_12W), (FIQ_baseline, FIQ_24W), and (FIQ_12W, FIQ_24W) for both tai chi and control treatment."
   ]
  },
  {
   "cell_type": "markdown",
   "metadata": {
    "collapsed": true
   },
   "source": [
    "### Question 2\n",
    "\n",
    "The following is measurement data on the bonding strength of three types of resin. Are there any differences between the resin material? \n",
    "<img src='assessImg.PNG'>\n",
    "\n",
    "Source: [Analysis of variance (ANOVA) comparing means of more than two groups](https://www.ncbi.nlm.nih.gov/pmc/articles/PMC3916511/)"
   ]
  },
  {
   "cell_type": "code",
   "execution_count": 41,
   "metadata": {},
   "outputs": [
    {
     "data": {
      "text/html": [
       "<div>\n",
       "<style scoped>\n",
       "    .dataframe tbody tr th:only-of-type {\n",
       "        vertical-align: middle;\n",
       "    }\n",
       "\n",
       "    .dataframe tbody tr th {\n",
       "        vertical-align: top;\n",
       "    }\n",
       "\n",
       "    .dataframe thead th {\n",
       "        text-align: right;\n",
       "    }\n",
       "</style>\n",
       "<table border=\"1\" class=\"dataframe\">\n",
       "  <thead>\n",
       "    <tr style=\"text-align: right;\">\n",
       "      <th></th>\n",
       "      <th>A</th>\n",
       "      <th>B</th>\n",
       "      <th>C</th>\n",
       "    </tr>\n",
       "  </thead>\n",
       "  <tbody>\n",
       "    <tr>\n",
       "      <td>0</td>\n",
       "      <td>19.7</td>\n",
       "      <td>23.0</td>\n",
       "      <td>21.6</td>\n",
       "    </tr>\n",
       "    <tr>\n",
       "      <td>1</td>\n",
       "      <td>20.1</td>\n",
       "      <td>24.5</td>\n",
       "      <td>25.5</td>\n",
       "    </tr>\n",
       "    <tr>\n",
       "      <td>2</td>\n",
       "      <td>21.3</td>\n",
       "      <td>24.6</td>\n",
       "      <td>25.9</td>\n",
       "    </tr>\n",
       "    <tr>\n",
       "      <td>3</td>\n",
       "      <td>23.5</td>\n",
       "      <td>27.1</td>\n",
       "      <td>30.7</td>\n",
       "    </tr>\n",
       "    <tr>\n",
       "      <td>4</td>\n",
       "      <td>9.3</td>\n",
       "      <td>12.0</td>\n",
       "      <td>33.0</td>\n",
       "    </tr>\n",
       "    <tr>\n",
       "      <td>5</td>\n",
       "      <td>27.1</td>\n",
       "      <td>27.8</td>\n",
       "      <td>16.5</td>\n",
       "    </tr>\n",
       "    <tr>\n",
       "      <td>6</td>\n",
       "      <td>11.6</td>\n",
       "      <td>12.8</td>\n",
       "      <td>22.7</td>\n",
       "    </tr>\n",
       "    <tr>\n",
       "      <td>7</td>\n",
       "      <td>12.2</td>\n",
       "      <td>16.2</td>\n",
       "      <td>24.2</td>\n",
       "    </tr>\n",
       "    <tr>\n",
       "      <td>8</td>\n",
       "      <td>15.9</td>\n",
       "      <td>19.8</td>\n",
       "      <td>26.2</td>\n",
       "    </tr>\n",
       "    <tr>\n",
       "      <td>9</td>\n",
       "      <td>17.0</td>\n",
       "      <td>22.4</td>\n",
       "      <td>28.4</td>\n",
       "    </tr>\n",
       "    <tr>\n",
       "      <td>10</td>\n",
       "      <td>17.2</td>\n",
       "      <td>23.6</td>\n",
       "      <td>28.5</td>\n",
       "    </tr>\n",
       "    <tr>\n",
       "      <td>11</td>\n",
       "      <td>18.4</td>\n",
       "      <td>25.3</td>\n",
       "      <td>30.7</td>\n",
       "    </tr>\n",
       "    <tr>\n",
       "      <td>12</td>\n",
       "      <td>19.8</td>\n",
       "      <td>27.9</td>\n",
       "      <td>32.2</td>\n",
       "    </tr>\n",
       "    <tr>\n",
       "      <td>13</td>\n",
       "      <td>23.4</td>\n",
       "      <td>34.6</td>\n",
       "      <td>33.8</td>\n",
       "    </tr>\n",
       "    <tr>\n",
       "      <td>14</td>\n",
       "      <td>28.0</td>\n",
       "      <td>35.2</td>\n",
       "      <td>34.5</td>\n",
       "    </tr>\n",
       "  </tbody>\n",
       "</table>\n",
       "</div>"
      ],
      "text/plain": [
       "       A     B     C\n",
       "0   19.7  23.0  21.6\n",
       "1   20.1  24.5  25.5\n",
       "2   21.3  24.6  25.9\n",
       "3   23.5  27.1  30.7\n",
       "4    9.3  12.0  33.0\n",
       "5   27.1  27.8  16.5\n",
       "6   11.6  12.8  22.7\n",
       "7   12.2  16.2  24.2\n",
       "8   15.9  19.8  26.2\n",
       "9   17.0  22.4  28.4\n",
       "10  17.2  23.6  28.5\n",
       "11  18.4  25.3  30.7\n",
       "12  19.8  27.9  32.2\n",
       "13  23.4  34.6  33.8\n",
       "14  28.0  35.2  34.5"
      ]
     },
     "execution_count": 41,
     "metadata": {},
     "output_type": "execute_result"
    }
   ],
   "source": [
    "# Let's load data into a dataframe\n",
    "raw_data = {'A': [19.7, 20.1, 21.3, 23.5, 9.3, 27.1, 11.6, 12.2, 15.9, 17.0, 17.2,18.4, 19.8, 23.4,28.0],\n",
    "            'B': [23.0, 24.5, 24.6, 27.1, 12.0, 27.8, 12.8, 16.2, 19.8, 22.4, 23.6, 25.3, 27.9, 34.6, 35.2],\n",
    "            'C': [21.6, 25.5, 25.9, 30.7, 33.0, 16.5, 22.7, 24.2, 26.2, 28.4, 28.5, 30.7, 32.2, 33.8, 34.5]}\n",
    "df = pd.DataFrame(raw_data, columns = ['A', 'B', 'C'])\n",
    "df"
   ]
  },
  {
   "cell_type": "code",
   "execution_count": 42,
   "metadata": {},
   "outputs": [
    {
     "data": {
      "image/png": "[encoded data removed]",
      "text/plain": [
       "<Figure size 1080x360 with 3 Axes>"
      ]
     },
     "metadata": {
      "needs_background": "light"
     },
     "output_type": "display_data"
    }
   ],
   "source": [
    "fig, ax = plt.subplots(ncols =3, figsize=(15,5))\n",
    "(ax1, ax2, ax3) = ax\n",
    "\n",
    "# Let draw our box-and-whisker plots\n",
    "sns.distplot(df['A'], ax=ax1).set_title('Distribution of A');\n",
    "sns.distplot(df['B'], ax=ax2).set_title('Distribution of B');\n",
    "sns.distplot(df['C'], ax=ax3).set_title('Distribution of C');"
   ]
  },
  {
   "cell_type": "markdown",
   "metadata": {},
   "source": [
    "### Interpretation of Distribution of A\n",
    "we see that the data points centred in the range $17 \\leq x < 22$. From the range $15\\leq x < 28$ data points are constants, and we observe a few data points that stretch from $9.3 \\leq x < 15$. \n",
    "### Interpretation of Distribution of B\n",
    "We see that the data points centred in the range  22≤𝑥<27. We see a peak in the data. To the left of the peak, we observe a few data points that stretch from 27 to 35. This shape does not occur to the left of the peak. The data is skewed to the right, indicated by the tail stretching off to the right.\n",
    "### Interpretation of Distribution of C\n",
    "We see that the data points centred in the range $25 \\leq x < 30$. We see a peak in the data. To the left of the peak, we observe a few data points that stretch from 16.5 to 30. This shape does not occur to the right of the peak. The data is skewed to the left, indicated by the tail stretching off to the left."
   ]
  },
  {
   "cell_type": "code",
   "execution_count": 43,
   "metadata": {},
   "outputs": [
    {
     "data": {
      "text/html": [
       "<div>\n",
       "<style scoped>\n",
       "    .dataframe tbody tr th:only-of-type {\n",
       "        vertical-align: middle;\n",
       "    }\n",
       "\n",
       "    .dataframe tbody tr th {\n",
       "        vertical-align: top;\n",
       "    }\n",
       "\n",
       "    .dataframe thead th {\n",
       "        text-align: right;\n",
       "    }\n",
       "</style>\n",
       "<table border=\"1\" class=\"dataframe\">\n",
       "  <thead>\n",
       "    <tr style=\"text-align: right;\">\n",
       "      <th></th>\n",
       "      <th>A</th>\n",
       "      <th>B</th>\n",
       "      <th>C</th>\n",
       "    </tr>\n",
       "  </thead>\n",
       "  <tbody>\n",
       "    <tr>\n",
       "      <td>count</td>\n",
       "      <td>15.000000</td>\n",
       "      <td>15.000000</td>\n",
       "      <td>15.000000</td>\n",
       "    </tr>\n",
       "    <tr>\n",
       "      <td>mean</td>\n",
       "      <td>18.966667</td>\n",
       "      <td>23.786667</td>\n",
       "      <td>27.626667</td>\n",
       "    </tr>\n",
       "    <tr>\n",
       "      <td>std</td>\n",
       "      <td>5.386049</td>\n",
       "      <td>6.709893</td>\n",
       "      <td>5.078451</td>\n",
       "    </tr>\n",
       "    <tr>\n",
       "      <td>min</td>\n",
       "      <td>9.300000</td>\n",
       "      <td>12.000000</td>\n",
       "      <td>16.500000</td>\n",
       "    </tr>\n",
       "    <tr>\n",
       "      <td>25%</td>\n",
       "      <td>16.450000</td>\n",
       "      <td>21.100000</td>\n",
       "      <td>24.850000</td>\n",
       "    </tr>\n",
       "    <tr>\n",
       "      <td>50%</td>\n",
       "      <td>19.700000</td>\n",
       "      <td>24.500000</td>\n",
       "      <td>28.400000</td>\n",
       "    </tr>\n",
       "    <tr>\n",
       "      <td>75%</td>\n",
       "      <td>22.350000</td>\n",
       "      <td>27.450000</td>\n",
       "      <td>31.450000</td>\n",
       "    </tr>\n",
       "    <tr>\n",
       "      <td>max</td>\n",
       "      <td>28.000000</td>\n",
       "      <td>35.200000</td>\n",
       "      <td>34.500000</td>\n",
       "    </tr>\n",
       "  </tbody>\n",
       "</table>\n",
       "</div>"
      ],
      "text/plain": [
       "               A          B          C\n",
       "count  15.000000  15.000000  15.000000\n",
       "mean   18.966667  23.786667  27.626667\n",
       "std     5.386049   6.709893   5.078451\n",
       "min     9.300000  12.000000  16.500000\n",
       "25%    16.450000  21.100000  24.850000\n",
       "50%    19.700000  24.500000  28.400000\n",
       "75%    22.350000  27.450000  31.450000\n",
       "max    28.000000  35.200000  34.500000"
      ]
     },
     "execution_count": 43,
     "metadata": {},
     "output_type": "execute_result"
    }
   ],
   "source": [
    "# Let's have a look at the different statistics:\n",
    "df.describe()"
   ]
  },
  {
   "cell_type": "markdown",
   "metadata": {},
   "source": [
    "As you can see, the three different types of resin have differing means. However, considering the standard deviations, there is some overlap. We want to establish whether these means are actually equal or not. And for that let us uses the ANOVA test to push further this study."
   ]
  },
  {
   "cell_type": "markdown",
   "metadata": {},
   "source": [
    "### Visualization of the means"
   ]
  },
  {
   "cell_type": "code",
   "execution_count": 44,
   "metadata": {},
   "outputs": [
    {
     "data": {
      "text/plain": [
       "<matplotlib.axes._subplots.AxesSubplot at 0x124a12d90>"
      ]
     },
     "execution_count": 44,
     "metadata": {},
     "output_type": "execute_result"
    },
    {
     "data": {
      "image/png": "[encoded data removed]",
      "text/plain": [
       "<Figure size 360x360 with 1 Axes>"
      ]
     },
     "metadata": {
      "needs_background": "light"
     },
     "output_type": "display_data"
    }
   ],
   "source": [
    "fig, ax = plt.subplots(figsize =(5,5))\n",
    "sns.boxplot(data=df.loc[:,['A','B','C']], orient = 'v')"
   ]
  },
  {
   "cell_type": "code",
   "execution_count": 45,
   "metadata": {},
   "outputs": [
    {
     "name": "stdout",
     "output_type": "stream",
     "text": [
      "5.38604899806192 6.709893193387408 5.0784512074712955\n"
     ]
    }
   ],
   "source": [
    "print(df['A'].std(), df['B'].std(), df['C'].std())"
   ]
  },
  {
   "cell_type": "markdown",
   "metadata": {},
   "source": [
    "The resin of type 'C' returns seem better than the other two returns as the mean of resin of type 'C' is greater. The standard deviation are similar so resins returns within each group are equally spread out."
   ]
  },
  {
   "cell_type": "markdown",
   "metadata": {},
   "source": [
    "## Formulation of Hypothesis \n",
    "\n",
    "We state the null and alternative hypotheses as follows:\n",
    "\n",
    "- $𝐻_0$:  the means of different types of resin are equal.\n",
    "\n",
    "- $𝐻_1$:  At least one mean of a type of resin is different the means of the others type of resin.\n",
    "\n",
    "We use a significance level of 0.05."
   ]
  },
  {
   "cell_type": "markdown",
   "metadata": {},
   "source": [
    "## Test"
   ]
  },
  {
   "cell_type": "code",
   "execution_count": 46,
   "metadata": {},
   "outputs": [
    {
     "data": {
      "text/plain": [
       "F_onewayResult(statistic=8.488055984887513, pvalue=0.0008017448866768368)"
      ]
     },
     "execution_count": 46,
     "metadata": {},
     "output_type": "execute_result"
    }
   ],
   "source": [
    "stats.f_oneway(df['A'], df['B'], df['C'])"
   ]
  },
  {
   "cell_type": "markdown",
   "metadata": {},
   "source": [
    "## Interpretation of the result\n",
    "We obtain a $p \\approx 0.0008$, which is less than the significance level $\\alpha = 0.05.$ A low p-value indicates rejection of the null hypothesis and then a support for the alternative hypothesis. This enable us to conclute that at least one of the type of resin is different from the other types. But we do not know how they behave between them. We do have to push the boundaries of the study to see more of the insight."
   ]
  },
  {
   "cell_type": "markdown",
   "metadata": {},
   "source": [
    "Further analysis such as pairwise comparison would also be required for verifying our hypothesis, because stand alone ANOVA cannot locate which specific types were statistically significantly different from each other."
   ]
  },
  {
   "cell_type": "markdown",
   "metadata": {},
   "source": [
    "### Formulation of Hypothesis for the pair of resin of type A and of type B\n",
    "Let's assume that $\\mu_0$ is the mean score of resin of type A, and that $\\mu_1$ is the mean score of resin of type B, the null hypothesis and the alternative hypothesis are stated as follow:\n",
    "\n",
    "- $H_0: \\mu_1=\\mu_0 $: there is no difference the mean score of resin of type A, and the mean score of resin of type B. \n",
    "\n",
    "- $H_1$: $\\mu_0 \\neq \\mu_1$, there is difference between the mean score of resin of type A, and the mean score of resin of type B. .\n",
    "\n",
    "We use a 5% significance level to test the null hypothesis.\n"
   ]
  },
  {
   "cell_type": "markdown",
   "metadata": {},
   "source": [
    "### Test"
   ]
  },
  {
   "cell_type": "code",
   "execution_count": 47,
   "metadata": {},
   "outputs": [
    {
     "name": "stdout",
     "output_type": "stream",
     "text": [
      "18.966666666666665 23.78666666666667\n"
     ]
    }
   ],
   "source": [
    "mu_0 =df['A'].mean()\n",
    "mu_1 =df['B'].mean()\n",
    "print(mu_0, mu_1)"
   ]
  },
  {
   "cell_type": "markdown",
   "metadata": {},
   "source": [
    "The means of the resin of type A and the resin of B are different. But the question is: Is that difference really significant? Let's answer that question below here. "
   ]
  },
  {
   "cell_type": "code",
   "execution_count": 48,
   "metadata": {},
   "outputs": [
    {
     "name": "stdout",
     "output_type": "stream",
     "text": [
      "-6.763130266250603 9.123645535628845e-06\n"
     ]
    }
   ],
   "source": [
    "r, p = stats.ttest_rel(df['A'], df['B'])\n",
    "print(r, p)"
   ]
  },
  {
   "cell_type": "code",
   "execution_count": 49,
   "metadata": {},
   "outputs": [
    {
     "data": {
      "text/plain": [
       "4.561822767814422e-06"
      ]
     },
     "execution_count": 49,
     "metadata": {},
     "output_type": "execute_result"
    }
   ],
   "source": [
    "p/2"
   ]
  },
  {
   "cell_type": "markdown",
   "metadata": {},
   "source": [
    "We obtain, $P\\approx 4.56*exp(-6)$, this is less than the level of significance $\\alpha = 0.025$. The low P-value indicates the rejection of the null hypothesis. This means the resin of type B is greater than the resin of type A.  "
   ]
  },
  {
   "cell_type": "markdown",
   "metadata": {},
   "source": [
    "### Formulation of Hypothesis for the pair of resin of type B and of type C\n",
    "Let's assume that $\\mu_1$ is the mean score of resin of type B, and that $\\mu_2$ is the mean score of resin of type C, the null hypothesis and the alternative hypothesis are stated as follow:\n",
    "\n",
    "- $H_0: \\mu_1=\\mu_2 $: there is no difference the mean score of resin of type B, and the mean score of resin of type C. \n",
    "\n",
    "- $H_1$: $\\mu_1 \\neq \\mu_2$, there is difference between the mean score of resin of type B, and the mean score of resin of type C. \n",
    "\n",
    "We use a 5% significance level to test the null hypothesis."
   ]
  },
  {
   "cell_type": "markdown",
   "metadata": {},
   "source": [
    "### Test"
   ]
  },
  {
   "cell_type": "code",
   "execution_count": 50,
   "metadata": {},
   "outputs": [
    {
     "name": "stdout",
     "output_type": "stream",
     "text": [
      "23.78666666666667 27.62666666666666\n"
     ]
    }
   ],
   "source": [
    "mu_1 =df['B'].mean()\n",
    "mu_2 =df['C'].mean()\n",
    "print(mu_1, mu_2)"
   ]
  },
  {
   "cell_type": "markdown",
   "metadata": {},
   "source": [
    "### Interpretation \n",
    "\n",
    "The means of the resin of type B and the resin of C are different. But the question is: Is that difference really significant? Let's answer that question below here."
   ]
  },
  {
   "cell_type": "code",
   "execution_count": 51,
   "metadata": {},
   "outputs": [
    {
     "name": "stdout",
     "output_type": "stream",
     "text": [
      "-2.1388794799264246 0.05055256974092309\n"
     ]
    }
   ],
   "source": [
    "r, p = stats.ttest_rel(df['B'],df['C'])\n",
    "print(r,p)"
   ]
  },
  {
   "cell_type": "code",
   "execution_count": 52,
   "metadata": {},
   "outputs": [
    {
     "data": {
      "text/plain": [
       "0.025276284870461546"
      ]
     },
     "execution_count": 52,
     "metadata": {},
     "output_type": "execute_result"
    }
   ],
   "source": [
    "p/2"
   ]
  },
  {
   "cell_type": "markdown",
   "metadata": {},
   "source": [
    "### Interpretation\n",
    "We obtain, $P\\approx 0.0253$, this is greater than the level of significance $\\alpha = 0.025$. The high P-value indicates support of the null hypothesis. This means the resin of type B is equal to the resin of type C.  "
   ]
  },
  {
   "cell_type": "markdown",
   "metadata": {},
   "source": [
    "## Conclusion\n",
    "The mean of the resin of type B is greater than the mean of the resin of type A whereas the mean of resin of type B is equal to the mean of the resin of type C. "
   ]
  }
 ],
 "metadata": {
  "kernelspec": {
   "display_name": "Python 3",
   "language": "python",
   "name": "python3"
  },
  "language_info": {
   "codemirror_mode": {
    "name": "ipython",
    "version": 3
   },
   "file_extension": ".py",
   "mimetype": "text/x-python",
   "name": "python",
   "nbconvert_exporter": "python",
   "pygments_lexer": "ipython3",
   "version": "3.7.4"
  }
 },
 "nbformat": 4,
 "nbformat_minor": 2
}
