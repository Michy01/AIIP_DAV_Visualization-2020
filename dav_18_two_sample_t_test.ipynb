{
 "cells": [
  {
   "cell_type": "markdown",
   "metadata": {},
   "source": [
    "# <font color='maroon'>Comparing two samples</font>"
   ]
  },
  {
   "cell_type": "markdown",
   "metadata": {},
   "source": [
    "## Michael NANA KAMENI"
   ]
  },
  {
   "cell_type": "markdown",
   "metadata": {},
   "source": [
    "Given two sample data sets, what are the differences between the two data sets? In this lesson we get to quantify some of the observations we made earlier on with the `smoking and pregnancy dataset`. We ask the question: what is the difference in the birth weights of babies born to women who smoked and those who didn't smoke during pregnancy? We formulate this question statistically by setting up a hypothesis about the two groups and testing it."
   ]
  },
  {
   "cell_type": "markdown",
   "metadata": {},
   "source": [
    "We may want to test if there is a significant difference between the means of two groups. For this we use a two-sample t-test. The data has to contain an independent, categorical variable that distinguishes the two groups, and a continuous dependent variable we wish to study. Division of the groups by babies' sex for instance makes sure the **two groups are independent**. This ensures that one person cannot be a member of two groups.\n",
    "\n",
    "The test also requires that the **dependent variable be normally distributed within the two groups**. And the **variances be equal**. In order establish normality, we will use a graphical approach. To test for equal variance we use the Levene's Test of Equality of Variances.\n",
    "\n",
    "So if we wish to compare how different the means of the two groups, we can apply a t-test: say group 1 with mean denoted $\\mu_1$, and group 2 which has mean $\\mu_2$. The null and alternative hypotheses are as follows:\n",
    "\n",
    "$H_0: \\mu_1 = \\mu_2$, i.e., there is no difference between the means of the two groups.\n",
    "\n",
    "$H_1: \\mu_1 \\neq \\mu_2$, i.e., there is a difference between the means of the two groups. Because we are indifferent to whether the mean of group is greater or lesser than the mean of the other group, a tail-tailed significance test is applicable here.  \n",
    "\n",
    "A significance level of $\\alpha = 0.05$ is often used in practice and this is what we will apply for our test.\n",
    "\n",
    "\n"
   ]
  },
  {
   "cell_type": "markdown",
   "metadata": {},
   "source": [
    "## Two-Sample T-test\n",
    "\n",
    "Using the data set on smoking and pregnancy, let's see how two-sample t-tests can be applied with Python."
   ]
  },
  {
   "cell_type": "code",
   "execution_count": 1,
   "metadata": {},
   "outputs": [],
   "source": [
    "import pandas as pd\n",
    "import seaborn as sns\n",
    "import matplotlib.pyplot as plt\n",
    "import scipy.stats as stats\n",
    "import statsmodels.api as sm"
   ]
  },
  {
   "cell_type": "code",
   "execution_count": 2,
   "metadata": {},
   "outputs": [],
   "source": [
    "%matplotlib inline"
   ]
  },
  {
   "cell_type": "code",
   "execution_count": 3,
   "metadata": {},
   "outputs": [],
   "source": [
    "df = pd.read_csv('smoking-and-pregnancy.csv', sep=';')"
   ]
  },
  {
   "cell_type": "code",
   "execution_count": 4,
   "metadata": {},
   "outputs": [
    {
     "data": {
      "text/plain": [
       "(128, 6)"
      ]
     },
     "execution_count": 4,
     "metadata": {},
     "output_type": "execute_result"
    }
   ],
   "source": [
    "df.shape"
   ]
  },
  {
   "cell_type": "code",
   "execution_count": 5,
   "metadata": {},
   "outputs": [
    {
     "data": {
      "text/html": [
       "<div>\n",
       "<style scoped>\n",
       "    .dataframe tbody tr th:only-of-type {\n",
       "        vertical-align: middle;\n",
       "    }\n",
       "\n",
       "    .dataframe tbody tr th {\n",
       "        vertical-align: top;\n",
       "    }\n",
       "\n",
       "    .dataframe thead th {\n",
       "        text-align: right;\n",
       "    }\n",
       "</style>\n",
       "<table border=\"1\" class=\"dataframe\">\n",
       "  <thead>\n",
       "    <tr style=\"text-align: right;\">\n",
       "      <th></th>\n",
       "      <th>GestationalAge</th>\n",
       "      <th>Sex</th>\n",
       "      <th>Birthweight</th>\n",
       "      <th>Birthlength</th>\n",
       "      <th>Smoking</th>\n",
       "      <th>CigarettesPerDay</th>\n",
       "    </tr>\n",
       "  </thead>\n",
       "  <tbody>\n",
       "    <tr>\n",
       "      <td>123</td>\n",
       "      <td>262</td>\n",
       "      <td>girl</td>\n",
       "      <td>3.20</td>\n",
       "      <td>50.0</td>\n",
       "      <td>N</td>\n",
       "      <td>NaN</td>\n",
       "    </tr>\n",
       "    <tr>\n",
       "      <td>124</td>\n",
       "      <td>279</td>\n",
       "      <td>girl</td>\n",
       "      <td>3.52</td>\n",
       "      <td>53.0</td>\n",
       "      <td>N</td>\n",
       "      <td>NaN</td>\n",
       "    </tr>\n",
       "    <tr>\n",
       "      <td>125</td>\n",
       "      <td>273</td>\n",
       "      <td>girl</td>\n",
       "      <td>3.40</td>\n",
       "      <td>51.0</td>\n",
       "      <td>Y</td>\n",
       "      <td>NaN</td>\n",
       "    </tr>\n",
       "    <tr>\n",
       "      <td>126</td>\n",
       "      <td>274</td>\n",
       "      <td>girl</td>\n",
       "      <td>3.74</td>\n",
       "      <td>52.0</td>\n",
       "      <td>Y</td>\n",
       "      <td>15.0</td>\n",
       "    </tr>\n",
       "    <tr>\n",
       "      <td>127</td>\n",
       "      <td>274</td>\n",
       "      <td>boy</td>\n",
       "      <td>4.08</td>\n",
       "      <td>55.0</td>\n",
       "      <td>N</td>\n",
       "      <td>NaN</td>\n",
       "    </tr>\n",
       "  </tbody>\n",
       "</table>\n",
       "</div>"
      ],
      "text/plain": [
       "     GestationalAge   Sex  Birthweight  Birthlength Smoking  CigarettesPerDay\n",
       "123             262  girl         3.20         50.0       N               NaN\n",
       "124             279  girl         3.52         53.0       N               NaN\n",
       "125             273  girl         3.40         51.0       Y               NaN\n",
       "126             274  girl         3.74         52.0       Y              15.0\n",
       "127             274   boy         4.08         55.0       N               NaN"
      ]
     },
     "execution_count": 5,
     "metadata": {},
     "output_type": "execute_result"
    }
   ],
   "source": [
    "df.tail()"
   ]
  },
  {
   "cell_type": "markdown",
   "metadata": {},
   "source": [
    "The means of the two groups can be found as follows:"
   ]
  },
  {
   "cell_type": "code",
   "execution_count": 6,
   "metadata": {},
   "outputs": [
    {
     "name": "stdout",
     "output_type": "stream",
     "text": [
      "N 3.5937234042553188\n",
      "Y 3.385294117647059\n"
     ]
    }
   ],
   "source": [
    "data = df.groupby('Smoking')\n",
    "for smoking, value in data['Birthweight']:\n",
    "    print (smoking, value.mean())"
   ]
  },
  {
   "cell_type": "markdown",
   "metadata": {},
   "source": [
    "The average birth weight in kilograms is 3.593 kg for non-smokers and 3.385 kg for smokers. **We wish to answer whether smoking negatively affects the growth of a baby**."
   ]
  },
  {
   "cell_type": "markdown",
   "metadata": {},
   "source": [
    "## Visualization"
   ]
  },
  {
   "cell_type": "markdown",
   "metadata": {},
   "source": [
    "We see the two groups clearly with a stripplot in `seaborn`.  "
   ]
  },
  {
   "cell_type": "code",
   "execution_count": 7,
   "metadata": {},
   "outputs": [
    {
     "data": {
      "text/plain": [
       "<matplotlib.axes._subplots.AxesSubplot at 0x11e8bb190>"
      ]
     },
     "execution_count": 7,
     "metadata": {},
     "output_type": "execute_result"
    },
    {
     "data": {
      "image/png": "[encoded data removed]",
      "text/plain": [
       "<Figure size 432x288 with 1 Axes>"
      ]
     },
     "metadata": {
      "needs_background": "light"
     },
     "output_type": "display_data"
    }
   ],
   "source": [
    "sns.stripplot(x='Smoking', \n",
    "              y='Birthweight', # vertical column\n",
    "              data=df,       # pandas dataframe\n",
    "              jitter=True)     # add random jitter to separate the dots"
   ]
  },
  {
   "cell_type": "markdown",
   "metadata": {},
   "source": [
    "### Checking for normality"
   ]
  },
  {
   "cell_type": "markdown",
   "metadata": {},
   "source": [
    "Are the data normally distributed within the two groups? For this we use a quantile-quantile plot which helps us to see if the two data sets have the same distribution. We also use the quantile plots because we want to check for normality of the data which is one of the conditions for applying a two-sample t-test. For this we use the `statsmodels.api` functionality."
   ]
  },
  {
   "cell_type": "code",
   "execution_count": 8,
   "metadata": {},
   "outputs": [],
   "source": [
    "smokers = df[df['Smoking']=='Y']['Birthweight'] #create a subset of the dataframe containing smoking moms' babies birthweight\n",
    "nonsmok = df[df['Smoking']=='N']['Birthweight'] #create a subset of the dataframe containing non-smoking moms' babies birthweight"
   ]
  },
  {
   "cell_type": "code",
   "execution_count": 9,
   "metadata": {},
   "outputs": [
    {
     "data": {
      "image/png": "[encoded data removed]",
      "text/plain": [
       "<Figure size 720x360 with 2 Axes>"
      ]
     },
     "metadata": {
      "needs_background": "light"
     },
     "output_type": "display_data"
    }
   ],
   "source": [
    "# create figure instance, and the two subplots\n",
    "fig, (ax1, ax2) = plt.subplots(ncols=2, figsize=(10,5))\n",
    "ax_s = sm.qqplot(smokers, \n",
    "                 ax=ax1,   # put in first subplot section\n",
    "                 line='r') # include regression line\n",
    "ax_n = sm.qqplot(nonsmok, \n",
    "                 ax=ax2,\n",
    "                 line='r')"
   ]
  },
  {
   "cell_type": "markdown",
   "metadata": {},
   "source": [
    "Sample quantiles are plotted against theoretical quantiles, in this case, normal theoretical quantiles. Linearity of the data points suggests that the data are normally distributed. We see outliers at the lower end of the plots. This suggests the data is skewed to the left and appears to be more prominent in the Smokers plot on the left. Let's plot histograms to see if this is the case."
   ]
  },
  {
   "cell_type": "code",
   "execution_count": 10,
   "metadata": {},
   "outputs": [
    {
     "data": {
      "text/plain": [
       "<matplotlib.axes._subplots.AxesSubplot at 0x12021e490>"
      ]
     },
     "execution_count": 10,
     "metadata": {},
     "output_type": "execute_result"
    },
    {
     "data": {
      "image/png": "[encoded data removed]",
      "text/plain": [
       "<Figure size 720x360 with 2 Axes>"
      ]
     },
     "metadata": {
      "needs_background": "light"
     },
     "output_type": "display_data"
    }
   ],
   "source": [
    "# create figure instance, and the two subplots\n",
    "fig, (ax1, ax2) = plt.subplots(ncols=2, figsize=(10,5))\n",
    "sns.distplot(smokers, ax=ax1) # plot on ax1\n",
    "sns.distplot(nonsmok, ax=ax2) # plot on ax2"
   ]
  },
  {
   "cell_type": "markdown",
   "metadata": {},
   "source": [
    "As expected, both groups have outliers and are skewed to the left with the effect being slightly more prominent among babies of smoking mothers."
   ]
  },
  {
   "cell_type": "markdown",
   "metadata": {},
   "source": [
    "### Check for equal variance"
   ]
  },
  {
   "cell_type": "markdown",
   "metadata": {},
   "source": [
    "Are the variances equal for these two groups? We use Levene's Test of Equality of Variances. We test the null hypothesis that all input samples are from populations with equal variances. The test returns a statistic and p-value."
   ]
  },
  {
   "cell_type": "code",
   "execution_count": 11,
   "metadata": {},
   "outputs": [
    {
     "data": {
      "text/plain": [
       "LeveneResult(statistic=0.3011748312225438, pvalue=0.5841180082900308)"
      ]
     },
     "execution_count": 11,
     "metadata": {},
     "output_type": "execute_result"
    }
   ],
   "source": [
    "stats.levene(smokers, nonsmok)"
   ]
  },
  {
   "cell_type": "markdown",
   "metadata": {},
   "source": [
    "Suffice for now, the p-value is greater than 0.05. We accept the null hypothesis that the two samples variances are equal. "
   ]
  },
  {
   "cell_type": "markdown",
   "metadata": {
    "collapsed": true
   },
   "source": [
    "## Formulating the hypothesis"
   ]
  },
  {
   "cell_type": "markdown",
   "metadata": {},
   "source": [
    "We wish to answer the question whether smoking negatively affects the weight of a baby. Our data consists of two groups -- smoking mothers and nonsmoking mothers. Statistically, we want to understand if the mean weight of babies whose mothers are smokers is less than the mean weight of babies whose mothers are nonsmokers. Our null hypothesis will be that smoking does not affect a baby's weight. The alternative hypothesis is that smoking negatively affects the weight of a baby. That is,\n",
    "\n",
    "$H_0: \\mu_0 = \\mu_1$, or equivalently, $\\mu_0 - \\mu_1  = 0$.\n",
    "\n",
    "$H_1: \\mu_0 < \\mu_1$, or equivalently, $\\mu_0 - \\mu_1 < 0$.\n",
    "\n",
    "Note that this is a one-sided hypothesis test. We consider only one tail end of the standard normal distribution. \n",
    "\n",
    "We will perform the test at a 5% signficance level, the cutt-off point were if the test statistic computed has a probability $P$ and \n",
    "\n",
    "$P > 0.05$, we accept the null hypothesis; otherwise, with\n",
    "\n",
    "$P < 0.05$, we reject the null hypothesis.\n"
   ]
  },
  {
   "cell_type": "markdown",
   "metadata": {},
   "source": [
    "## The T-test"
   ]
  },
  {
   "cell_type": "markdown",
   "metadata": {},
   "source": [
    "So now we test our hypothesis. We use the `scipy.stats.ttest_ind()` function that is an independent test for two-sided test. The test assumes the samples have equal variances. If we had seen unequal variances in our check earlier, we would have set variance as unequal with the `equal_var` option."
   ]
  },
  {
   "cell_type": "code",
   "execution_count": 12,
   "metadata": {},
   "outputs": [],
   "source": [
    "t,p = stats.ttest_ind(nonsmok,smokers) # test returns the t-statistic and p-value for the ttest\n"
   ]
  },
  {
   "cell_type": "markdown",
   "metadata": {},
   "source": [
    "Caution must be taken here when reading these results. We stated that we wanted to see if smoking negatively affects birth weight. Therefore the test lends itself to a one-tailed test. The result we obtained is for a two-tailed hypothesis test. Because of the symmetry in the t-test, we divide the p-value in half. "
   ]
  },
  {
   "cell_type": "code",
   "execution_count": 13,
   "metadata": {},
   "outputs": [
    {
     "data": {
      "text/plain": [
       "0.04517075850681072"
      ]
     },
     "execution_count": 13,
     "metadata": {},
     "output_type": "execute_result"
    }
   ],
   "source": [
    "p/2.0"
   ]
  },
  {
   "cell_type": "markdown",
   "metadata": {},
   "source": [
    "### Interpreting the results"
   ]
  },
  {
   "cell_type": "markdown",
   "metadata": {},
   "source": [
    "When reporting and interpreting the results of the t-test, say what kind of test for normality of the dependent variable and test for homogeneity of variance were conducted. Then report on the results that include the t-statistic value, and the significance value of the test, i.e., the p-value.\n",
    "\n",
    "Normal QQ plots showed that the weight of babies is approximately normally distributed for both groups. The Levene's test for equality of variance indicated there was homogeneity of variance. An independent t-test was run on the data. A 95% conficence interval was used for the mean difference. The evidence indicates that difference in means is negative. "
   ]
  },
  {
   "cell_type": "markdown",
   "metadata": {},
   "source": [
    "### Exercise"
   ]
  },
  {
   "cell_type": "markdown",
   "metadata": {},
   "source": [
    "Restate the alternative hypothesis in order to be able to conduct a two-sided hypothesis test. What conclusions can you draw? "
   ]
  },
  {
   "cell_type": "markdown",
   "metadata": {
    "collapsed": true
   },
   "source": [
    "- There is a significant difference between the means weight of babies whose mothers are smoker and the means weight of babies whose mothers are not smoker.\n",
    "- The mean weight of babies whose mothers are non-smoker is greater than the mean weight of babies whose mothers are smoker.\n",
    "\n",
    "As conclusion, Mother smokers influences negatively the weight of their babies during pregnancy.  "
   ]
  },
  {
   "cell_type": "markdown",
   "metadata": {},
   "source": [
    "Is the height of a baby affected by smoking? State the null and alternative hypothesis and conduct a some tests. What conclusions do you draw?"
   ]
  },
  {
   "cell_type": "markdown",
   "metadata": {
    "collapsed": true
   },
   "source": [
    "Let's assume that $\\mu_1$ is the mean lenght of babies whose mothers are non-smoker and that $\\mu_2$ is the mean lenght of babies whose mothers are smoker.  \n",
    "So, since we wish to compare how different the mean lenght of babies whose mothers are non-smoker with the mean lenght of babies whose mothers are smoker, let us define null and alternative hypotheses are as follows:\n",
    "\n",
    "- $𝐻_0: \\mu_1 = \\mu_2$, i.e., there is no difference between the mean lenght of babies whose mothers are non-smoker and the mean lenght of babies whose mothers are smoker.\n",
    "\n",
    "- $ 𝐻_1: \\mu_1 \\neq \\mu_2$ , i.e., there is a difference between the mean lenght of babies whose mothers are non-smoker and the mean lenght of babies whose mothers are smoker."
   ]
  },
  {
   "cell_type": "code",
   "execution_count": 14,
   "metadata": {},
   "outputs": [
    {
     "data": {
      "text/plain": [
       "2"
      ]
     },
     "execution_count": 14,
     "metadata": {},
     "output_type": "execute_result"
    }
   ],
   "source": [
    "df['Birthlength'].isnull().sum()"
   ]
  },
  {
   "cell_type": "code",
   "execution_count": 15,
   "metadata": {},
   "outputs": [],
   "source": [
    "df['Birthlength'].fillna(df['Birthlength'].mean(), inplace=True)"
   ]
  },
  {
   "cell_type": "code",
   "execution_count": 16,
   "metadata": {},
   "outputs": [
    {
     "data": {
      "text/plain": [
       "0"
      ]
     },
     "execution_count": 16,
     "metadata": {},
     "output_type": "execute_result"
    }
   ],
   "source": [
    "df['Birthlength'].isnull().sum()"
   ]
  },
  {
   "cell_type": "code",
   "execution_count": 17,
   "metadata": {},
   "outputs": [
    {
     "name": "stdout",
     "output_type": "stream",
     "text": [
      "N 52.1968085106383\n",
      "Y 51.739729225023346\n"
     ]
    }
   ],
   "source": [
    "data = df.groupby('Smoking')\n",
    "for smoker, value in data['Birthlength']:\n",
    "    print(smoker, value.mean())"
   ]
  },
  {
   "cell_type": "markdown",
   "metadata": {},
   "source": [
    "The average birth lenght in centimetre is 52.197 cm for babies whose mothers are non-smokers and 51.74 cm for babies whose mothers are smokers. <b>We wish to answer whether smoking negatively affects the length growth of a baby.</b>\n",
    "\n",
    "\n",
    "# Visualization\n",
    "\n",
    "We see the two groups clearly with a stripplot in seaborn."
   ]
  },
  {
   "cell_type": "code",
   "execution_count": 18,
   "metadata": {},
   "outputs": [
    {
     "data": {
      "text/plain": [
       "<matplotlib.axes._subplots.AxesSubplot at 0x1203c79d0>"
      ]
     },
     "execution_count": 18,
     "metadata": {},
     "output_type": "execute_result"
    },
    {
     "data": {
      "image/png": "[encoded data removed]",
      "text/plain": [
       "<Figure size 432x288 with 1 Axes>"
      ]
     },
     "metadata": {
      "needs_background": "light"
     },
     "output_type": "display_data"
    }
   ],
   "source": [
    "sns.stripplot(x ='Smoking',       # Horizontal axis\n",
    "              y ='Birthlength',   # Vertical axis\n",
    "              data = df,          # Pandas Dataframe\n",
    "              jitter = True)      # add random jitter to separate the dots"
   ]
  },
  {
   "cell_type": "markdown",
   "metadata": {},
   "source": [
    "# To check if data is normaly distributed within subgroup."
   ]
  },
  {
   "cell_type": "code",
   "execution_count": 19,
   "metadata": {},
   "outputs": [],
   "source": [
    "nonsmoker = df[df['Smoking']=='N']['Birthlength'] # create a subset of the dataframe containing non-smoking moms' babies birthlength.\n",
    "smoker = df[df['Smoking']=='Y']['Birthlength'] # create a subset of the dataframe containing smoking moms' babies birthlength."
   ]
  },
  {
   "cell_type": "code",
   "execution_count": 20,
   "metadata": {},
   "outputs": [
    {
     "data": {
      "image/png": "[encoded data removed]",
      "text/plain": [
       "<Figure size 720x360 with 2 Axes>"
      ]
     },
     "metadata": {
      "needs_background": "light"
     },
     "output_type": "display_data"
    }
   ],
   "source": [
    "# create figure instance, and the two subplots\n",
    "fig, (ax1, ax2)= plt.subplots(ncols= 2, figsize=(10,5))\n",
    "ax_s = sm.qqplot(smoker, \n",
    "                 ax=ax1,   # put in first subplot section\n",
    "                 line='r') # include regression line\n",
    "ax_n = sm.qqplot(nonsmoker,\n",
    "                 ax = ax2,\n",
    "                 line ='r')"
   ]
  },
  {
   "cell_type": "markdown",
   "metadata": {},
   "source": [
    "Sample quantiles are plotted against theoretical quantiles, in this case, normal theoretical quantiles. Linearity of the data points suggests that the data are normally distributed. We see outliers at the lower end of the plot for non-smoker mothers. This suggests the data is skewed to the left and appears to be more prominent in the plot on the left. Let's plot histograms to see for a deep analysis of this case."
   ]
  },
  {
   "cell_type": "code",
   "execution_count": 21,
   "metadata": {},
   "outputs": [
    {
     "data": {
      "text/plain": [
       "<matplotlib.axes._subplots.AxesSubplot at 0x120705b10>"
      ]
     },
     "execution_count": 21,
     "metadata": {},
     "output_type": "execute_result"
    },
    {
     "data": {
      "image/png": "[encoded data removed]",
      "text/plain": [
       "<Figure size 720x360 with 2 Axes>"
      ]
     },
     "metadata": {
      "needs_background": "light"
     },
     "output_type": "display_data"
    }
   ],
   "source": [
    "# create figure instance, and the two subplots\n",
    "fig, (ax1, ax2)= plt.subplots(ncols= 2, figsize=(10,5))\n",
    "sns.distplot(smoker, ax=ax1) # plot on ax1\n",
    "sns.distplot(nonsmoker, ax=ax2) # plot on ax2"
   ]
  },
  {
   "cell_type": "markdown",
   "metadata": {},
   "source": [
    "The graph show two outlier for the non-smoker mothers. To confirm let's plot box-and-whisker plot."
   ]
  },
  {
   "cell_type": "code",
   "execution_count": 22,
   "metadata": {},
   "outputs": [
    {
     "data": {
      "text/plain": [
       "<matplotlib.axes._subplots.AxesSubplot at 0x1208cb2d0>"
      ]
     },
     "execution_count": 22,
     "metadata": {},
     "output_type": "execute_result"
    },
    {
     "data": {
      "image/png": "[encoded data removed]",
      "text/plain": [
       "<Figure size 720x360 with 2 Axes>"
      ]
     },
     "metadata": {
      "needs_background": "light"
     },
     "output_type": "display_data"
    }
   ],
   "source": [
    "fig, (ax1, ax2)= plt.subplots(ncols= 2, figsize=(10,5))\n",
    "sns.boxplot(smoker, ax=ax1) # plot on ax1\n",
    "sns.boxplot(nonsmoker, ax=ax2) # plot on ax2"
   ]
  },
  {
   "cell_type": "markdown",
   "metadata": {},
   "source": [
    "And the box-and-whisker plot confirms that there are two outlier in the subgroup of Birthlength of babies from non-smoker mothers."
   ]
  },
  {
   "cell_type": "code",
   "execution_count": 23,
   "metadata": {},
   "outputs": [],
   "source": [
    "#nonsmoker.head()\n",
    "#Remove the outliers from the height column\n",
    "#q_low =nonsmoker['Birthlength'].quantile(0.03)\n",
    "#q_hi  =nonsmoker['Birthlength'].quantile(0.99)\n",
    "#athletes_filtered = nonsmoker[(pd.nonsmoker['Birthlength'] < q_hi) & (nonsmoker['Birthlength'] > q_low)]"
   ]
  },
  {
   "cell_type": "markdown",
   "metadata": {},
   "source": [
    "## Check for equal variance"
   ]
  },
  {
   "cell_type": "markdown",
   "metadata": {},
   "source": [
    "We use Levene's Test of Equality of Variances. We test the null hypothesis that all input samples are from populations with equal variances. The test returns a statistic and p-value."
   ]
  },
  {
   "cell_type": "code",
   "execution_count": 24,
   "metadata": {},
   "outputs": [
    {
     "data": {
      "text/plain": [
       "LeveneResult(statistic=1.5115614988730244, pvalue=0.2211918759444389)"
      ]
     },
     "execution_count": 24,
     "metadata": {},
     "output_type": "execute_result"
    }
   ],
   "source": [
    "stats.levene(smoker, nonsmoker)"
   ]
  },
  {
   "cell_type": "markdown",
   "metadata": {},
   "source": [
    "Since p-value = 0.22 and greater than 0.05, we conclude that there is no difference between the variances in the population. Since, the null hypothesis of equal variances is accepted."
   ]
  },
  {
   "cell_type": "markdown",
   "metadata": {},
   "source": [
    "# The T-test\n",
    "\n",
    "So now we test our hypothesis. We use the scipy.stats.ttest_ind() function that is an independent test for two-sided test. The test assumes the samples have equal variances. If we had seen unequal variances in our check earlier, we would have set variance as unequal with the equal_var option."
   ]
  },
  {
   "cell_type": "code",
   "execution_count": 25,
   "metadata": {},
   "outputs": [
    {
     "data": {
      "text/plain": [
       "0.17893183889211778"
      ]
     },
     "execution_count": 25,
     "metadata": {},
     "output_type": "execute_result"
    }
   ],
   "source": [
    "t,p = stats.ttest_ind(smoker, nonsmoker)   # test returns the t-statistic and p-value for the ttest\n",
    "p/2.0"
   ]
  },
  {
   "cell_type": "markdown",
   "metadata": {},
   "source": [
    "# Interpreting the results\n",
    "\n",
    "Normal QQ plots showed that the length of babies is approximately normally distributed for both groups. The Levene's test for equality of variance indicated there was homogeneity of variance. An independent t-test was run on the data. A 95% conficence interval was used for the mean difference. The evidence indicates that difference in means is negative."
   ]
  },
  {
   "cell_type": "markdown",
   "metadata": {},
   "source": [
    "### Bonus Exercise"
   ]
  },
  {
   "cell_type": "markdown",
   "metadata": {},
   "source": [
    "Write a Python function to verify the above results. Use formulas given on this link to create a function for a two-sample t-test where samples are independent and have unequal variance. Discuss your results.\n",
    "<a href=\"https://en.wikipedia.org/wiki/Student%27s_t-test\">Wikipedia, Student's t-test</a>"
   ]
  },
  {
   "cell_type": "code",
   "execution_count": 26,
   "metadata": {},
   "outputs": [],
   "source": [
    "# your answers"
   ]
  }
 ],
 "metadata": {
  "kernelspec": {
   "display_name": "Python 3",
   "language": "python",
   "name": "python3"
  },
  "language_info": {
   "codemirror_mode": {
    "name": "ipython",
    "version": 3
   },
   "file_extension": ".py",
   "mimetype": "text/x-python",
   "name": "python",
   "nbconvert_exporter": "python",
   "pygments_lexer": "ipython3",
   "version": "3.7.4"
  }
 },
 "nbformat": 4,
 "nbformat_minor": 2
}
