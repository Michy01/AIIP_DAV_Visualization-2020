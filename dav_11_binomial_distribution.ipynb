{
 "cells": [
  {
   "cell_type": "markdown",
   "metadata": {},
   "source": [
    "# <font color='maroon'>Binomial distribution</font>"
   ]
  },
  {
   "cell_type": "markdown",
   "metadata": {},
   "source": [
    "### Background\n",
    "\n",
    "In the Prerequisites, we went through some examples of where binomial distributions are used frequently. These are typically cases where a success or failure is possible such as in:\n",
    "\n",
    "* Risk estimation\n",
    "* Process capability\n",
    "* Sample size estimation\n",
    "* Statistics tests\n",
    "* Acceptance sampling\n",
    "* Reliability analysis e.g. time to failure of a device\n",
    "* Survey sampling\n",
    "\n",
    "In this notebook, we will go back to a simplified example to get to the root of the concepts under Binomial Distribution so you can concentrate on the application using Python and Python libraries. We expect that you will then be able to apply the concepts and skills covered here in your work -- maybe even in some of the use cases listed above."
   ]
  },
  {
   "cell_type": "markdown",
   "metadata": {},
   "source": [
    "### The bad apple"
   ]
  },
  {
   "cell_type": "markdown",
   "metadata": {},
   "source": [
    "Let's visit the local grocer in order to buy three apples. Chances are <b>10%</b> of the apples on display have gone bad. We examine each apple you pick up. There are two possible independent outcomes. We pick up either a bad apple or a good apple.<i><b> We're looking for bad apples, so we let bad apple equal the successful outcome and good apple equal failed outcome</b></i>. We choose to select three apples at random. We can list all possible outcomes of this procedure using a probability tree, and then answers questions like, what is the probability that exactly two apples selected at random are bad? \n",
    "\n",
    "<img src=\"images/apple.png\"/>\n",
    "\n",
    "Let's start at the root of the tree, which is on the left. The first two branches that emerge from the root indicate the outcomes of choosing the first apple. The top branch indicates the probability of choosing a bad apple, $p = 0.1$. The bottom branch shows the probability of choosing a good apple, $p=0.9$. After choosing the first apple, we move on to select the second apple. The second time around, we can select either a bad apple with probability $0.1$ or good apple with probability  $0.9$. We then move to select the third and final apple. The tree diagram shows all the possible outcomes after choosing three apples. Each branch in the tree is labelled with the probability of the outcome. We can determine the probability of choosing two bad apples by following the path from the root of the tree that includes the branches with the probabilities that indicate the chance of choosing a bad apple.\n",
    "\n",
    "<img src=\"images/apples.png\"/>\n",
    "\n",
    "The probability of picking exactly two bad apples out of the three trials we've set ourselves is indicated by the branches marked in blue, red and green. We multiply probabilities along the same color branches and add probabilities between different color branches.\n",
    "\n",
    "Probability trees are a neat way to illustrate all possible outcomes and their probabilities. But the tree can get really large as outcomes increase. Each branch shows the probability of success or failure. The depth of the tree indicates how many times an apple is selected. This number is called the trial in any experiment.  \n",
    "\n",
    "As more and more apples are chosen, probability trees become impractical and the use of tools like Python become crucial in determining probability. In the steps below, we will walk-through simple to more complex computations of probability to understand how Python (libraries) ease this process for us.\n",
    "\n",
    "We will start by calculating the probability of picking exactly two bad apples. But first, the usual: loading of the necessary libraries."
   ]
  },
  {
   "cell_type": "code",
   "execution_count": 1,
   "metadata": {},
   "outputs": [],
   "source": [
    "import matplotlib.pyplot as plt\n",
    "import numpy as np\n",
    "import scipy.stats as stats\n",
    "import random"
   ]
  },
  {
   "cell_type": "code",
   "execution_count": 2,
   "metadata": {},
   "outputs": [],
   "source": [
    "%matplotlib inline"
   ]
  },
  {
   "cell_type": "markdown",
   "metadata": {},
   "source": [
    "There is a formula that allows you to calculate this probability directly. It is given as follows:\n",
    "\\begin{align}\n",
    "p(x) &= \\binom{n}{x}p^x(1-p) \\text{ for }x= 0,1,2,3,\\ldots\\\\\n",
    "   ~ &= 0 \\text{ otherwise}\n",
    "\\end{align}\n",
    "where $n=3$ the number of trials, $x=2$ the event of choosing exactly two bad apples, $p$ the probability of success. The probability of choosing a bad apple (success) is $p=0.1$, and the probability of choosing a good apple (failure) is  $(1-p)=0.9$.\n"
   ]
  },
  {
   "cell_type": "markdown",
   "metadata": {},
   "source": [
    "Scipy and Numpy both provide functions for the binomial distribution. Let's use the <b> scipy</b> function. For more information on how to use the Numpy `numpy.random.binomial` function, see the documentation [here](https://docs.scipy.org/doc/numpy-1.13.0/reference/generated/numpy.random.binomial.html)."
   ]
  },
  {
   "cell_type": "code",
   "execution_count": 3,
   "metadata": {},
   "outputs": [
    {
     "data": {
      "text/plain": [
       "0.027000000000000007"
      ]
     },
     "execution_count": 3,
     "metadata": {},
     "output_type": "execute_result"
    }
   ],
   "source": [
    "stats.binom.pmf(2,3,0.1) #calculate probability of 2 bad apples out of 3"
   ]
  },
  {
   "cell_type": "code",
   "execution_count": 4,
   "metadata": {},
   "outputs": [],
   "source": [
    "# Let us compute the same thing with numpy:\n",
    "#np.random.binomial(2, 0.1, 3)"
   ]
  },
  {
   "cell_type": "markdown",
   "metadata": {},
   "source": [
    "Here's what the arguments in the binom.pmf function mean:\n",
    "\n",
    "    2 is the number of successful trials\n",
    "    3 is the number of trials conducted in the experiment\n",
    "    0.1 is the probability of success"
   ]
  },
  {
   "cell_type": "markdown",
   "metadata": {},
   "source": [
    "#### Combinations\n",
    "\n",
    "Let's go back to the binomial formula. The term $\\binom{n}{x}$ returns the number of ways to choose $x$ items out of a set with $n$ elements without concern for the order in which you choose the items. With our example, how many ways are there to choose 2 bad apples out of 3? Let's use a function from the Combinations package to show us how many ways we can choose 2 items from a set of 3.  "
   ]
  },
  {
   "cell_type": "code",
   "execution_count": 5,
   "metadata": {},
   "outputs": [
    {
     "name": "stdout",
     "output_type": "stream",
     "text": [
      "(1, 2)\n",
      "(1, 3)\n",
      "(2, 3)\n"
     ]
    }
   ],
   "source": [
    "from itertools import combinations\n",
    "comb = combinations([1, 2, 3], 2)\n",
    "for i in list(comb):\n",
    "    print(i)"
   ]
  },
  {
   "cell_type": "markdown",
   "metadata": {},
   "source": [
    "## Visualization"
   ]
  },
  {
   "cell_type": "markdown",
   "metadata": {},
   "source": [
    "We show the distribution using a bar graph. The graph shows how unlikely picking exactly 2 bad apples is."
   ]
  },
  {
   "cell_type": "code",
   "execution_count": 6,
   "metadata": {},
   "outputs": [],
   "source": [
    "n, p = 3, 0.1"
   ]
  },
  {
   "cell_type": "code",
   "execution_count": 7,
   "metadata": {},
   "outputs": [
    {
     "data": {
      "text/plain": [
       "<matplotlib.collections.LineCollection at 0x127031510>"
      ]
     },
     "execution_count": 7,
     "metadata": {},
     "output_type": "execute_result"
    },
    {
     "data": {
      "image/png": "[encoded data removed]",
      "text/plain": [
       "<Figure size 432x288 with 1 Axes>"
      ]
     },
     "metadata": {
      "needs_background": "light"
     },
     "output_type": "display_data"
    }
   ],
   "source": [
    "x= np.arange(0,10)\n",
    "b = stats.binom.pmf(x,n,p)\n",
    "plt.title('Binomial distribution')\n",
    "plt.xlabel('x')\n",
    "plt.ylabel('P(x)')\n",
    "plt.plot(x,b,'bo', ms=8, label='binom pmf')\n",
    "plt.vlines(x, 0, b, colors='b', lw=5, alpha=0.5)"
   ]
  },
  {
   "cell_type": "markdown",
   "metadata": {},
   "source": [
    "Let's see how the graph shifts when we vary the value of $p$ while keeping $n$ fixed. \n",
    "\n",
    "Starting with n = 3 and p = 0.3, we choose 5 apples. What is the probability that 2 of the 5 are bad?"
   ]
  },
  {
   "cell_type": "code",
   "execution_count": 8,
   "metadata": {},
   "outputs": [
    {
     "data": {
      "text/plain": [
       "<matplotlib.collections.LineCollection at 0x1270a9090>"
      ]
     },
     "execution_count": 8,
     "metadata": {},
     "output_type": "execute_result"
    },
    {
     "data": {
      "image/png": "[encoded data removed]",
      "text/plain": [
       "<Figure size 432x288 with 1 Axes>"
      ]
     },
     "metadata": {
      "needs_background": "light"
     },
     "output_type": "display_data"
    }
   ],
   "source": [
    "n, p = 3, 0.3\n",
    "x= np.arange(0,10)\n",
    "b = stats.binom.pmf(x,n,p)\n",
    "plt.title('Binomial distribution')\n",
    "plt.xlabel('x')\n",
    "plt.ylabel('P(x)')\n",
    "plt.plot(x,b,'bo', ms=8, label='binom pmf')\n",
    "plt.vlines(x, 0, b, colors='b', lw=5, alpha=0.5)"
   ]
  },
  {
   "cell_type": "markdown",
   "metadata": {},
   "source": [
    "We see that as the probability increases of there being bad apples in the fruit stand, the chances of picking exactly 2 bad apples also goes up. The probability rises to 20%. Let's see what happens when the probability rises to 0.8, what are the chances of picking exactly two bad apples?"
   ]
  },
  {
   "cell_type": "code",
   "execution_count": 9,
   "metadata": {},
   "outputs": [
    {
     "data": {
      "text/plain": [
       "<matplotlib.collections.LineCollection at 0x1271ac5d0>"
      ]
     },
     "execution_count": 9,
     "metadata": {},
     "output_type": "execute_result"
    },
    {
     "data": {
      "image/png": "[encoded data removed]",
      "text/plain": [
       "<Figure size 432x288 with 1 Axes>"
      ]
     },
     "metadata": {
      "needs_background": "light"
     },
     "output_type": "display_data"
    }
   ],
   "source": [
    "n, p = 3, 0.8\n",
    "x= np.arange(0,10)\n",
    "b = stats.binom.pmf(x,n,p)\n",
    "plt.title('Binomial distribution')\n",
    "plt.xlabel('x')\n",
    "plt.ylabel('P(x)')\n",
    "plt.plot(x,b,'bo', ms=8, label='binom pmf')\n",
    "plt.vlines(x, 0, b, colors='b', lw=5, alpha=0.5)"
   ]
  },
  {
   "cell_type": "markdown",
   "metadata": {},
   "source": [
    "The probability goes up to 40% that you will choose exactly 2 bad apples."
   ]
  },
  {
   "cell_type": "markdown",
   "metadata": {},
   "source": [
    "## More on combinations\n",
    "\n",
    "The term $\\binom{n}{k}$ in the function,\n",
    "\\begin{align}\n",
    "p(k) &= \\binom{n}{k}p^x(1-p) \\text{ for }k= 0,1,2,3,\\ldots\\\\\n",
    "   ~ &= 0 \\text{ otherwise}\n",
    "\\end{align}\n",
    "\n",
    "is a way of selecting $k$ elements out of the $n$ elements without regard to the arrangement of the choosen elements. The formula is given as \n",
    "\\begin{align}\n",
    "\\binom{n}{k} &= \\dfrac{n!}{k!(n-k)!},\\\\\n",
    "\\end{align}\n",
    "where the term $n!$ is referred to as $n$-factorial and has the formula $$n! = n\\times(n-1)\\times\\ldots \\times (n-n + 1).$$ For example, $6! = 6 \\times 5 \\times 4 \\times 3 \\times 2 \\times 1.$\n"
   ]
  },
  {
   "cell_type": "markdown",
   "metadata": {},
   "source": [
    "In order to calculate combinations and permutations, we import the permutation and combination function from `scipy.misc`. "
   ]
  },
  {
   "cell_type": "code",
   "execution_count": 10,
   "metadata": {},
   "outputs": [
    {
     "name": "stdout",
     "output_type": "stream",
     "text": [
      "120\n",
      "720.0\n"
     ]
    },
    {
     "name": "stderr",
     "output_type": "stream",
     "text": [
      "/Users/michaelnana/opt/anaconda3/lib/python3.7/site-packages/ipykernel_launcher.py:3: DeprecationWarning: `comb` is deprecated!\n",
      "Importing `comb` from scipy.misc is deprecated in scipy 1.0.0. Use `scipy.special.comb` instead.\n",
      "  This is separate from the ipykernel package so we can avoid doing imports until\n",
      "/Users/michaelnana/opt/anaconda3/lib/python3.7/site-packages/ipykernel_launcher.py:4: DeprecationWarning: `factorial` is deprecated!\n",
      "Importing `factorial` from scipy.misc is deprecated in scipy 1.0.0. Use `scipy.special.factorial` instead.\n",
      "  after removing the cwd from sys.path.\n"
     ]
    }
   ],
   "source": [
    "from scipy.misc import factorial, comb\n",
    "\n",
    "print(comb(10, 3, exact=True)) # \n",
    "print(factorial(6))"
   ]
  },
  {
   "cell_type": "code",
   "execution_count": 11,
   "metadata": {},
   "outputs": [],
   "source": [
    "#!pip install factorial\n",
    "# !python3.7 -m pip install scipy==1.2 --upgrade"
   ]
  },
  {
   "cell_type": "markdown",
   "metadata": {},
   "source": [
    "Let's now shift gears and calculate point estimates of the binomial distribution that provide a quick summary of the distribution. We'll look at:\n",
    "\n",
    "* Expected Value\n",
    "* Variance\n",
    "* Standard Deviation\n",
    "\n",
    "\n",
    "## Expected value\n",
    "\n",
    "The expected value is the mean of a random variable. It is what is expected to happen in the long run after many trials of an experiment. So the expected value of choosing good a bad apple after 5 trials is $n*p$, where n is the number of trials and $p$ the probability of success (in this case, choosing a bad apple)."
   ]
  },
  {
   "cell_type": "code",
   "execution_count": 12,
   "metadata": {},
   "outputs": [
    {
     "data": {
      "text/plain": [
       "0.5"
      ]
     },
     "execution_count": 12,
     "metadata": {},
     "output_type": "execute_result"
    }
   ],
   "source": [
    "n = 5\n",
    "p = 0.1\n",
    "n*p"
   ]
  },
  {
   "cell_type": "markdown",
   "metadata": {},
   "source": [
    "## Variance\n",
    "\n",
    "The variance is given by $n*p(1-p)$. \n",
    "\n",
    "## Standard deviation\n",
    "\n",
    "The standard deviation equals $\\sqrt{n*p(1-p)}$"
   ]
  },
  {
   "cell_type": "code",
   "execution_count": 13,
   "metadata": {},
   "outputs": [
    {
     "name": "stdout",
     "output_type": "stream",
     "text": [
      "Mean 0.5\n",
      "Variance 0.45\n",
      "Standard deviation 0.6708203932499369\n"
     ]
    }
   ],
   "source": [
    "import math # import math to access sqrt\n",
    "print('Mean', n*p)\n",
    "print('Variance', n*p*(1-p))\n",
    "print('Standard deviation', math.sqrt(n*p*(1-p)))"
   ]
  },
  {
   "cell_type": "markdown",
   "metadata": {},
   "source": [
    "The random variable has mean 0.5. This means if you continue choosing apples at the stand, the average number of bad apples you come across would be 0.5 apples. "
   ]
  },
  {
   "cell_type": "markdown",
   "metadata": {},
   "source": [
    "## Cumulative probabillity distribution"
   ]
  },
  {
   "cell_type": "markdown",
   "metadata": {},
   "source": [
    "What is the probability of choosing 2 or less bad apples? We need to find the probability of choosing zero apples plus choosing one apple plus choosing two apples. A cumulative density function will help us answer this question. It is stated as follows:\n",
    "\n",
    "$$P(X \\leq 2) = P(0) + P(1) + P(2).$$\n",
    "\n",
    "The probability of choosing more than two bad apples from the fruit stand is gotten by subtracting one from the sum of probabilities that start at zero up to one.\n",
    "\n",
    "\\begin{align*}\n",
    "P(X \\geq 2) &=  1 - [P(X) \\leq 1] \\\\\n",
    "             &=  1 - [P(0) + P(1)] \\\\\n",
    "\\end{align*}\n",
    "\n"
   ]
  },
  {
   "cell_type": "code",
   "execution_count": 14,
   "metadata": {},
   "outputs": [
    {
     "data": {
      "text/plain": [
       "[<matplotlib.lines.Line2D at 0x1272ae050>]"
      ]
     },
     "execution_count": 14,
     "metadata": {},
     "output_type": "execute_result"
    },
    {
     "data": {
      "image/png": "[encoded data removed]",
      "text/plain": [
       "<Figure size 432x288 with 1 Axes>"
      ]
     },
     "metadata": {
      "needs_background": "light"
     },
     "output_type": "display_data"
    }
   ],
   "source": [
    "x = np.arange(0,10,.05)\n",
    "y = stats.binom.cdf(x,    # probability of k = 5 successes or less\n",
    "                10,       # with 10 trials\n",
    "                p)      # success probability 0.8\n",
    "plt.xlabel('x')\n",
    "plt.ylabel('Cumulative density, F(x)')\n",
    "plt.plot(x,y,'g-')"
   ]
  },
  {
   "cell_type": "markdown",
   "metadata": {},
   "source": [
    "### Exercise"
   ]
  },
  {
   "cell_type": "markdown",
   "metadata": {},
   "source": [
    "Using the cdf function, what is the probability of choosing 2 or less bad apples? What is the probability of choosing more than 2 bad apples?"
   ]
  },
  {
   "cell_type": "code",
   "execution_count": 15,
   "metadata": {},
   "outputs": [
    {
     "data": {
      "text/plain": [
       "0.999"
      ]
     },
     "execution_count": 15,
     "metadata": {},
     "output_type": "execute_result"
    }
   ],
   "source": [
    "# Let us use cdf function to compute the probability of choosing 2 or less bad apples\n",
    "X = stats.binom(3, 0.1) # Declare X to be a binomial random variable\n",
    "F2= X.cdf(2) # F(2) which is also P(X < 2)\n",
    "F2"
   ]
  },
  {
   "cell_type": "code",
   "execution_count": 16,
   "metadata": {},
   "outputs": [
    {
     "data": {
      "text/plain": [
       "0.0010000000000000009"
      ]
     },
     "execution_count": 16,
     "metadata": {},
     "output_type": "execute_result"
    }
   ],
   "source": [
    "# What is the probability of choosing more than 2 bad apples?\n",
    "1-F2 # Since P(X<2)+P(X>=2)= 1, we just then have P(X>=2)=1- P(X<2)= 1-F2"
   ]
  },
  {
   "cell_type": "markdown",
   "metadata": {},
   "source": [
    "## References\n",
    "For more on probability distributions see [Common Probability Distributions: The Data Scientist’s Crib Sheet](http://blog.cloudera.com/blog/2015/12/common-probability-distributions-the-data-scientists-crib-sheet/)."
   ]
  }
 ],
 "metadata": {
  "kernelspec": {
   "display_name": "Python 3",
   "language": "python",
   "name": "python3"
  },
  "language_info": {
   "codemirror_mode": {
    "name": "ipython",
    "version": 3
   },
   "file_extension": ".py",
   "mimetype": "text/x-python",
   "name": "python",
   "nbconvert_exporter": "python",
   "pygments_lexer": "ipython3",
   "version": "3.7.4"
  }
 },
 "nbformat": 4,
 "nbformat_minor": 2
}
